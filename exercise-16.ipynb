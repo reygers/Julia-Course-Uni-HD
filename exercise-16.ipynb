{
 "cells": [
  {
   "cell_type": "markdown",
   "metadata": {},
   "source": [
    "## Exercises: 16. Linear Algebra"
   ]
  },
  {
   "cell_type": "markdown",
   "metadata": {},
   "source": [
    "#### Problem 1\n"
   ]
  },
  {
   "cell_type": "markdown",
   "metadata": {},
   "source": [
    "Solve the linear equation\n",
    "\n",
    "$$ \\begin{pmatrix} \n",
    "3 & -2 & 0 \\\\\n",
    "-2 & 1 & -3 \\\\\n",
    "4 & 6 & 1\n",
    "\\end{pmatrix} \n",
    "\\begin{pmatrix}\n",
    "x \\\\\n",
    "y \\\\\n",
    "z\n",
    "\\end{pmatrix}\n",
    "=\n",
    "\\begin{pmatrix}\n",
    "8 \\\\\n",
    "-20 \\\\\n",
    "7\n",
    "\\end{pmatrix}\n",
    "$$"
   ]
  },
  {
   "cell_type": "markdown",
   "metadata": {},
   "source": [
    "#### Problem 2\n",
    "\n",
    "Verify that the sum of eigenvalues of the Pauli matrices \n",
    "\n",
    "$$ \n",
    "\\sigma_x = \\begin{pmatrix} \n",
    "0 & 1 \\\\\n",
    "1 & 0\n",
    "\\end{pmatrix},\\quad\n",
    "\\sigma_y = \\begin{pmatrix} \n",
    "0 & -i \\\\\n",
    "i & 0\n",
    "\\end{pmatrix},\\quad\n",
    "\\sigma_z = \\begin{pmatrix} \n",
    "1 & 0 \\\\\n",
    "0 & -1\n",
    "\\end{pmatrix}\n",
    "$$\n",
    "\n",
    "is equal to the trace.\n",
    "\n"
   ]
  },
  {
   "cell_type": "markdown",
   "metadata": {},
   "source": [
    "#### Problem 3\n",
    "\n",
    "Fit the function $f(x) = \\theta_1 + \\theta_2 x$ to the data points\n",
    "\n",
    "```julia\n",
    "# data\n",
    "x = [-0.6, -0.2, 0.2, 0.6]\n",
    "y = [5., 3., 5., 8.]\n",
    "σy = [2, 1, 1, 2];\n",
    "```"
   ]
  }
 ],
 "metadata": {
  "kernelspec": {
   "display_name": "Julia 1.10.2",
   "language": "julia",
   "name": "julia-1.10"
  },
  "language_info": {
   "file_extension": ".jl",
   "mimetype": "application/julia",
   "name": "julia",
   "version": "1.10.2"
  }
 },
 "nbformat": 4,
 "nbformat_minor": 2
}
