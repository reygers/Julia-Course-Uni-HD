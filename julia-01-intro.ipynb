{
 "cells": [
  {
   "cell_type": "markdown",
   "metadata": {
    "slideshow": {
     "slide_type": "slide"
    },
    "tags": []
   },
   "source": [
    "<style>\n",
    "/* Set font size for headers */\n",
    "h1, h2, h3, h4, h5, h6 {\n",
    "    font-size: 32px; /* Adjust as needed */\n",
    "}\n",
    "\n",
    "/* Set font size for paragraphs */\n",
    "p, li, ul {\n",
    "    font-size: 24px; /* Adjust as needed */\n",
    "}\n",
    "\n",
    "</style>\n",
    "\n",
    "Introduction to the Julia programming language\n",
    "\n",
    "![](images/julia-logo.svg)\n",
    "\n",
    "# 1 Introduction"
   ]
  },
  {
   "cell_type": "markdown",
   "metadata": {
    "slideshow": {
     "slide_type": "slide"
    }
   },
   "source": [
    "## Why Julia? (1)\n",
    "\n",
    "**Julia** is a relatively young (2012) programming language designed to be particularly effective for scientific workflows - the developers specifically call out Fortran and MATLAB as predecessors in this area.\n",
    "\n",
    "Compared to these, Julia has much of the dynamic and interactive expressiveness of languages such as *Python* (including functionality that is only provided there by the third-party *NumPy* library), whilst leveraging just-in-time compilation and specialization to allow performance approaching (and sometimes better than) high-performance compiled languages such as *C*, *C++*, *Modern Fortran* and *Rust*.\n",
    "\n",
    "From https://juliahep.github.io/JuliaHEP-2023/intro.html"
   ]
  },
  {
   "cell_type": "markdown",
   "metadata": {
    "slideshow": {
     "slide_type": "slide"
    }
   },
   "source": [
    "## Why Julia? (2)\n",
    "\n",
    "Solves the dual-language problem. From ThinkJulia.jl:\n",
    "\n",
    "*Julia is a unique programming language because it solves the so-called two languages problem. No other programming language is needed to write high-performance code. This does not mean it happens automatically. It is the responsibility of the programmer to optimize the code that forms a bottleneck but this can done in Julia itself.*\n",
    "\n",
    "* Open source and free: The whole language and all packages!\n",
    "* Easy to get started\n",
    "* Many third party libraries"
   ]
  },
  {
   "cell_type": "markdown",
   "metadata": {
    "slideshow": {
     "slide_type": "slide"
    }
   },
   "source": [
    "## Some of Julia's properties\n",
    "\n",
    "+ **High-performance** (usually within a factor of 0.5 of C; often at parity)\n",
    "+ **Full Unicode support** - including LaTeX markup support in REPL, and natural mathematical symbols for common operations ($\\sin^2\\theta + \\cos^2\\theta = 1$)\n",
    "+ **First-class support in Jupyter notebooks** (it's the *Ju* bit of the name)\n",
    "+ Supports generic programming (with *multiple dispatch*), functional-style method chaining, and other modern paradigms\n",
    "+ **Dynamic typing**, with efficient function specialization (via JIT) and optional typing supported deeply in language (unlike Python)\n",
    "+ Has an excellent, robust **built-in package manager** making installation and reproducible environments a breeze\n",
    "\n",
    "Julia is also just a really *fun* language to program in!"
   ]
  },
  {
   "cell_type": "markdown",
   "metadata": {
    "slideshow": {
     "slide_type": "slide"
    }
   },
   "source": [
    "## A small example code showing the Julia performance\n",
    "\n",
    "We will estimate π using the equation:\n",
    "$π = 4 \\times \\left(1 - \\dfrac{1}{3} + \\dfrac{1}{5} - \\dfrac{1}{7} + \\dfrac{1}{9}-\\dfrac{1}{11}+\\dots\\right)$\n",
    "\n",
    "There are much better ways to estimate π, but this one is easy to implement."
   ]
  },
  {
   "cell_type": "code",
   "execution_count": 2,
   "metadata": {},
   "outputs": [
    {
     "name": "stdout",
     "output_type": "stream",
     "text": [
      "π ≈ 3.141592663589326\n",
      "Error is 9.999532757376528e-9\n"
     ]
    }
   ],
   "source": [
    "function estimate_pi(n)\n",
    "    s = 1.0\n",
    "    for i in 1:n\n",
    "        s += (isodd(i) ? -1 : 1) / (2i + 1)\n",
    "    end\n",
    "    4s\n",
    "end\n",
    "\n",
    "p = estimate_pi(100_000_000)\n",
    "println(\"π ≈ $p\")\n",
    "println(\"Error is $(p - π)\")\n",
    "# takes 0.2 s on first execution, then 0.1 s "
   ]
  },
  {
   "cell_type": "markdown",
   "metadata": {
    "slideshow": {
     "slide_type": "slide"
    }
   },
   "source": [
    "The corresponding Python code is about a factor 100 slower:\n",
    "\n",
    "```python\n",
    "import math\n",
    "\n",
    "def estimate_pi(n):\n",
    "    s = 1.0\n",
    "    for i in range(1, n + 1):\n",
    "        s += (-1 if i % 2 else 1) / (2 * i + 1)\n",
    "    return 4 * s\n",
    "\n",
    "p = estimate_pi(100_000_000)\n",
    "print(f\"π ≈ {p}\")\n",
    "print(f\"Error is {p - math.pi}\")\n",
    "```\n",
    "\n",
    "Takes 6.8 s in Python:<br>\n",
    "```π ≈ 3.141592663589326``` <br>\n",
    "```Error is 9.999532757376528e-09```"
   ]
  },
  {
   "cell_type": "markdown",
   "metadata": {
    "slideshow": {
     "slide_type": "slide"
    }
   },
   "source": [
    "## My programming background\n",
    "\n",
    "* BASIC on a Commodore C64\n",
    "* Assembler on a MOS 6510 CPU (C64)\n",
    "* Pascal (in school, in particular UCSD Pascal and Turbo Pascal)\n",
    "* FORTRAN 77 (for doctoral thesis)\n",
    "* C/C++\n",
    "* Mathematica/Wolfram language\n",
    "* Perl\n",
    "* Python\n",
    "* Julia"
   ]
  },
  {
   "cell_type": "markdown",
   "metadata": {
    "slideshow": {
     "slide_type": "slide"
    }
   },
   "source": [
    "## Julia vs Python pros and cons\n",
    "\n",
    "* Julia combines elegance, productivity, and performance. As easy to learn as Python.\n",
    "* However, at the moment, Python seems to be the most popular general programming language. Often used as a glue language to integrate several components.\n",
    "* The Python ecosystem is more mature, especially when it comes to machine learning.\n",
    "* In Python it feels really strange though to me that all performance-critical code needs to done with external libraries.\n",
    "* Will Python become faster in the future? Maybe. And there are tools like [numba](https://numba.pydata.org).\n",
    "* The Python performance problem is also addressed by [Mojo](https://www.modular.com/max/mojo) which mentions a speedup vs Python 3.10 of a factor 68000.\n",
    "* Hard to tell how this plays out in the future ..."
   ]
  },
  {
   "cell_type": "markdown",
   "metadata": {
    "slideshow": {
     "slide_type": "slide"
    }
   },
   "source": [
    "## Speeding up Python code\n",
    "\n",
    "```python\n",
    "import numba\n",
    "\n",
    "@numba.jit\n",
    "def estimate_pi(n):\n",
    "    s = 1.0\n",
    "    for i in range(1, n + 1):\n",
    "        s += (-1 if i % 2 else 1) / (2 * i + 1)\n",
    "    return 4 * s\n",
    "\n",
    "p = estimate_pi(100_000_000)\n",
    "print(f\"π ≈ {p}\")\n",
    "print(f\"Error is {p - math.pi}\")\n",
    "````\n",
    "\n",
    "After Just-in-time compilation this takes 0.1 s\n",
    "```\n",
    "π ≈ 3.141592663589326\n",
    "Error is 9.999532757376528e-09\n",
    "```"
   ]
  },
  {
   "cell_type": "markdown",
   "metadata": {
    "slideshow": {
     "slide_type": "slide"
    }
   },
   "source": [
    "## Should I learn any programming language at all in view of ChatGPT & Co?\n",
    "\n",
    "**Q**: Can you provide a julia function that calculates pi based on an a sum of inverse integers?\n",
    "\n",
    "**ChatGPT 3.5**: Certainly! You can use the famous Gregory-Leibniz series to approximate π. This series states that:\n",
    "\n",
    "π/4 = 1 - 1/3 + 1/5 - 1/7 + 1/9 - ...\n",
    "\n",
    "Here's a Julia function that calculates π using this series up to a specified number of terms:"
   ]
  },
  {
   "cell_type": "code",
   "execution_count": 1,
   "metadata": {
    "slideshow": {
     "slide_type": "slide"
    }
   },
   "outputs": [
    {
     "name": "stdout",
     "output_type": "stream",
     "text": [
      "Approximation of Pi using 1000000 terms: 3.1415916535897743\n"
     ]
    }
   ],
   "source": [
    "function calculate_pi(num_terms::Int)\n",
    "    pi_estimate = 0.0\n",
    "    sign = 1.0\n",
    "    \n",
    "    for i in 1:num_terms\n",
    "        pi_estimate += sign / (2*i - 1)\n",
    "        sign *= -1\n",
    "    end\n",
    "    \n",
    "    return 4 * pi_estimate\n",
    "end\n",
    "\n",
    "# Example usage:\n",
    "num_terms = 1000000\n",
    "pi_approximation = calculate_pi(num_terms)\n",
    "println(\"Approximation of Pi using $num_terms terms: \", pi_approximation)"
   ]
  },
  {
   "cell_type": "markdown",
   "metadata": {},
   "source": [
    "That is certainly impressive. One has to focus less on details like the syntax of a language. LLM's a helpful to achieve a programming goal faster. However, a general understanding of concepts remains crucial."
   ]
  },
  {
   "cell_type": "markdown",
   "metadata": {
    "slideshow": {
     "slide_type": "slide"
    }
   },
   "source": [
    "## Prospects for Julia High Energy Physics\n",
    "\n",
    "Widely used programming languages in physics (from [Jim Pivarski, IRIS-HEP](https://indico.cern.ch/event/1074269/contributions/4539625/attachments/2316596/3943743/main.pdf)): \n",
    "\n",
    "![](images/timeline-computing-in-physics.png)\n",
    "\n",
    "See https://github.com/JuliaHEP for HEP tool, e.g., for reading root files.\n",
    "\n",
    "Further reading: Tamas Gal, [Is Julia ready to be adopted by HEP?](https://indico.jlab.org/event/459/contributions/11521/attachments/9507/13783/Julia%20in%20HEP.pdf)\n",
    "\n"
   ]
  },
  {
   "cell_type": "markdown",
   "metadata": {
    "slideshow": {
     "slide_type": "slide"
    }
   },
   "source": [
    "## Resources used for this course\n",
    "* https://julialang.org\n",
    "* https://docs.julialang.org\n",
    "* https://julialang.org/learning/\n",
    "* https://juliahep.github.io/JuliaHEP-2023/intro.html\n",
    "* [Julia Course, Lund University](https://www.control.lth.se/education/doctorate-program/julia-course/julia-course-2019/)\n",
    "* [Think Julia](https://benlauwens.github.io/ThinkJulia.jl/latest/book.html)\n",
    "* [Julia_for_Pythonistas.ipynb](https://colab.research.google.com/github/ageron/julia_notebooks/blob/master/Julia_for_Pythonistas.ipynb)\n",
    "* [Julia for Optimization and Learning (Czech Technical University)](https://juliateachingctu.github.io/Julia-for-Optimization-and-Learning/stable/)"
   ]
  },
  {
   "cell_type": "markdown",
   "metadata": {
    "slideshow": {
     "slide_type": "slide"
    }
   },
   "source": [
    "## More useful links\n",
    "\n",
    "General\n",
    "\n",
    "* Oliver Schulz, [Why Julia? Motivation and comparison to other languages](https://indico.cern.ch/event/1074269/contributions/4539601/attachments/2317518/3945412/why-julia%20slides.pdf)\n",
    "* Jonas Eschle et al., [Potential of the Julia Programming Language for High Energy Physics Computing](https://arxiv.org/pdf/2306.03675), Comput.Softw.Big Sci. 7 (2023) 1, 10 (arXiv 2306.03675)\n",
    "* Jeffrey M. Perkel, [Julia: come for the syntax, stay for the speed](https://www.nature.com/articles/d41586-019-02310-3), Nature 572, 141-142 (2019)\n",
    "* Matthijs Cox, [How to solve the two language problem?](https://scientificcoder.com/how-to-solve-the-two-language-problem)\n",
    "\n",
    "\n",
    "Practical tips\n",
    "\n",
    "* [Julia cheatsheet](https://cheatsheets.quantecon.org/julia-cheatsheet.html)\n",
    "* [The Fast Track to Julia: A quick and dirty overview](https://cheatsheet.juliadocs.org)\n",
    "* [100 Julia exercises with solutions](https://pythonjulia.blogspot.com/2022/03/100-julia-exercises-with-solutions.html)"
   ]
  }
 ],
 "metadata": {
  "kernelspec": {
   "display_name": "Julia 1.10.2",
   "language": "julia",
   "name": "julia-1.10"
  },
  "language_info": {
   "file_extension": ".jl",
   "mimetype": "application/julia",
   "name": "julia",
   "version": "1.10.2"
  }
 },
 "nbformat": 4,
 "nbformat_minor": 4
}
