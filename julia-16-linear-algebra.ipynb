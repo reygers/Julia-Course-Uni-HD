{
 "cells": [
  {
   "cell_type": "markdown",
   "id": "0005d92b",
   "metadata": {},
   "source": [
    "<style>\n",
    "/* Set font size for headers */\n",
    "h1, h2, h3, h4, h5, h6 {\n",
    "    font-size: 32px; /* Adjust as needed */\n",
    "}\n",
    "\n",
    "/* Set font size for paragraphs */\n",
    "p, li, ul {\n",
    "    font-size: 24px; /* Adjust as needed */\n",
    "}\n",
    "</style>\n",
    "\n",
    "\n",
    "Introduction to the Julia programming language\n",
    "\n",
    "![](images/julia-logo.svg)\n",
    "\n",
    "## 16 Linear Algebra"
   ]
  },
  {
   "cell_type": "markdown",
   "id": "66e28e0a",
   "metadata": {
    "slideshow": {
     "slide_type": "slide"
    }
   },
   "source": [
    "## Basics"
   ]
  },
  {
   "cell_type": "code",
   "execution_count": 70,
   "id": "e3cb3cf0",
   "metadata": {},
   "outputs": [
    {
     "data": {
      "text/plain": [
       "3×3 Matrix{Int64}:\n",
       " 1  2  3\n",
       " 4  1  6\n",
       " 7  8  1"
      ]
     },
     "metadata": {},
     "output_type": "display_data"
    }
   ],
   "source": [
    "A = [1 2 3; 4 1 6; 7 8 1]"
   ]
  },
  {
   "cell_type": "code",
   "execution_count": 71,
   "id": "928a079d",
   "metadata": {},
   "outputs": [
    {
     "data": {
      "text/plain": [
       "3"
      ]
     },
     "metadata": {},
     "output_type": "display_data"
    }
   ],
   "source": [
    "tr(A)"
   ]
  },
  {
   "cell_type": "code",
   "execution_count": 72,
   "id": "0caac6b9",
   "metadata": {},
   "outputs": [
    {
     "data": {
      "text/plain": [
       "104.0"
      ]
     },
     "metadata": {},
     "output_type": "display_data"
    }
   ],
   "source": [
    "det(A)"
   ]
  },
  {
   "cell_type": "code",
   "execution_count": 73,
   "id": "aa61bf09",
   "metadata": {},
   "outputs": [
    {
     "data": {
      "text/plain": [
       "3×3 Matrix{Float64}:\n",
       " -0.451923   0.211538    0.0865385\n",
       "  0.365385  -0.192308    0.0576923\n",
       "  0.240385   0.0576923  -0.0673077"
      ]
     },
     "metadata": {},
     "output_type": "display_data"
    }
   ],
   "source": [
    "inv(A)"
   ]
  },
  {
   "cell_type": "markdown",
   "id": "4edda10f",
   "metadata": {
    "slideshow": {
     "slide_type": "slide"
    }
   },
   "source": [
    "## Eigenvalues and eigenvectors"
   ]
  },
  {
   "cell_type": "code",
   "execution_count": 74,
   "id": "f2c6db5a",
   "metadata": {},
   "outputs": [
    {
     "data": {
      "text/plain": [
       "2×2 Matrix{Float64}:\n",
       " -4.0  -17.0\n",
       "  2.0    2.0"
      ]
     },
     "metadata": {},
     "output_type": "display_data"
    }
   ],
   "source": [
    "A = [-4. -17.; 2. 2.]"
   ]
  },
  {
   "cell_type": "code",
   "execution_count": 75,
   "id": "c4c7ceba",
   "metadata": {},
   "outputs": [
    {
     "data": {
      "text/plain": [
       "2-element Vector{ComplexF64}:\n",
       " -1.0000000000000002 - 5.000000000000001im\n",
       " -1.0000000000000002 + 5.000000000000001im"
      ]
     },
     "metadata": {},
     "output_type": "display_data"
    }
   ],
   "source": [
    "eigvals(A)"
   ]
  },
  {
   "cell_type": "code",
   "execution_count": 76,
   "id": "a8862909",
   "metadata": {},
   "outputs": [
    {
     "data": {
      "text/plain": [
       "2×2 Matrix{ComplexF64}:\n",
       "  0.945905-0.0im        0.945905+0.0im\n",
       " -0.166924+0.278207im  -0.166924-0.278207im"
      ]
     },
     "metadata": {},
     "output_type": "display_data"
    }
   ],
   "source": [
    "eigvecs(A)"
   ]
  },
  {
   "cell_type": "markdown",
   "id": "2eb67a0f",
   "metadata": {
    "slideshow": {
     "slide_type": "slide"
    }
   },
   "source": [
    "## Solving a linear equation\n",
    "\n",
    "$$ \\begin{pmatrix} 1 & 1 \\\\ 1 & -1\\end{pmatrix} \\vec x = \\begin{pmatrix} 2 \\\\ 0 \\end{pmatrix} $$"
   ]
  },
  {
   "cell_type": "code",
   "execution_count": 5,
   "id": "d3bc4a09",
   "metadata": {},
   "outputs": [
    {
     "data": {
      "text/plain": [
       "2-element Vector{Float64}:\n",
       " 1.0\n",
       " 1.0"
      ]
     },
     "metadata": {},
     "output_type": "display_data"
    }
   ],
   "source": [
    "m = [ 1 1; 1 -1] \\ [2 ; 0]"
   ]
  },
  {
   "cell_type": "markdown",
   "id": "0b703c72",
   "metadata": {},
   "source": [
    "Compare Python code\n",
    "\n",
    "```python\n",
    "import numpy as np\n",
    "m = np.linalg.solve(\n",
    "    np.array([[1, 1], [1, -1]]),\n",
    "    np.array([2, 0])\n",
    ")\n",
    "```"
   ]
  },
  {
   "cell_type": "markdown",
   "id": "b5722c76",
   "metadata": {
    "slideshow": {
     "slide_type": "slide"
    }
   },
   "source": [
    "## Example: linear least squares fit\n",
    "\n",
    "![](images/linear-least-squares.png)\n",
    "\n",
    "See lecture [Statistical Methods in Particle Physics, slide 6](https://www.physi.uni-heidelberg.de/~reygers/lectures/2020/smipp/stat_methods_ws2020_06_least_squares.pdf)\n"
   ]
  },
  {
   "cell_type": "code",
   "execution_count": 81,
   "id": "e3a14532",
   "metadata": {
    "slideshow": {
     "slide_type": "slide"
    }
   },
   "outputs": [],
   "source": [
    "# data\n",
    "x = [-0.6, -0.2, 0.2, 0.6]\n",
    "y = [5., 3., 5., 8.]\n",
    "σ = [2, 1, 1, 2];"
   ]
  },
  {
   "cell_type": "code",
   "execution_count": 82,
   "id": "77f799b7",
   "metadata": {},
   "outputs": [
    {
     "data": {
      "text/plain": [
       "3-element Vector{Float64}:\n",
       " 3.6875000000000004\n",
       " 3.2692307692307687\n",
       " 7.812500000000001"
      ]
     },
     "metadata": {},
     "output_type": "display_data"
    }
   ],
   "source": [
    "using LinearAlgebra\n",
    "V = Diagonal(σ .* σ)\n",
    "A = [ones(size(x)) x x.^2] # design matrix\n",
    "\n",
    "U = inv(A' * inv(V) * A)\n",
    "L = U * A' * inv(V)\n",
    "\n",
    "# the vector of the fit parameters\n",
    "θ = L * y"
   ]
  },
  {
   "cell_type": "code",
   "execution_count": 83,
   "id": "cad5c2dd",
   "metadata": {
    "slideshow": {
     "slide_type": "slide"
    }
   },
   "outputs": [
    {
     "data": {
      "image/png": "[encoded data removed]",
      "image/svg+xml": [
       "<?xml version=\"1.0\" encoding=\"utf-8\"?>\n",
       "<svg xmlns=\"http://www.w3.org/2000/svg\" xmlns:xlink=\"http://www.w3.org/1999/xlink\" width=\"400\" height=\"300\" viewBox=\"0 0 1600 1200\">\n",
       "<defs>\n",
       "  <clipPath id=\"clip600\">\n",
       "    <rect x=\"0\" y=\"0\" width=\"1600\" height=\"1200\"/>\n",
       "  </clipPath>\n",
       "</defs>\n",
       "<path clip-path=\"url(#clip600)\" d=\"M0 1200 L1600 1200 L1600 0 L0 0  Z\" fill=\"#ffffff\" fill-rule=\"evenodd\" fill-opacity=\"1\"/>\n",
       "<defs>\n",
       "  <clipPath id=\"clip601\">\n",
       "    <rect x=\"320\" y=\"0\" width=\"1121\" height=\"1121\"/>\n",
       "  </clipPath>\n",
       "</defs>\n",
       "<path clip-path=\"url(#clip600)\" d=\"M132.696 1086.13 L1552.76 1086.13 L1552.76 47.2441 L132.696 47.2441  Z\" fill=\"#ffffff\" fill-rule=\"evenodd\" fill-opacity=\"1\"/>\n",
       "<defs>\n",
       "  <clipPath id=\"clip602\">\n",
       "    <rect x=\"132\" y=\"47\" width=\"1421\" height=\"1040\"/>\n",
       "  </clipPath>\n",
       "</defs>\n",
       "<polyline clip-path=\"url(#clip602)\" style=\"stroke:#000000; stroke-linecap:round; stroke-linejoin:round; stroke-width:2; stroke-opacity:0.1; fill:none\" points=\"172.886,1086.13 172.886,47.2441 \"/>\n",
       "<polyline clip-path=\"url(#clip602)\" style=\"stroke:#000000; stroke-linecap:round; stroke-linejoin:round; stroke-width:2; stroke-opacity:0.1; fill:none\" points=\"507.806,1086.13 507.806,47.2441 \"/>\n",
       "<polyline clip-path=\"url(#clip602)\" style=\"stroke:#000000; stroke-linecap:round; stroke-linejoin:round; stroke-width:2; stroke-opacity:0.1; fill:none\" points=\"842.726,1086.13 842.726,47.2441 \"/>\n",
       "<polyline clip-path=\"url(#clip602)\" style=\"stroke:#000000; stroke-linecap:round; stroke-linejoin:round; stroke-width:2; stroke-opacity:0.1; fill:none\" points=\"1177.65,1086.13 1177.65,47.2441 \"/>\n",
       "<polyline clip-path=\"url(#clip602)\" style=\"stroke:#000000; stroke-linecap:round; stroke-linejoin:round; stroke-width:2; stroke-opacity:0.1; fill:none\" points=\"1512.57,1086.13 1512.57,47.2441 \"/>\n",
       "<polyline clip-path=\"url(#clip600)\" style=\"stroke:#000000; stroke-linecap:round; stroke-linejoin:round; stroke-width:4; stroke-opacity:1; fill:none\" points=\"132.696,1086.13 1552.76,1086.13 \"/>\n",
       "<polyline clip-path=\"url(#clip600)\" style=\"stroke:#000000; stroke-linecap:round; stroke-linejoin:round; stroke-width:4; stroke-opacity:1; fill:none\" points=\"172.886,1086.13 172.886,1067.23 \"/>\n",
       "<polyline clip-path=\"url(#clip600)\" style=\"stroke:#000000; stroke-linecap:round; stroke-linejoin:round; stroke-width:4; stroke-opacity:1; fill:none\" points=\"507.806,1086.13 507.806,1067.23 \"/>\n",
       "<polyline clip-path=\"url(#clip600)\" style=\"stroke:#000000; stroke-linecap:round; stroke-linejoin:round; stroke-width:4; stroke-opacity:1; fill:none\" points=\"842.726,1086.13 842.726,1067.23 \"/>\n",
       "<polyline clip-path=\"url(#clip600)\" style=\"stroke:#000000; stroke-linecap:round; stroke-linejoin:round; stroke-width:4; stroke-opacity:1; fill:none\" points=\"1177.65,1086.13 1177.65,1067.23 \"/>\n",
       "<polyline clip-path=\"url(#clip600)\" style=\"stroke:#000000; stroke-linecap:round; stroke-linejoin:round; stroke-width:4; stroke-opacity:1; fill:none\" points=\"1512.57,1086.13 1512.57,1067.23 \"/>\n",
       "<path clip-path=\"url(#clip600)\" d=\"M119.414 1125.3 L149.09 1125.3 L149.09 1129.23 L119.414 1129.23 L119.414 1125.3 Z\" fill=\"#000000\" fill-rule=\"nonzero\" fill-opacity=\"1\" /><path clip-path=\"url(#clip600)\" d=\"M159.992 1138.19 L167.631 1138.19 L167.631 1111.83 L159.321 1113.49 L159.321 1109.23 L167.585 1107.57 L172.261 1107.57 L172.261 1138.19 L179.9 1138.19 L179.9 1142.13 L159.992 1142.13 L159.992 1138.19 Z\" fill=\"#000000\" fill-rule=\"nonzero\" fill-opacity=\"1\" /><path clip-path=\"url(#clip600)\" d=\"M189.344 1136.25 L194.228 1136.25 L194.228 1142.13 L189.344 1142.13 L189.344 1136.25 Z\" fill=\"#000000\" fill-rule=\"nonzero\" fill-opacity=\"1\" /><path clip-path=\"url(#clip600)\" d=\"M214.413 1110.65 Q210.802 1110.65 208.974 1114.21 Q207.168 1117.75 207.168 1124.88 Q207.168 1131.99 208.974 1135.55 Q210.802 1139.1 214.413 1139.1 Q218.048 1139.1 219.853 1135.55 Q221.682 1131.99 221.682 1124.88 Q221.682 1117.75 219.853 1114.21 Q218.048 1110.65 214.413 1110.65 M214.413 1106.94 Q220.224 1106.94 223.279 1111.55 Q226.358 1116.13 226.358 1124.88 Q226.358 1133.61 223.279 1138.22 Q220.224 1142.8 214.413 1142.8 Q208.603 1142.8 205.525 1138.22 Q202.469 1133.61 202.469 1124.88 Q202.469 1116.13 205.525 1111.55 Q208.603 1106.94 214.413 1106.94 Z\" fill=\"#000000\" fill-rule=\"nonzero\" fill-opacity=\"1\" /><path clip-path=\"url(#clip600)\" d=\"M454.832 1125.3 L484.507 1125.3 L484.507 1129.23 L454.832 1129.23 L454.832 1125.3 Z\" fill=\"#000000\" fill-rule=\"nonzero\" fill-opacity=\"1\" /><path clip-path=\"url(#clip600)\" d=\"M504.6 1110.65 Q500.989 1110.65 499.16 1114.21 Q497.354 1117.75 497.354 1124.88 Q497.354 1131.99 499.16 1135.55 Q500.989 1139.1 504.6 1139.1 Q508.234 1139.1 510.04 1135.55 Q511.868 1131.99 511.868 1124.88 Q511.868 1117.75 510.04 1114.21 Q508.234 1110.65 504.6 1110.65 M504.6 1106.94 Q510.41 1106.94 513.466 1111.55 Q516.544 1116.13 516.544 1124.88 Q516.544 1133.61 513.466 1138.22 Q510.41 1142.8 504.6 1142.8 Q498.79 1142.8 495.711 1138.22 Q492.655 1133.61 492.655 1124.88 Q492.655 1116.13 495.711 1111.55 Q498.79 1106.94 504.6 1106.94 Z\" fill=\"#000000\" fill-rule=\"nonzero\" fill-opacity=\"1\" /><path clip-path=\"url(#clip600)\" d=\"M524.762 1136.25 L529.646 1136.25 L529.646 1142.13 L524.762 1142.13 L524.762 1136.25 Z\" fill=\"#000000\" fill-rule=\"nonzero\" fill-opacity=\"1\" /><path clip-path=\"url(#clip600)\" d=\"M539.877 1107.57 L558.234 1107.57 L558.234 1111.5 L544.16 1111.5 L544.16 1119.98 Q545.178 1119.63 546.197 1119.47 Q547.215 1119.28 548.234 1119.28 Q554.021 1119.28 557.4 1122.45 Q560.78 1125.62 560.78 1131.04 Q560.78 1136.62 557.308 1139.72 Q553.836 1142.8 547.516 1142.8 Q545.34 1142.8 543.072 1142.43 Q540.826 1142.06 538.419 1141.32 L538.419 1136.62 Q540.502 1137.75 542.725 1138.31 Q544.947 1138.86 547.424 1138.86 Q551.428 1138.86 553.766 1136.76 Q556.104 1134.65 556.104 1131.04 Q556.104 1127.43 553.766 1125.32 Q551.428 1123.22 547.424 1123.22 Q545.549 1123.22 543.674 1123.63 Q541.822 1124.05 539.877 1124.93 L539.877 1107.57 Z\" fill=\"#000000\" fill-rule=\"nonzero\" fill-opacity=\"1\" /><path clip-path=\"url(#clip600)\" d=\"M820.11 1110.65 Q816.499 1110.65 814.67 1114.21 Q812.865 1117.75 812.865 1124.88 Q812.865 1131.99 814.67 1135.55 Q816.499 1139.1 820.11 1139.1 Q823.744 1139.1 825.55 1135.55 Q827.379 1131.99 827.379 1124.88 Q827.379 1117.75 825.55 1114.21 Q823.744 1110.65 820.11 1110.65 M820.11 1106.94 Q825.92 1106.94 828.976 1111.55 Q832.054 1116.13 832.054 1124.88 Q832.054 1133.61 828.976 1138.22 Q825.92 1142.8 820.11 1142.8 Q814.3 1142.8 811.221 1138.22 Q808.166 1133.61 808.166 1124.88 Q808.166 1116.13 811.221 1111.55 Q814.3 1106.94 820.11 1106.94 Z\" fill=\"#000000\" fill-rule=\"nonzero\" fill-opacity=\"1\" /><path clip-path=\"url(#clip600)\" d=\"M840.272 1136.25 L845.156 1136.25 L845.156 1142.13 L840.272 1142.13 L840.272 1136.25 Z\" fill=\"#000000\" fill-rule=\"nonzero\" fill-opacity=\"1\" /><path clip-path=\"url(#clip600)\" d=\"M865.341 1110.65 Q861.73 1110.65 859.902 1114.21 Q858.096 1117.75 858.096 1124.88 Q858.096 1131.99 859.902 1135.55 Q861.73 1139.1 865.341 1139.1 Q868.976 1139.1 870.781 1135.55 Q872.61 1131.99 872.61 1124.88 Q872.61 1117.75 870.781 1114.21 Q868.976 1110.65 865.341 1110.65 M865.341 1106.94 Q871.151 1106.94 874.207 1111.55 Q877.286 1116.13 877.286 1124.88 Q877.286 1133.61 874.207 1138.22 Q871.151 1142.8 865.341 1142.8 Q859.531 1142.8 856.453 1138.22 Q853.397 1133.61 853.397 1124.88 Q853.397 1116.13 856.453 1111.55 Q859.531 1106.94 865.341 1106.94 Z\" fill=\"#000000\" fill-rule=\"nonzero\" fill-opacity=\"1\" /><path clip-path=\"url(#clip600)\" d=\"M1155.53 1110.65 Q1151.92 1110.65 1150.09 1114.21 Q1148.28 1117.75 1148.28 1124.88 Q1148.28 1131.99 1150.09 1135.55 Q1151.92 1139.1 1155.53 1139.1 Q1159.16 1139.1 1160.97 1135.55 Q1162.8 1131.99 1162.8 1124.88 Q1162.8 1117.75 1160.97 1114.21 Q1159.16 1110.65 1155.53 1110.65 M1155.53 1106.94 Q1161.34 1106.94 1164.39 1111.55 Q1167.47 1116.13 1167.47 1124.88 Q1167.47 1133.61 1164.39 1138.22 Q1161.34 1142.8 1155.53 1142.8 Q1149.72 1142.8 1146.64 1138.22 Q1143.58 1133.61 1143.58 1124.88 Q1143.58 1116.13 1146.64 1111.55 Q1149.72 1106.94 1155.53 1106.94 Z\" fill=\"#000000\" fill-rule=\"nonzero\" fill-opacity=\"1\" /><path clip-path=\"url(#clip600)\" d=\"M1175.69 1136.25 L1180.57 1136.25 L1180.57 1142.13 L1175.69 1142.13 L1175.69 1136.25 Z\" fill=\"#000000\" fill-rule=\"nonzero\" fill-opacity=\"1\" /><path clip-path=\"url(#clip600)\" d=\"M1190.81 1107.57 L1209.16 1107.57 L1209.16 1111.5 L1195.09 1111.5 L1195.09 1119.98 Q1196.11 1119.63 1197.12 1119.47 Q1198.14 1119.28 1199.16 1119.28 Q1204.95 1119.28 1208.33 1122.45 Q1211.71 1125.62 1211.71 1131.04 Q1211.71 1136.62 1208.24 1139.72 Q1204.76 1142.8 1198.44 1142.8 Q1196.27 1142.8 1194 1142.43 Q1191.75 1142.06 1189.35 1141.32 L1189.35 1136.62 Q1191.43 1137.75 1193.65 1138.31 Q1195.87 1138.86 1198.35 1138.86 Q1202.36 1138.86 1204.69 1136.76 Q1207.03 1134.65 1207.03 1131.04 Q1207.03 1127.43 1204.69 1125.32 Q1202.36 1123.22 1198.35 1123.22 Q1196.48 1123.22 1194.6 1123.63 Q1192.75 1124.05 1190.81 1124.93 L1190.81 1107.57 Z\" fill=\"#000000\" fill-rule=\"nonzero\" fill-opacity=\"1\" /><path clip-path=\"url(#clip600)\" d=\"M1479.72 1138.19 L1487.36 1138.19 L1487.36 1111.83 L1479.05 1113.49 L1479.05 1109.23 L1487.31 1107.57 L1491.99 1107.57 L1491.99 1138.19 L1499.63 1138.19 L1499.63 1142.13 L1479.72 1142.13 L1479.72 1138.19 Z\" fill=\"#000000\" fill-rule=\"nonzero\" fill-opacity=\"1\" /><path clip-path=\"url(#clip600)\" d=\"M1509.07 1136.25 L1513.95 1136.25 L1513.95 1142.13 L1509.07 1142.13 L1509.07 1136.25 Z\" fill=\"#000000\" fill-rule=\"nonzero\" fill-opacity=\"1\" /><path clip-path=\"url(#clip600)\" d=\"M1534.14 1110.65 Q1530.53 1110.65 1528.7 1114.21 Q1526.89 1117.75 1526.89 1124.88 Q1526.89 1131.99 1528.7 1135.55 Q1530.53 1139.1 1534.14 1139.1 Q1537.77 1139.1 1539.58 1135.55 Q1541.41 1131.99 1541.41 1124.88 Q1541.41 1117.75 1539.58 1114.21 Q1537.77 1110.65 1534.14 1110.65 M1534.14 1106.94 Q1539.95 1106.94 1543.01 1111.55 Q1546.08 1116.13 1546.08 1124.88 Q1546.08 1133.61 1543.01 1138.22 Q1539.95 1142.8 1534.14 1142.8 Q1528.33 1142.8 1525.25 1138.22 Q1522.2 1133.61 1522.2 1124.88 Q1522.2 1116.13 1525.25 1111.55 Q1528.33 1106.94 1534.14 1106.94 Z\" fill=\"#000000\" fill-rule=\"nonzero\" fill-opacity=\"1\" /><polyline clip-path=\"url(#clip602)\" style=\"stroke:#000000; stroke-linecap:round; stroke-linejoin:round; stroke-width:2; stroke-opacity:0.1; fill:none\" points=\"132.696,890.163 1552.76,890.163 \"/>\n",
       "<polyline clip-path=\"url(#clip602)\" style=\"stroke:#000000; stroke-linecap:round; stroke-linejoin:round; stroke-width:2; stroke-opacity:0.1; fill:none\" points=\"132.696,612.56 1552.76,612.56 \"/>\n",
       "<polyline clip-path=\"url(#clip602)\" style=\"stroke:#000000; stroke-linecap:round; stroke-linejoin:round; stroke-width:2; stroke-opacity:0.1; fill:none\" points=\"132.696,334.956 1552.76,334.956 \"/>\n",
       "<polyline clip-path=\"url(#clip602)\" style=\"stroke:#000000; stroke-linecap:round; stroke-linejoin:round; stroke-width:2; stroke-opacity:0.1; fill:none\" points=\"132.696,57.3521 1552.76,57.3521 \"/>\n",
       "<polyline clip-path=\"url(#clip600)\" style=\"stroke:#000000; stroke-linecap:round; stroke-linejoin:round; stroke-width:4; stroke-opacity:1; fill:none\" points=\"132.696,1086.13 132.696,47.2441 \"/>\n",
       "<polyline clip-path=\"url(#clip600)\" style=\"stroke:#000000; stroke-linecap:round; stroke-linejoin:round; stroke-width:4; stroke-opacity:1; fill:none\" points=\"132.696,890.163 151.593,890.163 \"/>\n",
       "<polyline clip-path=\"url(#clip600)\" style=\"stroke:#000000; stroke-linecap:round; stroke-linejoin:round; stroke-width:4; stroke-opacity:1; fill:none\" points=\"132.696,612.56 151.593,612.56 \"/>\n",
       "<polyline clip-path=\"url(#clip600)\" style=\"stroke:#000000; stroke-linecap:round; stroke-linejoin:round; stroke-width:4; stroke-opacity:1; fill:none\" points=\"132.696,334.956 151.593,334.956 \"/>\n",
       "<polyline clip-path=\"url(#clip600)\" style=\"stroke:#000000; stroke-linecap:round; stroke-linejoin:round; stroke-width:4; stroke-opacity:1; fill:none\" points=\"132.696,57.3521 151.593,57.3521 \"/>\n",
       "<path clip-path=\"url(#clip600)\" d=\"M87.7929 872.883 L106.149 872.883 L106.149 876.818 L92.0753 876.818 L92.0753 885.291 Q93.0938 884.943 94.1123 884.781 Q95.1308 884.596 96.1493 884.596 Q101.936 884.596 105.316 887.767 Q108.696 890.939 108.696 896.355 Q108.696 901.934 105.223 905.036 Q101.751 908.115 95.4317 908.115 Q93.2558 908.115 90.9873 907.744 Q88.7419 907.374 86.3346 906.633 L86.3346 901.934 Q88.4179 903.068 90.6401 903.624 Q92.8623 904.179 95.3391 904.179 Q99.3437 904.179 101.682 902.073 Q104.02 899.966 104.02 896.355 Q104.02 892.744 101.682 890.638 Q99.3437 888.531 95.3391 888.531 Q93.4641 888.531 91.5892 888.948 Q89.7373 889.365 87.7929 890.244 L87.7929 872.883 Z\" fill=\"#000000\" fill-rule=\"nonzero\" fill-opacity=\"1\" /><path clip-path=\"url(#clip600)\" d=\"M57.3995 625.904 L65.0384 625.904 L65.0384 599.539 L56.7282 601.205 L56.7282 596.946 L64.9921 595.28 L69.668 595.28 L69.668 625.904 L77.3068 625.904 L77.3068 629.84 L57.3995 629.84 L57.3995 625.904 Z\" fill=\"#000000\" fill-rule=\"nonzero\" fill-opacity=\"1\" /><path clip-path=\"url(#clip600)\" d=\"M96.7512 598.358 Q93.1401 598.358 91.3114 601.923 Q89.5058 605.465 89.5058 612.594 Q89.5058 619.701 91.3114 623.265 Q93.1401 626.807 96.7512 626.807 Q100.385 626.807 102.191 623.265 Q104.02 619.701 104.02 612.594 Q104.02 605.465 102.191 601.923 Q100.385 598.358 96.7512 598.358 M96.7512 594.655 Q102.561 594.655 105.617 599.261 Q108.696 603.844 108.696 612.594 Q108.696 621.321 105.617 625.928 Q102.561 630.511 96.7512 630.511 Q90.941 630.511 87.8623 625.928 Q84.8068 621.321 84.8068 612.594 Q84.8068 603.844 87.8623 599.261 Q90.941 594.655 96.7512 594.655 Z\" fill=\"#000000\" fill-rule=\"nonzero\" fill-opacity=\"1\" /><path clip-path=\"url(#clip600)\" d=\"M58.3949 348.301 L66.0337 348.301 L66.0337 321.935 L57.7236 323.602 L57.7236 319.342 L65.9874 317.676 L70.6633 317.676 L70.6633 348.301 L78.3022 348.301 L78.3022 352.236 L58.3949 352.236 L58.3949 348.301 Z\" fill=\"#000000\" fill-rule=\"nonzero\" fill-opacity=\"1\" /><path clip-path=\"url(#clip600)\" d=\"M87.7929 317.676 L106.149 317.676 L106.149 321.611 L92.0753 321.611 L92.0753 330.083 Q93.0938 329.736 94.1123 329.574 Q95.1308 329.389 96.1493 329.389 Q101.936 329.389 105.316 332.56 Q108.696 335.731 108.696 341.148 Q108.696 346.727 105.223 349.828 Q101.751 352.907 95.4317 352.907 Q93.2558 352.907 90.9873 352.537 Q88.7419 352.166 86.3346 351.426 L86.3346 346.727 Q88.4179 347.861 90.6401 348.416 Q92.8623 348.972 95.3391 348.972 Q99.3437 348.972 101.682 346.865 Q104.02 344.759 104.02 341.148 Q104.02 337.537 101.682 335.43 Q99.3437 333.324 95.3391 333.324 Q93.4641 333.324 91.5892 333.741 Q89.7373 334.157 87.7929 335.037 L87.7929 317.676 Z\" fill=\"#000000\" fill-rule=\"nonzero\" fill-opacity=\"1\" /><path clip-path=\"url(#clip600)\" d=\"M60.6171 70.6969 L76.9365 70.6969 L76.9365 74.6321 L54.9921 74.6321 L54.9921 70.6969 Q57.6541 67.9423 62.2375 63.3127 Q66.8439 58.6599 68.0245 57.3173 Q70.2698 54.7942 71.1494 53.0581 Q72.0522 51.2989 72.0522 49.6091 Q72.0522 46.8544 70.1078 45.1183 Q68.1865 43.3822 65.0847 43.3822 Q62.8856 43.3822 60.4319 44.1461 Q58.0014 44.91 55.2236 46.4609 L55.2236 41.7387 Q58.0477 40.6045 60.5014 40.0258 Q62.955 39.4471 64.9921 39.4471 Q70.3624 39.4471 73.5568 42.1322 Q76.7513 44.8174 76.7513 49.3081 Q76.7513 51.4378 75.9411 53.359 Q75.1541 55.2572 73.0476 57.8498 Q72.4689 58.521 69.367 61.7386 Q66.2652 64.933 60.6171 70.6969 Z\" fill=\"#000000\" fill-rule=\"nonzero\" fill-opacity=\"1\" /><path clip-path=\"url(#clip600)\" d=\"M96.7512 43.1508 Q93.1401 43.1508 91.3114 46.7156 Q89.5058 50.2572 89.5058 57.3868 Q89.5058 64.4932 91.3114 68.058 Q93.1401 71.5997 96.7512 71.5997 Q100.385 71.5997 102.191 68.058 Q104.02 64.4932 104.02 57.3868 Q104.02 50.2572 102.191 46.7156 Q100.385 43.1508 96.7512 43.1508 M96.7512 39.4471 Q102.561 39.4471 105.617 44.0535 Q108.696 48.6368 108.696 57.3868 Q108.696 66.1136 105.617 70.7201 Q102.561 75.3034 96.7512 75.3034 Q90.941 75.3034 87.8623 70.7201 Q84.8068 66.1136 84.8068 57.3868 Q84.8068 48.6368 87.8623 44.0535 Q90.941 39.4471 96.7512 39.4471 Z\" fill=\"#000000\" fill-rule=\"nonzero\" fill-opacity=\"1\" /><path clip-path=\"url(#clip602)\" d=\"M172.886 981.91 L186.418 984.776 L199.95 987.522 L213.482 990.149 L227.014 992.657 L240.547 995.049 L254.079 997.324 L267.611 999.484 L281.143 1001.53 L294.675 1003.47 L308.207 1005.29 L321.739 1007.01 L335.271 1008.62 L348.803 1010.13 L362.336 1011.54 L375.868 1012.85 L389.4 1014.07 L402.932 1015.2 L416.464 1016.25 L429.996 1017.21 L443.528 1018.1 L457.06 1018.93 L470.593 1019.69 L484.125 1020.39 L497.657 1021.05 L511.189 1021.67 L524.721 1022.25 L538.253 1022.82 L551.785 1023.36 L565.317 1023.89 L578.849 1024.41 L592.382 1024.92 L605.914 1025.41 L619.446 1025.88 L632.978 1026.31 L646.51 1026.68 L660.042 1026.97 L673.574 1027.15 L687.106 1027.19 L700.638 1027.06 L714.171 1026.72 L727.703 1026.14 L741.235 1025.29 L754.767 1024.15 L768.299 1022.7 L781.831 1020.9 L795.363 1018.75 L808.895 1016.24 L822.428 1013.34 L835.96 1010.06 L849.492 1006.4 L863.024 1002.34 L876.556 997.903 L890.088 993.086 L903.62 987.901 L917.152 982.362 L930.684 976.485 L944.217 970.291 L957.749 963.802 L971.281 957.047 L984.813 950.054 L998.345 942.855 L1011.88 935.482 L1025.41 927.969 L1038.94 920.345 L1052.47 912.639 L1066.01 904.874 L1079.54 897.072 L1093.07 889.244 L1106.6 881.401 L1120.13 873.548 L1133.67 865.683 L1147.2 857.806 L1160.73 849.911 L1174.26 841.991 L1187.79 834.039 L1201.33 826.047 L1214.86 818.008 L1228.39 809.914 L1241.92 801.759 L1255.46 793.534 L1268.99 785.236 L1282.52 776.857 L1296.05 768.394 L1309.58 759.841 L1323.12 751.194 L1336.65 742.451 L1350.18 733.608 L1363.71 724.662 L1377.24 715.61 L1390.78 706.45 L1404.31 697.181 L1417.84 687.8 L1431.37 678.306 L1444.9 668.697 L1458.44 658.972 L1471.97 649.13 L1485.5 639.169 L1499.03 629.09 L1512.57 618.89 L1512.57 76.6465 L1499.03 108.477 L1485.5 139.72 L1471.97 170.374 L1458.44 200.439 L1444.9 229.912 L1431.37 258.793 L1417.84 287.081 L1404.31 314.774 L1390.78 341.87 L1377.24 368.369 L1363.71 394.267 L1350.18 419.562 L1336.65 444.252 L1323.12 468.334 L1309.58 491.805 L1296.05 514.662 L1282.52 536.899 L1268.99 558.513 L1255.46 579.5 L1241.92 599.852 L1228.39 619.565 L1214.86 638.632 L1201.33 657.046 L1187.79 674.798 L1174.26 691.883 L1160.73 708.291 L1147.2 724.015 L1133.67 739.05 L1120.13 753.389 L1106.6 767.031 L1093.07 779.976 L1079.54 792.229 L1066.01 803.797 L1052.47 814.696 L1038.94 824.945 L1025.41 834.569 L1011.88 843.594 L998.345 852.052 L984.813 859.976 L971.281 867.398 L957.749 874.349 L944.217 880.859 L930.684 886.955 L917.152 892.661 L903.62 897.996 L890.088 902.977 L876.556 907.619 L863.024 911.93 L849.492 915.917 L835.96 919.584 L822.428 922.93 L808.895 925.953 L795.363 928.645 L781.831 930.998 L768.299 932.996 L754.767 934.625 L741.235 935.862 L727.703 936.686 L714.171 937.069 L700.638 936.981 L687.106 936.39 L673.574 935.266 L660.042 933.574 L646.51 931.285 L632.978 928.369 L619.446 924.804 L605.914 920.569 L592.382 915.651 L578.849 910.039 L565.317 903.731 L551.785 896.725 L538.253 889.024 L524.721 880.634 L511.189 871.559 L497.657 861.809 L484.125 851.39 L470.593 840.31 L457.06 828.577 L443.528 816.198 L429.996 803.179 L416.464 789.526 L402.932 775.246 L389.4 760.342 L375.868 744.819 L362.336 728.682 L348.803 711.934 L335.271 694.577 L321.739 676.616 L308.207 658.052 L294.675 638.887 L281.143 619.124 L267.611 598.765 L254.079 577.811 L240.547 556.263 L227.014 534.124 L213.482 511.393 L199.95 488.073 L186.418 464.164 L172.886 439.667  Z\" fill=\"#009af9\" fill-rule=\"evenodd\" fill-opacity=\"0.35\"/>\n",
       "<polyline clip-path=\"url(#clip602)\" style=\"stroke:#009af9; stroke-linecap:round; stroke-linejoin:round; stroke-width:4; stroke-opacity:1; fill:none\" points=\"172.886,710.789 186.418,724.47 199.95,737.798 213.482,750.771 227.014,763.391 240.547,775.656 254.079,787.567 267.611,799.125 281.143,810.328 294.675,821.177 308.207,831.672 321.739,841.813 335.271,851.6 348.803,861.033 362.336,870.112 375.868,878.837 389.4,887.208 402.932,895.225 416.464,902.888 429.996,910.196 443.528,917.151 457.06,923.751 470.593,929.998 484.125,935.89 497.657,941.429 511.189,946.613 524.721,951.444 538.253,955.92 551.785,960.042 565.317,963.81 578.849,967.224 592.382,970.285 605.914,972.991 619.446,975.343 632.978,977.34 646.51,978.984 660.042,980.274 673.574,981.21 687.106,981.792 700.638,982.019 714.171,981.893 727.703,981.413 741.235,980.578 754.767,979.39 768.299,977.847 781.831,975.95 795.363,973.7 808.895,971.095 822.428,968.136 835.96,964.823 849.492,961.157 863.024,957.136 876.556,952.761 890.088,948.032 903.62,942.949 917.152,937.511 930.684,931.72 944.217,925.575 957.749,919.076 971.281,912.222 984.813,905.015 998.345,897.454 1011.88,889.538 1025.41,881.269 1038.94,872.645 1052.47,863.667 1066.01,854.336 1079.54,844.65 1093.07,834.61 1106.6,824.216 1120.13,813.469 1133.67,802.367 1147.2,790.911 1160.73,779.101 1174.26,766.937 1187.79,754.418 1201.33,741.546 1214.86,728.32 1228.39,714.74 1241.92,700.805 1255.46,686.517 1268.99,671.875 1282.52,656.878 1296.05,641.528 1309.58,625.823 1323.12,609.764 1336.65,593.352 1350.18,576.585 1363.71,559.464 1377.24,541.989 1390.78,524.16 1404.31,505.978 1417.84,487.441 1431.37,468.55 1444.9,449.304 1458.44,429.705 1471.97,409.752 1485.5,389.445 1499.03,368.784 1512.57,347.768 \"/>\n",
       "<polyline clip-path=\"url(#clip602)\" style=\"stroke:#000000; stroke-linecap:round; stroke-linejoin:round; stroke-width:4; stroke-opacity:1; fill:none\" points=\"440.822,1001.2 440.822,779.122 \"/>\n",
       "<polyline clip-path=\"url(#clip602)\" style=\"stroke:#000000; stroke-linecap:round; stroke-linejoin:round; stroke-width:4; stroke-opacity:1; fill:none\" points=\"708.758,1056.73 708.758,945.684 \"/>\n",
       "<polyline clip-path=\"url(#clip602)\" style=\"stroke:#000000; stroke-linecap:round; stroke-linejoin:round; stroke-width:4; stroke-opacity:1; fill:none\" points=\"976.694,945.684 976.694,834.643 \"/>\n",
       "<polyline clip-path=\"url(#clip602)\" style=\"stroke:#000000; stroke-linecap:round; stroke-linejoin:round; stroke-width:4; stroke-opacity:1; fill:none\" points=\"1244.63,834.643 1244.63,612.56 \"/>\n",
       "<line clip-path=\"url(#clip602)\" x1=\"456.822\" y1=\"1001.2\" x2=\"424.822\" y2=\"1001.2\" style=\"stroke:#000000; stroke-width:4; stroke-opacity:1\"/>\n",
       "<line clip-path=\"url(#clip602)\" x1=\"456.822\" y1=\"779.122\" x2=\"424.822\" y2=\"779.122\" style=\"stroke:#000000; stroke-width:4; stroke-opacity:1\"/>\n",
       "<line clip-path=\"url(#clip602)\" x1=\"724.758\" y1=\"1056.73\" x2=\"692.758\" y2=\"1056.73\" style=\"stroke:#000000; stroke-width:4; stroke-opacity:1\"/>\n",
       "<line clip-path=\"url(#clip602)\" x1=\"724.758\" y1=\"945.684\" x2=\"692.758\" y2=\"945.684\" style=\"stroke:#000000; stroke-width:4; stroke-opacity:1\"/>\n",
       "<line clip-path=\"url(#clip602)\" x1=\"992.694\" y1=\"945.684\" x2=\"960.694\" y2=\"945.684\" style=\"stroke:#000000; stroke-width:4; stroke-opacity:1\"/>\n",
       "<line clip-path=\"url(#clip602)\" x1=\"992.694\" y1=\"834.643\" x2=\"960.694\" y2=\"834.643\" style=\"stroke:#000000; stroke-width:4; stroke-opacity:1\"/>\n",
       "<line clip-path=\"url(#clip602)\" x1=\"1260.63\" y1=\"834.643\" x2=\"1228.63\" y2=\"834.643\" style=\"stroke:#000000; stroke-width:4; stroke-opacity:1\"/>\n",
       "<line clip-path=\"url(#clip602)\" x1=\"1260.63\" y1=\"612.56\" x2=\"1228.63\" y2=\"612.56\" style=\"stroke:#000000; stroke-width:4; stroke-opacity:1\"/>\n",
       "<circle clip-path=\"url(#clip602)\" cx=\"440.822\" cy=\"890.163\" r=\"14.4\" fill=\"#e26f46\" fill-rule=\"evenodd\" fill-opacity=\"1\" stroke=\"#000000\" stroke-opacity=\"1\" stroke-width=\"2.4\"/>\n",
       "<circle clip-path=\"url(#clip602)\" cx=\"708.758\" cy=\"1001.2\" r=\"14.4\" fill=\"#e26f46\" fill-rule=\"evenodd\" fill-opacity=\"1\" stroke=\"#000000\" stroke-opacity=\"1\" stroke-width=\"2.4\"/>\n",
       "<circle clip-path=\"url(#clip602)\" cx=\"976.694\" cy=\"890.163\" r=\"14.4\" fill=\"#e26f46\" fill-rule=\"evenodd\" fill-opacity=\"1\" stroke=\"#000000\" stroke-opacity=\"1\" stroke-width=\"2.4\"/>\n",
       "<circle clip-path=\"url(#clip602)\" cx=\"1244.63\" cy=\"723.601\" r=\"14.4\" fill=\"#e26f46\" fill-rule=\"evenodd\" fill-opacity=\"1\" stroke=\"#000000\" stroke-opacity=\"1\" stroke-width=\"2.4\"/>\n",
       "<path clip-path=\"url(#clip600)\" d=\"M1263.55 237.394 L1505.42 237.394 L1505.42 81.8736 L1263.55 81.8736  Z\" fill=\"#ffffff\" fill-rule=\"evenodd\" fill-opacity=\"1\"/>\n",
       "<polyline clip-path=\"url(#clip600)\" style=\"stroke:#000000; stroke-linecap:round; stroke-linejoin:round; stroke-width:4; stroke-opacity:1; fill:none\" points=\"1263.55,237.394 1505.42,237.394 1505.42,81.8736 1263.55,81.8736 1263.55,237.394 \"/>\n",
       "<polyline clip-path=\"url(#clip600)\" style=\"stroke:#009af9; stroke-linecap:round; stroke-linejoin:round; stroke-width:4; stroke-opacity:1; fill:none\" points=\"1279.33,133.714 1374,133.714 \"/>\n",
       "<path clip-path=\"url(#clip600)\" d=\"M1406.29 114.975 L1406.29 118.517 L1402.21 118.517 Q1399.92 118.517 1399.02 119.443 Q1398.14 120.369 1398.14 122.776 L1398.14 125.068 L1405.15 125.068 L1405.15 128.378 L1398.14 128.378 L1398.14 150.994 L1393.86 150.994 L1393.86 128.378 L1389.78 128.378 L1389.78 125.068 L1393.86 125.068 L1393.86 123.262 Q1393.86 118.934 1395.87 116.966 Q1397.88 114.975 1402.26 114.975 L1406.29 114.975 Z\" fill=\"#000000\" fill-rule=\"nonzero\" fill-opacity=\"1\" /><path clip-path=\"url(#clip600)\" d=\"M1409.85 125.068 L1414.11 125.068 L1414.11 150.994 L1409.85 150.994 L1409.85 125.068 M1409.85 114.975 L1414.11 114.975 L1414.11 120.369 L1409.85 120.369 L1409.85 114.975 Z\" fill=\"#000000\" fill-rule=\"nonzero\" fill-opacity=\"1\" /><path clip-path=\"url(#clip600)\" d=\"M1427.24 117.707 L1427.24 125.068 L1436.01 125.068 L1436.01 128.378 L1427.24 128.378 L1427.24 142.452 Q1427.24 145.623 1428.09 146.526 Q1428.97 147.429 1431.63 147.429 L1436.01 147.429 L1436.01 150.994 L1431.63 150.994 Q1426.7 150.994 1424.83 149.165 Q1422.95 147.313 1422.95 142.452 L1422.95 128.378 L1419.83 128.378 L1419.83 125.068 L1422.95 125.068 L1422.95 117.707 L1427.24 117.707 Z\" fill=\"#000000\" fill-rule=\"nonzero\" fill-opacity=\"1\" /><circle clip-path=\"url(#clip600)\" cx=\"1326.67\" cy=\"185.554\" r=\"20.48\" fill=\"#e26f46\" fill-rule=\"evenodd\" fill-opacity=\"1\" stroke=\"#000000\" stroke-opacity=\"1\" stroke-width=\"3.41333\"/>\n",
       "<path clip-path=\"url(#clip600)\" d=\"M1408.69 180.843 L1408.69 166.815 L1412.95 166.815 L1412.95 202.834 L1408.69 202.834 L1408.69 198.945 Q1407.35 201.259 1405.29 202.394 Q1403.25 203.505 1400.38 203.505 Q1395.68 203.505 1392.72 199.755 Q1389.78 196.005 1389.78 189.894 Q1389.78 183.783 1392.72 180.033 Q1395.68 176.283 1400.38 176.283 Q1403.25 176.283 1405.29 177.417 Q1407.35 178.528 1408.69 180.843 M1394.18 189.894 Q1394.18 194.593 1396.1 197.278 Q1398.05 199.94 1401.42 199.94 Q1404.8 199.94 1406.75 197.278 Q1408.69 194.593 1408.69 189.894 Q1408.69 185.195 1406.75 182.533 Q1404.8 179.848 1401.42 179.848 Q1398.05 179.848 1396.1 182.533 Q1394.18 185.195 1394.18 189.894 Z\" fill=\"#000000\" fill-rule=\"nonzero\" fill-opacity=\"1\" /><path clip-path=\"url(#clip600)\" d=\"M1433.51 189.801 Q1428.35 189.801 1426.36 190.982 Q1424.36 192.162 1424.36 195.01 Q1424.36 197.278 1425.85 198.621 Q1427.35 199.94 1429.92 199.94 Q1433.46 199.94 1435.59 197.44 Q1437.74 194.917 1437.74 190.75 L1437.74 189.801 L1433.51 189.801 M1442 188.042 L1442 202.834 L1437.74 202.834 L1437.74 198.898 Q1436.29 201.259 1434.11 202.394 Q1431.93 203.505 1428.79 203.505 Q1424.8 203.505 1422.44 201.283 Q1420.11 199.037 1420.11 195.287 Q1420.11 190.912 1423.02 188.69 Q1425.96 186.468 1431.77 186.468 L1437.74 186.468 L1437.74 186.051 Q1437.74 183.111 1435.8 181.514 Q1433.88 179.894 1430.38 179.894 Q1428.16 179.894 1426.05 180.426 Q1423.95 180.959 1422 182.023 L1422 178.088 Q1424.34 177.186 1426.54 176.746 Q1428.74 176.283 1430.82 176.283 Q1436.45 176.283 1439.23 179.199 Q1442 182.116 1442 188.042 Z\" fill=\"#000000\" fill-rule=\"nonzero\" fill-opacity=\"1\" /><path clip-path=\"url(#clip600)\" d=\"M1454.99 169.547 L1454.99 176.908 L1463.76 176.908 L1463.76 180.218 L1454.99 180.218 L1454.99 194.292 Q1454.99 197.463 1455.85 198.366 Q1456.73 199.269 1459.39 199.269 L1463.76 199.269 L1463.76 202.834 L1459.39 202.834 Q1454.46 202.834 1452.58 201.005 Q1450.71 199.153 1450.71 194.292 L1450.71 180.218 L1447.58 180.218 L1447.58 176.908 L1450.71 176.908 L1450.71 169.547 L1454.99 169.547 Z\" fill=\"#000000\" fill-rule=\"nonzero\" fill-opacity=\"1\" /><path clip-path=\"url(#clip600)\" d=\"M1481.15 189.801 Q1475.98 189.801 1473.99 190.982 Q1472 192.162 1472 195.01 Q1472 197.278 1473.48 198.621 Q1474.99 199.94 1477.56 199.94 Q1481.1 199.94 1483.23 197.44 Q1485.38 194.917 1485.38 190.75 L1485.38 189.801 L1481.15 189.801 M1489.64 188.042 L1489.64 202.834 L1485.38 202.834 L1485.38 198.898 Q1483.92 201.259 1481.75 202.394 Q1479.57 203.505 1476.42 203.505 Q1472.44 203.505 1470.08 201.283 Q1467.74 199.037 1467.74 195.287 Q1467.74 190.912 1470.66 188.69 Q1473.6 186.468 1479.41 186.468 L1485.38 186.468 L1485.38 186.051 Q1485.38 183.111 1483.44 181.514 Q1481.52 179.894 1478.02 179.894 Q1475.8 179.894 1473.69 180.426 Q1471.59 180.959 1469.64 182.023 L1469.64 178.088 Q1471.98 177.186 1474.18 176.746 Q1476.38 176.283 1478.46 176.283 Q1484.09 176.283 1486.86 179.199 Q1489.64 182.116 1489.64 188.042 Z\" fill=\"#000000\" fill-rule=\"nonzero\" fill-opacity=\"1\" /></svg>\n"
      ],
      "text/html": [
       "<?xml version=\"1.0\" encoding=\"utf-8\"?>\n",
       "<svg xmlns=\"http://www.w3.org/2000/svg\" xmlns:xlink=\"http://www.w3.org/1999/xlink\" width=\"400\" height=\"300\" viewBox=\"0 0 1600 1200\">\n",
       "<defs>\n",
       "  <clipPath id=\"clip650\">\n",
       "    <rect x=\"0\" y=\"0\" width=\"1600\" height=\"1200\"/>\n",
       "  </clipPath>\n",
       "</defs>\n",
       "<path clip-path=\"url(#clip650)\" d=\"M0 1200 L1600 1200 L1600 0 L0 0  Z\" fill=\"#ffffff\" fill-rule=\"evenodd\" fill-opacity=\"1\"/>\n",
       "<defs>\n",
       "  <clipPath id=\"clip651\">\n",
       "    <rect x=\"320\" y=\"0\" width=\"1121\" height=\"1121\"/>\n",
       "  </clipPath>\n",
       "</defs>\n",
       "<path clip-path=\"url(#clip650)\" d=\"M132.696 1086.13 L1552.76 1086.13 L1552.76 47.2441 L132.696 47.2441  Z\" fill=\"#ffffff\" fill-rule=\"evenodd\" fill-opacity=\"1\"/>\n",
       "<defs>\n",
       "  <clipPath id=\"clip652\">\n",
       "    <rect x=\"132\" y=\"47\" width=\"1421\" height=\"1040\"/>\n",
       "  </clipPath>\n",
       "</defs>\n",
       "<polyline clip-path=\"url(#clip652)\" style=\"stroke:#000000; stroke-linecap:round; stroke-linejoin:round; stroke-width:2; stroke-opacity:0.1; fill:none\" points=\"172.886,1086.13 172.886,47.2441 \"/>\n",
       "<polyline clip-path=\"url(#clip652)\" style=\"stroke:#000000; stroke-linecap:round; stroke-linejoin:round; stroke-width:2; stroke-opacity:0.1; fill:none\" points=\"507.806,1086.13 507.806,47.2441 \"/>\n",
       "<polyline clip-path=\"url(#clip652)\" style=\"stroke:#000000; stroke-linecap:round; stroke-linejoin:round; stroke-width:2; stroke-opacity:0.1; fill:none\" points=\"842.726,1086.13 842.726,47.2441 \"/>\n",
       "<polyline clip-path=\"url(#clip652)\" style=\"stroke:#000000; stroke-linecap:round; stroke-linejoin:round; stroke-width:2; stroke-opacity:0.1; fill:none\" points=\"1177.65,1086.13 1177.65,47.2441 \"/>\n",
       "<polyline clip-path=\"url(#clip652)\" style=\"stroke:#000000; stroke-linecap:round; stroke-linejoin:round; stroke-width:2; stroke-opacity:0.1; fill:none\" points=\"1512.57,1086.13 1512.57,47.2441 \"/>\n",
       "<polyline clip-path=\"url(#clip650)\" style=\"stroke:#000000; stroke-linecap:round; stroke-linejoin:round; stroke-width:4; stroke-opacity:1; fill:none\" points=\"132.696,1086.13 1552.76,1086.13 \"/>\n",
       "<polyline clip-path=\"url(#clip650)\" style=\"stroke:#000000; stroke-linecap:round; stroke-linejoin:round; stroke-width:4; stroke-opacity:1; fill:none\" points=\"172.886,1086.13 172.886,1067.23 \"/>\n",
       "<polyline clip-path=\"url(#clip650)\" style=\"stroke:#000000; stroke-linecap:round; stroke-linejoin:round; stroke-width:4; stroke-opacity:1; fill:none\" points=\"507.806,1086.13 507.806,1067.23 \"/>\n",
       "<polyline clip-path=\"url(#clip650)\" style=\"stroke:#000000; stroke-linecap:round; stroke-linejoin:round; stroke-width:4; stroke-opacity:1; fill:none\" points=\"842.726,1086.13 842.726,1067.23 \"/>\n",
       "<polyline clip-path=\"url(#clip650)\" style=\"stroke:#000000; stroke-linecap:round; stroke-linejoin:round; stroke-width:4; stroke-opacity:1; fill:none\" points=\"1177.65,1086.13 1177.65,1067.23 \"/>\n",
       "<polyline clip-path=\"url(#clip650)\" style=\"stroke:#000000; stroke-linecap:round; stroke-linejoin:round; stroke-width:4; stroke-opacity:1; fill:none\" points=\"1512.57,1086.13 1512.57,1067.23 \"/>\n",
       "<path clip-path=\"url(#clip650)\" d=\"M119.414 1125.3 L149.09 1125.3 L149.09 1129.23 L119.414 1129.23 L119.414 1125.3 Z\" fill=\"#000000\" fill-rule=\"nonzero\" fill-opacity=\"1\" /><path clip-path=\"url(#clip650)\" d=\"M159.992 1138.19 L167.631 1138.19 L167.631 1111.83 L159.321 1113.49 L159.321 1109.23 L167.585 1107.57 L172.261 1107.57 L172.261 1138.19 L179.9 1138.19 L179.9 1142.13 L159.992 1142.13 L159.992 1138.19 Z\" fill=\"#000000\" fill-rule=\"nonzero\" fill-opacity=\"1\" /><path clip-path=\"url(#clip650)\" d=\"M189.344 1136.25 L194.228 1136.25 L194.228 1142.13 L189.344 1142.13 L189.344 1136.25 Z\" fill=\"#000000\" fill-rule=\"nonzero\" fill-opacity=\"1\" /><path clip-path=\"url(#clip650)\" d=\"M214.413 1110.65 Q210.802 1110.65 208.974 1114.21 Q207.168 1117.75 207.168 1124.88 Q207.168 1131.99 208.974 1135.55 Q210.802 1139.1 214.413 1139.1 Q218.048 1139.1 219.853 1135.55 Q221.682 1131.99 221.682 1124.88 Q221.682 1117.75 219.853 1114.21 Q218.048 1110.65 214.413 1110.65 M214.413 1106.94 Q220.224 1106.94 223.279 1111.55 Q226.358 1116.13 226.358 1124.88 Q226.358 1133.61 223.279 1138.22 Q220.224 1142.8 214.413 1142.8 Q208.603 1142.8 205.525 1138.22 Q202.469 1133.61 202.469 1124.88 Q202.469 1116.13 205.525 1111.55 Q208.603 1106.94 214.413 1106.94 Z\" fill=\"#000000\" fill-rule=\"nonzero\" fill-opacity=\"1\" /><path clip-path=\"url(#clip650)\" d=\"M454.832 1125.3 L484.507 1125.3 L484.507 1129.23 L454.832 1129.23 L454.832 1125.3 Z\" fill=\"#000000\" fill-rule=\"nonzero\" fill-opacity=\"1\" /><path clip-path=\"url(#clip650)\" d=\"M504.6 1110.65 Q500.989 1110.65 499.16 1114.21 Q497.354 1117.75 497.354 1124.88 Q497.354 1131.99 499.16 1135.55 Q500.989 1139.1 504.6 1139.1 Q508.234 1139.1 510.04 1135.55 Q511.868 1131.99 511.868 1124.88 Q511.868 1117.75 510.04 1114.21 Q508.234 1110.65 504.6 1110.65 M504.6 1106.94 Q510.41 1106.94 513.466 1111.55 Q516.544 1116.13 516.544 1124.88 Q516.544 1133.61 513.466 1138.22 Q510.41 1142.8 504.6 1142.8 Q498.79 1142.8 495.711 1138.22 Q492.655 1133.61 492.655 1124.88 Q492.655 1116.13 495.711 1111.55 Q498.79 1106.94 504.6 1106.94 Z\" fill=\"#000000\" fill-rule=\"nonzero\" fill-opacity=\"1\" /><path clip-path=\"url(#clip650)\" d=\"M524.762 1136.25 L529.646 1136.25 L529.646 1142.13 L524.762 1142.13 L524.762 1136.25 Z\" fill=\"#000000\" fill-rule=\"nonzero\" fill-opacity=\"1\" /><path clip-path=\"url(#clip650)\" d=\"M539.877 1107.57 L558.234 1107.57 L558.234 1111.5 L544.16 1111.5 L544.16 1119.98 Q545.178 1119.63 546.197 1119.47 Q547.215 1119.28 548.234 1119.28 Q554.021 1119.28 557.4 1122.45 Q560.78 1125.62 560.78 1131.04 Q560.78 1136.62 557.308 1139.72 Q553.836 1142.8 547.516 1142.8 Q545.34 1142.8 543.072 1142.43 Q540.826 1142.06 538.419 1141.32 L538.419 1136.62 Q540.502 1137.75 542.725 1138.31 Q544.947 1138.86 547.424 1138.86 Q551.428 1138.86 553.766 1136.76 Q556.104 1134.65 556.104 1131.04 Q556.104 1127.43 553.766 1125.32 Q551.428 1123.22 547.424 1123.22 Q545.549 1123.22 543.674 1123.63 Q541.822 1124.05 539.877 1124.93 L539.877 1107.57 Z\" fill=\"#000000\" fill-rule=\"nonzero\" fill-opacity=\"1\" /><path clip-path=\"url(#clip650)\" d=\"M820.11 1110.65 Q816.499 1110.65 814.67 1114.21 Q812.865 1117.75 812.865 1124.88 Q812.865 1131.99 814.67 1135.55 Q816.499 1139.1 820.11 1139.1 Q823.744 1139.1 825.55 1135.55 Q827.379 1131.99 827.379 1124.88 Q827.379 1117.75 825.55 1114.21 Q823.744 1110.65 820.11 1110.65 M820.11 1106.94 Q825.92 1106.94 828.976 1111.55 Q832.054 1116.13 832.054 1124.88 Q832.054 1133.61 828.976 1138.22 Q825.92 1142.8 820.11 1142.8 Q814.3 1142.8 811.221 1138.22 Q808.166 1133.61 808.166 1124.88 Q808.166 1116.13 811.221 1111.55 Q814.3 1106.94 820.11 1106.94 Z\" fill=\"#000000\" fill-rule=\"nonzero\" fill-opacity=\"1\" /><path clip-path=\"url(#clip650)\" d=\"M840.272 1136.25 L845.156 1136.25 L845.156 1142.13 L840.272 1142.13 L840.272 1136.25 Z\" fill=\"#000000\" fill-rule=\"nonzero\" fill-opacity=\"1\" /><path clip-path=\"url(#clip650)\" d=\"M865.341 1110.65 Q861.73 1110.65 859.902 1114.21 Q858.096 1117.75 858.096 1124.88 Q858.096 1131.99 859.902 1135.55 Q861.73 1139.1 865.341 1139.1 Q868.976 1139.1 870.781 1135.55 Q872.61 1131.99 872.61 1124.88 Q872.61 1117.75 870.781 1114.21 Q868.976 1110.65 865.341 1110.65 M865.341 1106.94 Q871.151 1106.94 874.207 1111.55 Q877.286 1116.13 877.286 1124.88 Q877.286 1133.61 874.207 1138.22 Q871.151 1142.8 865.341 1142.8 Q859.531 1142.8 856.453 1138.22 Q853.397 1133.61 853.397 1124.88 Q853.397 1116.13 856.453 1111.55 Q859.531 1106.94 865.341 1106.94 Z\" fill=\"#000000\" fill-rule=\"nonzero\" fill-opacity=\"1\" /><path clip-path=\"url(#clip650)\" d=\"M1155.53 1110.65 Q1151.92 1110.65 1150.09 1114.21 Q1148.28 1117.75 1148.28 1124.88 Q1148.28 1131.99 1150.09 1135.55 Q1151.92 1139.1 1155.53 1139.1 Q1159.16 1139.1 1160.97 1135.55 Q1162.8 1131.99 1162.8 1124.88 Q1162.8 1117.75 1160.97 1114.21 Q1159.16 1110.65 1155.53 1110.65 M1155.53 1106.94 Q1161.34 1106.94 1164.39 1111.55 Q1167.47 1116.13 1167.47 1124.88 Q1167.47 1133.61 1164.39 1138.22 Q1161.34 1142.8 1155.53 1142.8 Q1149.72 1142.8 1146.64 1138.22 Q1143.58 1133.61 1143.58 1124.88 Q1143.58 1116.13 1146.64 1111.55 Q1149.72 1106.94 1155.53 1106.94 Z\" fill=\"#000000\" fill-rule=\"nonzero\" fill-opacity=\"1\" /><path clip-path=\"url(#clip650)\" d=\"M1175.69 1136.25 L1180.57 1136.25 L1180.57 1142.13 L1175.69 1142.13 L1175.69 1136.25 Z\" fill=\"#000000\" fill-rule=\"nonzero\" fill-opacity=\"1\" /><path clip-path=\"url(#clip650)\" d=\"M1190.81 1107.57 L1209.16 1107.57 L1209.16 1111.5 L1195.09 1111.5 L1195.09 1119.98 Q1196.11 1119.63 1197.12 1119.47 Q1198.14 1119.28 1199.16 1119.28 Q1204.95 1119.28 1208.33 1122.45 Q1211.71 1125.62 1211.71 1131.04 Q1211.71 1136.62 1208.24 1139.72 Q1204.76 1142.8 1198.44 1142.8 Q1196.27 1142.8 1194 1142.43 Q1191.75 1142.06 1189.35 1141.32 L1189.35 1136.62 Q1191.43 1137.75 1193.65 1138.31 Q1195.87 1138.86 1198.35 1138.86 Q1202.36 1138.86 1204.69 1136.76 Q1207.03 1134.65 1207.03 1131.04 Q1207.03 1127.43 1204.69 1125.32 Q1202.36 1123.22 1198.35 1123.22 Q1196.48 1123.22 1194.6 1123.63 Q1192.75 1124.05 1190.81 1124.93 L1190.81 1107.57 Z\" fill=\"#000000\" fill-rule=\"nonzero\" fill-opacity=\"1\" /><path clip-path=\"url(#clip650)\" d=\"M1479.72 1138.19 L1487.36 1138.19 L1487.36 1111.83 L1479.05 1113.49 L1479.05 1109.23 L1487.31 1107.57 L1491.99 1107.57 L1491.99 1138.19 L1499.63 1138.19 L1499.63 1142.13 L1479.72 1142.13 L1479.72 1138.19 Z\" fill=\"#000000\" fill-rule=\"nonzero\" fill-opacity=\"1\" /><path clip-path=\"url(#clip650)\" d=\"M1509.07 1136.25 L1513.95 1136.25 L1513.95 1142.13 L1509.07 1142.13 L1509.07 1136.25 Z\" fill=\"#000000\" fill-rule=\"nonzero\" fill-opacity=\"1\" /><path clip-path=\"url(#clip650)\" d=\"M1534.14 1110.65 Q1530.53 1110.65 1528.7 1114.21 Q1526.89 1117.75 1526.89 1124.88 Q1526.89 1131.99 1528.7 1135.55 Q1530.53 1139.1 1534.14 1139.1 Q1537.77 1139.1 1539.58 1135.55 Q1541.41 1131.99 1541.41 1124.88 Q1541.41 1117.75 1539.58 1114.21 Q1537.77 1110.65 1534.14 1110.65 M1534.14 1106.94 Q1539.95 1106.94 1543.01 1111.55 Q1546.08 1116.13 1546.08 1124.88 Q1546.08 1133.61 1543.01 1138.22 Q1539.95 1142.8 1534.14 1142.8 Q1528.33 1142.8 1525.25 1138.22 Q1522.2 1133.61 1522.2 1124.88 Q1522.2 1116.13 1525.25 1111.55 Q1528.33 1106.94 1534.14 1106.94 Z\" fill=\"#000000\" fill-rule=\"nonzero\" fill-opacity=\"1\" /><polyline clip-path=\"url(#clip652)\" style=\"stroke:#000000; stroke-linecap:round; stroke-linejoin:round; stroke-width:2; stroke-opacity:0.1; fill:none\" points=\"132.696,890.163 1552.76,890.163 \"/>\n",
       "<polyline clip-path=\"url(#clip652)\" style=\"stroke:#000000; stroke-linecap:round; stroke-linejoin:round; stroke-width:2; stroke-opacity:0.1; fill:none\" points=\"132.696,612.56 1552.76,612.56 \"/>\n",
       "<polyline clip-path=\"url(#clip652)\" style=\"stroke:#000000; stroke-linecap:round; stroke-linejoin:round; stroke-width:2; stroke-opacity:0.1; fill:none\" points=\"132.696,334.956 1552.76,334.956 \"/>\n",
       "<polyline clip-path=\"url(#clip652)\" style=\"stroke:#000000; stroke-linecap:round; stroke-linejoin:round; stroke-width:2; stroke-opacity:0.1; fill:none\" points=\"132.696,57.3521 1552.76,57.3521 \"/>\n",
       "<polyline clip-path=\"url(#clip650)\" style=\"stroke:#000000; stroke-linecap:round; stroke-linejoin:round; stroke-width:4; stroke-opacity:1; fill:none\" points=\"132.696,1086.13 132.696,47.2441 \"/>\n",
       "<polyline clip-path=\"url(#clip650)\" style=\"stroke:#000000; stroke-linecap:round; stroke-linejoin:round; stroke-width:4; stroke-opacity:1; fill:none\" points=\"132.696,890.163 151.593,890.163 \"/>\n",
       "<polyline clip-path=\"url(#clip650)\" style=\"stroke:#000000; stroke-linecap:round; stroke-linejoin:round; stroke-width:4; stroke-opacity:1; fill:none\" points=\"132.696,612.56 151.593,612.56 \"/>\n",
       "<polyline clip-path=\"url(#clip650)\" style=\"stroke:#000000; stroke-linecap:round; stroke-linejoin:round; stroke-width:4; stroke-opacity:1; fill:none\" points=\"132.696,334.956 151.593,334.956 \"/>\n",
       "<polyline clip-path=\"url(#clip650)\" style=\"stroke:#000000; stroke-linecap:round; stroke-linejoin:round; stroke-width:4; stroke-opacity:1; fill:none\" points=\"132.696,57.3521 151.593,57.3521 \"/>\n",
       "<path clip-path=\"url(#clip650)\" d=\"M87.7929 872.883 L106.149 872.883 L106.149 876.818 L92.0753 876.818 L92.0753 885.291 Q93.0938 884.943 94.1123 884.781 Q95.1308 884.596 96.1493 884.596 Q101.936 884.596 105.316 887.767 Q108.696 890.939 108.696 896.355 Q108.696 901.934 105.223 905.036 Q101.751 908.115 95.4317 908.115 Q93.2558 908.115 90.9873 907.744 Q88.7419 907.374 86.3346 906.633 L86.3346 901.934 Q88.4179 903.068 90.6401 903.624 Q92.8623 904.179 95.3391 904.179 Q99.3437 904.179 101.682 902.073 Q104.02 899.966 104.02 896.355 Q104.02 892.744 101.682 890.638 Q99.3437 888.531 95.3391 888.531 Q93.4641 888.531 91.5892 888.948 Q89.7373 889.365 87.7929 890.244 L87.7929 872.883 Z\" fill=\"#000000\" fill-rule=\"nonzero\" fill-opacity=\"1\" /><path clip-path=\"url(#clip650)\" d=\"M57.3995 625.904 L65.0384 625.904 L65.0384 599.539 L56.7282 601.205 L56.7282 596.946 L64.9921 595.28 L69.668 595.28 L69.668 625.904 L77.3068 625.904 L77.3068 629.84 L57.3995 629.84 L57.3995 625.904 Z\" fill=\"#000000\" fill-rule=\"nonzero\" fill-opacity=\"1\" /><path clip-path=\"url(#clip650)\" d=\"M96.7512 598.358 Q93.1401 598.358 91.3114 601.923 Q89.5058 605.465 89.5058 612.594 Q89.5058 619.701 91.3114 623.265 Q93.1401 626.807 96.7512 626.807 Q100.385 626.807 102.191 623.265 Q104.02 619.701 104.02 612.594 Q104.02 605.465 102.191 601.923 Q100.385 598.358 96.7512 598.358 M96.7512 594.655 Q102.561 594.655 105.617 599.261 Q108.696 603.844 108.696 612.594 Q108.696 621.321 105.617 625.928 Q102.561 630.511 96.7512 630.511 Q90.941 630.511 87.8623 625.928 Q84.8068 621.321 84.8068 612.594 Q84.8068 603.844 87.8623 599.261 Q90.941 594.655 96.7512 594.655 Z\" fill=\"#000000\" fill-rule=\"nonzero\" fill-opacity=\"1\" /><path clip-path=\"url(#clip650)\" d=\"M58.3949 348.301 L66.0337 348.301 L66.0337 321.935 L57.7236 323.602 L57.7236 319.342 L65.9874 317.676 L70.6633 317.676 L70.6633 348.301 L78.3022 348.301 L78.3022 352.236 L58.3949 352.236 L58.3949 348.301 Z\" fill=\"#000000\" fill-rule=\"nonzero\" fill-opacity=\"1\" /><path clip-path=\"url(#clip650)\" d=\"M87.7929 317.676 L106.149 317.676 L106.149 321.611 L92.0753 321.611 L92.0753 330.083 Q93.0938 329.736 94.1123 329.574 Q95.1308 329.389 96.1493 329.389 Q101.936 329.389 105.316 332.56 Q108.696 335.731 108.696 341.148 Q108.696 346.727 105.223 349.828 Q101.751 352.907 95.4317 352.907 Q93.2558 352.907 90.9873 352.537 Q88.7419 352.166 86.3346 351.426 L86.3346 346.727 Q88.4179 347.861 90.6401 348.416 Q92.8623 348.972 95.3391 348.972 Q99.3437 348.972 101.682 346.865 Q104.02 344.759 104.02 341.148 Q104.02 337.537 101.682 335.43 Q99.3437 333.324 95.3391 333.324 Q93.4641 333.324 91.5892 333.741 Q89.7373 334.157 87.7929 335.037 L87.7929 317.676 Z\" fill=\"#000000\" fill-rule=\"nonzero\" fill-opacity=\"1\" /><path clip-path=\"url(#clip650)\" d=\"M60.6171 70.6969 L76.9365 70.6969 L76.9365 74.6321 L54.9921 74.6321 L54.9921 70.6969 Q57.6541 67.9423 62.2375 63.3127 Q66.8439 58.6599 68.0245 57.3173 Q70.2698 54.7942 71.1494 53.0581 Q72.0522 51.2989 72.0522 49.6091 Q72.0522 46.8544 70.1078 45.1183 Q68.1865 43.3822 65.0847 43.3822 Q62.8856 43.3822 60.4319 44.1461 Q58.0014 44.91 55.2236 46.4609 L55.2236 41.7387 Q58.0477 40.6045 60.5014 40.0258 Q62.955 39.4471 64.9921 39.4471 Q70.3624 39.4471 73.5568 42.1322 Q76.7513 44.8174 76.7513 49.3081 Q76.7513 51.4378 75.9411 53.359 Q75.1541 55.2572 73.0476 57.8498 Q72.4689 58.521 69.367 61.7386 Q66.2652 64.933 60.6171 70.6969 Z\" fill=\"#000000\" fill-rule=\"nonzero\" fill-opacity=\"1\" /><path clip-path=\"url(#clip650)\" d=\"M96.7512 43.1508 Q93.1401 43.1508 91.3114 46.7156 Q89.5058 50.2572 89.5058 57.3868 Q89.5058 64.4932 91.3114 68.058 Q93.1401 71.5997 96.7512 71.5997 Q100.385 71.5997 102.191 68.058 Q104.02 64.4932 104.02 57.3868 Q104.02 50.2572 102.191 46.7156 Q100.385 43.1508 96.7512 43.1508 M96.7512 39.4471 Q102.561 39.4471 105.617 44.0535 Q108.696 48.6368 108.696 57.3868 Q108.696 66.1136 105.617 70.7201 Q102.561 75.3034 96.7512 75.3034 Q90.941 75.3034 87.8623 70.7201 Q84.8068 66.1136 84.8068 57.3868 Q84.8068 48.6368 87.8623 44.0535 Q90.941 39.4471 96.7512 39.4471 Z\" fill=\"#000000\" fill-rule=\"nonzero\" fill-opacity=\"1\" /><path clip-path=\"url(#clip652)\" d=\"M172.886 981.91 L186.418 984.776 L199.95 987.522 L213.482 990.149 L227.014 992.657 L240.547 995.049 L254.079 997.324 L267.611 999.484 L281.143 1001.53 L294.675 1003.47 L308.207 1005.29 L321.739 1007.01 L335.271 1008.62 L348.803 1010.13 L362.336 1011.54 L375.868 1012.85 L389.4 1014.07 L402.932 1015.2 L416.464 1016.25 L429.996 1017.21 L443.528 1018.1 L457.06 1018.93 L470.593 1019.69 L484.125 1020.39 L497.657 1021.05 L511.189 1021.67 L524.721 1022.25 L538.253 1022.82 L551.785 1023.36 L565.317 1023.89 L578.849 1024.41 L592.382 1024.92 L605.914 1025.41 L619.446 1025.88 L632.978 1026.31 L646.51 1026.68 L660.042 1026.97 L673.574 1027.15 L687.106 1027.19 L700.638 1027.06 L714.171 1026.72 L727.703 1026.14 L741.235 1025.29 L754.767 1024.15 L768.299 1022.7 L781.831 1020.9 L795.363 1018.75 L808.895 1016.24 L822.428 1013.34 L835.96 1010.06 L849.492 1006.4 L863.024 1002.34 L876.556 997.903 L890.088 993.086 L903.62 987.901 L917.152 982.362 L930.684 976.485 L944.217 970.291 L957.749 963.802 L971.281 957.047 L984.813 950.054 L998.345 942.855 L1011.88 935.482 L1025.41 927.969 L1038.94 920.345 L1052.47 912.639 L1066.01 904.874 L1079.54 897.072 L1093.07 889.244 L1106.6 881.401 L1120.13 873.548 L1133.67 865.683 L1147.2 857.806 L1160.73 849.911 L1174.26 841.991 L1187.79 834.039 L1201.33 826.047 L1214.86 818.008 L1228.39 809.914 L1241.92 801.759 L1255.46 793.534 L1268.99 785.236 L1282.52 776.857 L1296.05 768.394 L1309.58 759.841 L1323.12 751.194 L1336.65 742.451 L1350.18 733.608 L1363.71 724.662 L1377.24 715.61 L1390.78 706.45 L1404.31 697.181 L1417.84 687.8 L1431.37 678.306 L1444.9 668.697 L1458.44 658.972 L1471.97 649.13 L1485.5 639.169 L1499.03 629.09 L1512.57 618.89 L1512.57 76.6465 L1499.03 108.477 L1485.5 139.72 L1471.97 170.374 L1458.44 200.439 L1444.9 229.912 L1431.37 258.793 L1417.84 287.081 L1404.31 314.774 L1390.78 341.87 L1377.24 368.369 L1363.71 394.267 L1350.18 419.562 L1336.65 444.252 L1323.12 468.334 L1309.58 491.805 L1296.05 514.662 L1282.52 536.899 L1268.99 558.513 L1255.46 579.5 L1241.92 599.852 L1228.39 619.565 L1214.86 638.632 L1201.33 657.046 L1187.79 674.798 L1174.26 691.883 L1160.73 708.291 L1147.2 724.015 L1133.67 739.05 L1120.13 753.389 L1106.6 767.031 L1093.07 779.976 L1079.54 792.229 L1066.01 803.797 L1052.47 814.696 L1038.94 824.945 L1025.41 834.569 L1011.88 843.594 L998.345 852.052 L984.813 859.976 L971.281 867.398 L957.749 874.349 L944.217 880.859 L930.684 886.955 L917.152 892.661 L903.62 897.996 L890.088 902.977 L876.556 907.619 L863.024 911.93 L849.492 915.917 L835.96 919.584 L822.428 922.93 L808.895 925.953 L795.363 928.645 L781.831 930.998 L768.299 932.996 L754.767 934.625 L741.235 935.862 L727.703 936.686 L714.171 937.069 L700.638 936.981 L687.106 936.39 L673.574 935.266 L660.042 933.574 L646.51 931.285 L632.978 928.369 L619.446 924.804 L605.914 920.569 L592.382 915.651 L578.849 910.039 L565.317 903.731 L551.785 896.725 L538.253 889.024 L524.721 880.634 L511.189 871.559 L497.657 861.809 L484.125 851.39 L470.593 840.31 L457.06 828.577 L443.528 816.198 L429.996 803.179 L416.464 789.526 L402.932 775.246 L389.4 760.342 L375.868 744.819 L362.336 728.682 L348.803 711.934 L335.271 694.577 L321.739 676.616 L308.207 658.052 L294.675 638.887 L281.143 619.124 L267.611 598.765 L254.079 577.811 L240.547 556.263 L227.014 534.124 L213.482 511.393 L199.95 488.073 L186.418 464.164 L172.886 439.667  Z\" fill=\"#009af9\" fill-rule=\"evenodd\" fill-opacity=\"0.35\"/>\n",
       "<polyline clip-path=\"url(#clip652)\" style=\"stroke:#009af9; stroke-linecap:round; stroke-linejoin:round; stroke-width:4; stroke-opacity:1; fill:none\" points=\"172.886,710.789 186.418,724.47 199.95,737.798 213.482,750.771 227.014,763.391 240.547,775.656 254.079,787.567 267.611,799.125 281.143,810.328 294.675,821.177 308.207,831.672 321.739,841.813 335.271,851.6 348.803,861.033 362.336,870.112 375.868,878.837 389.4,887.208 402.932,895.225 416.464,902.888 429.996,910.196 443.528,917.151 457.06,923.751 470.593,929.998 484.125,935.89 497.657,941.429 511.189,946.613 524.721,951.444 538.253,955.92 551.785,960.042 565.317,963.81 578.849,967.224 592.382,970.285 605.914,972.991 619.446,975.343 632.978,977.34 646.51,978.984 660.042,980.274 673.574,981.21 687.106,981.792 700.638,982.019 714.171,981.893 727.703,981.413 741.235,980.578 754.767,979.39 768.299,977.847 781.831,975.95 795.363,973.7 808.895,971.095 822.428,968.136 835.96,964.823 849.492,961.157 863.024,957.136 876.556,952.761 890.088,948.032 903.62,942.949 917.152,937.511 930.684,931.72 944.217,925.575 957.749,919.076 971.281,912.222 984.813,905.015 998.345,897.454 1011.88,889.538 1025.41,881.269 1038.94,872.645 1052.47,863.667 1066.01,854.336 1079.54,844.65 1093.07,834.61 1106.6,824.216 1120.13,813.469 1133.67,802.367 1147.2,790.911 1160.73,779.101 1174.26,766.937 1187.79,754.418 1201.33,741.546 1214.86,728.32 1228.39,714.74 1241.92,700.805 1255.46,686.517 1268.99,671.875 1282.52,656.878 1296.05,641.528 1309.58,625.823 1323.12,609.764 1336.65,593.352 1350.18,576.585 1363.71,559.464 1377.24,541.989 1390.78,524.16 1404.31,505.978 1417.84,487.441 1431.37,468.55 1444.9,449.304 1458.44,429.705 1471.97,409.752 1485.5,389.445 1499.03,368.784 1512.57,347.768 \"/>\n",
       "<polyline clip-path=\"url(#clip652)\" style=\"stroke:#000000; stroke-linecap:round; stroke-linejoin:round; stroke-width:4; stroke-opacity:1; fill:none\" points=\"440.822,1001.2 440.822,779.122 \"/>\n",
       "<polyline clip-path=\"url(#clip652)\" style=\"stroke:#000000; stroke-linecap:round; stroke-linejoin:round; stroke-width:4; stroke-opacity:1; fill:none\" points=\"708.758,1056.73 708.758,945.684 \"/>\n",
       "<polyline clip-path=\"url(#clip652)\" style=\"stroke:#000000; stroke-linecap:round; stroke-linejoin:round; stroke-width:4; stroke-opacity:1; fill:none\" points=\"976.694,945.684 976.694,834.643 \"/>\n",
       "<polyline clip-path=\"url(#clip652)\" style=\"stroke:#000000; stroke-linecap:round; stroke-linejoin:round; stroke-width:4; stroke-opacity:1; fill:none\" points=\"1244.63,834.643 1244.63,612.56 \"/>\n",
       "<line clip-path=\"url(#clip652)\" x1=\"456.822\" y1=\"1001.2\" x2=\"424.822\" y2=\"1001.2\" style=\"stroke:#000000; stroke-width:4; stroke-opacity:1\"/>\n",
       "<line clip-path=\"url(#clip652)\" x1=\"456.822\" y1=\"779.122\" x2=\"424.822\" y2=\"779.122\" style=\"stroke:#000000; stroke-width:4; stroke-opacity:1\"/>\n",
       "<line clip-path=\"url(#clip652)\" x1=\"724.758\" y1=\"1056.73\" x2=\"692.758\" y2=\"1056.73\" style=\"stroke:#000000; stroke-width:4; stroke-opacity:1\"/>\n",
       "<line clip-path=\"url(#clip652)\" x1=\"724.758\" y1=\"945.684\" x2=\"692.758\" y2=\"945.684\" style=\"stroke:#000000; stroke-width:4; stroke-opacity:1\"/>\n",
       "<line clip-path=\"url(#clip652)\" x1=\"992.694\" y1=\"945.684\" x2=\"960.694\" y2=\"945.684\" style=\"stroke:#000000; stroke-width:4; stroke-opacity:1\"/>\n",
       "<line clip-path=\"url(#clip652)\" x1=\"992.694\" y1=\"834.643\" x2=\"960.694\" y2=\"834.643\" style=\"stroke:#000000; stroke-width:4; stroke-opacity:1\"/>\n",
       "<line clip-path=\"url(#clip652)\" x1=\"1260.63\" y1=\"834.643\" x2=\"1228.63\" y2=\"834.643\" style=\"stroke:#000000; stroke-width:4; stroke-opacity:1\"/>\n",
       "<line clip-path=\"url(#clip652)\" x1=\"1260.63\" y1=\"612.56\" x2=\"1228.63\" y2=\"612.56\" style=\"stroke:#000000; stroke-width:4; stroke-opacity:1\"/>\n",
       "<circle clip-path=\"url(#clip652)\" cx=\"440.822\" cy=\"890.163\" r=\"14.4\" fill=\"#e26f46\" fill-rule=\"evenodd\" fill-opacity=\"1\" stroke=\"#000000\" stroke-opacity=\"1\" stroke-width=\"2.4\"/>\n",
       "<circle clip-path=\"url(#clip652)\" cx=\"708.758\" cy=\"1001.2\" r=\"14.4\" fill=\"#e26f46\" fill-rule=\"evenodd\" fill-opacity=\"1\" stroke=\"#000000\" stroke-opacity=\"1\" stroke-width=\"2.4\"/>\n",
       "<circle clip-path=\"url(#clip652)\" cx=\"976.694\" cy=\"890.163\" r=\"14.4\" fill=\"#e26f46\" fill-rule=\"evenodd\" fill-opacity=\"1\" stroke=\"#000000\" stroke-opacity=\"1\" stroke-width=\"2.4\"/>\n",
       "<circle clip-path=\"url(#clip652)\" cx=\"1244.63\" cy=\"723.601\" r=\"14.4\" fill=\"#e26f46\" fill-rule=\"evenodd\" fill-opacity=\"1\" stroke=\"#000000\" stroke-opacity=\"1\" stroke-width=\"2.4\"/>\n",
       "<path clip-path=\"url(#clip650)\" d=\"M1263.55 237.394 L1505.42 237.394 L1505.42 81.8736 L1263.55 81.8736  Z\" fill=\"#ffffff\" fill-rule=\"evenodd\" fill-opacity=\"1\"/>\n",
       "<polyline clip-path=\"url(#clip650)\" style=\"stroke:#000000; stroke-linecap:round; stroke-linejoin:round; stroke-width:4; stroke-opacity:1; fill:none\" points=\"1263.55,237.394 1505.42,237.394 1505.42,81.8736 1263.55,81.8736 1263.55,237.394 \"/>\n",
       "<polyline clip-path=\"url(#clip650)\" style=\"stroke:#009af9; stroke-linecap:round; stroke-linejoin:round; stroke-width:4; stroke-opacity:1; fill:none\" points=\"1279.33,133.714 1374,133.714 \"/>\n",
       "<path clip-path=\"url(#clip650)\" d=\"M1406.29 114.975 L1406.29 118.517 L1402.21 118.517 Q1399.92 118.517 1399.02 119.443 Q1398.14 120.369 1398.14 122.776 L1398.14 125.068 L1405.15 125.068 L1405.15 128.378 L1398.14 128.378 L1398.14 150.994 L1393.86 150.994 L1393.86 128.378 L1389.78 128.378 L1389.78 125.068 L1393.86 125.068 L1393.86 123.262 Q1393.86 118.934 1395.87 116.966 Q1397.88 114.975 1402.26 114.975 L1406.29 114.975 Z\" fill=\"#000000\" fill-rule=\"nonzero\" fill-opacity=\"1\" /><path clip-path=\"url(#clip650)\" d=\"M1409.85 125.068 L1414.11 125.068 L1414.11 150.994 L1409.85 150.994 L1409.85 125.068 M1409.85 114.975 L1414.11 114.975 L1414.11 120.369 L1409.85 120.369 L1409.85 114.975 Z\" fill=\"#000000\" fill-rule=\"nonzero\" fill-opacity=\"1\" /><path clip-path=\"url(#clip650)\" d=\"M1427.24 117.707 L1427.24 125.068 L1436.01 125.068 L1436.01 128.378 L1427.24 128.378 L1427.24 142.452 Q1427.24 145.623 1428.09 146.526 Q1428.97 147.429 1431.63 147.429 L1436.01 147.429 L1436.01 150.994 L1431.63 150.994 Q1426.7 150.994 1424.83 149.165 Q1422.95 147.313 1422.95 142.452 L1422.95 128.378 L1419.83 128.378 L1419.83 125.068 L1422.95 125.068 L1422.95 117.707 L1427.24 117.707 Z\" fill=\"#000000\" fill-rule=\"nonzero\" fill-opacity=\"1\" /><circle clip-path=\"url(#clip650)\" cx=\"1326.67\" cy=\"185.554\" r=\"20.48\" fill=\"#e26f46\" fill-rule=\"evenodd\" fill-opacity=\"1\" stroke=\"#000000\" stroke-opacity=\"1\" stroke-width=\"3.41333\"/>\n",
       "<path clip-path=\"url(#clip650)\" d=\"M1408.69 180.843 L1408.69 166.815 L1412.95 166.815 L1412.95 202.834 L1408.69 202.834 L1408.69 198.945 Q1407.35 201.259 1405.29 202.394 Q1403.25 203.505 1400.38 203.505 Q1395.68 203.505 1392.72 199.755 Q1389.78 196.005 1389.78 189.894 Q1389.78 183.783 1392.72 180.033 Q1395.68 176.283 1400.38 176.283 Q1403.25 176.283 1405.29 177.417 Q1407.35 178.528 1408.69 180.843 M1394.18 189.894 Q1394.18 194.593 1396.1 197.278 Q1398.05 199.94 1401.42 199.94 Q1404.8 199.94 1406.75 197.278 Q1408.69 194.593 1408.69 189.894 Q1408.69 185.195 1406.75 182.533 Q1404.8 179.848 1401.42 179.848 Q1398.05 179.848 1396.1 182.533 Q1394.18 185.195 1394.18 189.894 Z\" fill=\"#000000\" fill-rule=\"nonzero\" fill-opacity=\"1\" /><path clip-path=\"url(#clip650)\" d=\"M1433.51 189.801 Q1428.35 189.801 1426.36 190.982 Q1424.36 192.162 1424.36 195.01 Q1424.36 197.278 1425.85 198.621 Q1427.35 199.94 1429.92 199.94 Q1433.46 199.94 1435.59 197.44 Q1437.74 194.917 1437.74 190.75 L1437.74 189.801 L1433.51 189.801 M1442 188.042 L1442 202.834 L1437.74 202.834 L1437.74 198.898 Q1436.29 201.259 1434.11 202.394 Q1431.93 203.505 1428.79 203.505 Q1424.8 203.505 1422.44 201.283 Q1420.11 199.037 1420.11 195.287 Q1420.11 190.912 1423.02 188.69 Q1425.96 186.468 1431.77 186.468 L1437.74 186.468 L1437.74 186.051 Q1437.74 183.111 1435.8 181.514 Q1433.88 179.894 1430.38 179.894 Q1428.16 179.894 1426.05 180.426 Q1423.95 180.959 1422 182.023 L1422 178.088 Q1424.34 177.186 1426.54 176.746 Q1428.74 176.283 1430.82 176.283 Q1436.45 176.283 1439.23 179.199 Q1442 182.116 1442 188.042 Z\" fill=\"#000000\" fill-rule=\"nonzero\" fill-opacity=\"1\" /><path clip-path=\"url(#clip650)\" d=\"M1454.99 169.547 L1454.99 176.908 L1463.76 176.908 L1463.76 180.218 L1454.99 180.218 L1454.99 194.292 Q1454.99 197.463 1455.85 198.366 Q1456.73 199.269 1459.39 199.269 L1463.76 199.269 L1463.76 202.834 L1459.39 202.834 Q1454.46 202.834 1452.58 201.005 Q1450.71 199.153 1450.71 194.292 L1450.71 180.218 L1447.58 180.218 L1447.58 176.908 L1450.71 176.908 L1450.71 169.547 L1454.99 169.547 Z\" fill=\"#000000\" fill-rule=\"nonzero\" fill-opacity=\"1\" /><path clip-path=\"url(#clip650)\" d=\"M1481.15 189.801 Q1475.98 189.801 1473.99 190.982 Q1472 192.162 1472 195.01 Q1472 197.278 1473.48 198.621 Q1474.99 199.94 1477.56 199.94 Q1481.1 199.94 1483.23 197.44 Q1485.38 194.917 1485.38 190.75 L1485.38 189.801 L1481.15 189.801 M1489.64 188.042 L1489.64 202.834 L1485.38 202.834 L1485.38 198.898 Q1483.92 201.259 1481.75 202.394 Q1479.57 203.505 1476.42 203.505 Q1472.44 203.505 1470.08 201.283 Q1467.74 199.037 1467.74 195.287 Q1467.74 190.912 1470.66 188.69 Q1473.6 186.468 1479.41 186.468 L1485.38 186.468 L1485.38 186.051 Q1485.38 183.111 1483.44 181.514 Q1481.52 179.894 1478.02 179.894 Q1475.8 179.894 1473.69 180.426 Q1471.59 180.959 1469.64 182.023 L1469.64 178.088 Q1471.98 177.186 1474.18 176.746 Q1476.38 176.283 1478.46 176.283 Q1484.09 176.283 1486.86 179.199 Q1489.64 182.116 1489.64 188.042 Z\" fill=\"#000000\" fill-rule=\"nonzero\" fill-opacity=\"1\" /></svg>\n"
      ]
     },
     "metadata": {},
     "output_type": "display_data"
    }
   ],
   "source": [
    "using Plots\n",
    "\n",
    "function sigma_y_fit(x)\n",
    "    J = [1., x,  x^2]\n",
    "    return sqrt(J' * U * J)\n",
    "end\n",
    "\n",
    "xv = range(-1, 1, length=100)\n",
    "yv = θ[1] .+ θ[2] .* xv + θ[3] .* xv.^2\n",
    "\n",
    "plot(xv, yv, ribbon=sigma_y_fit.(xv), fillalpha = 0.35, label=\"fit\", \n",
    "    size=(400,300))\n",
    "scatter!(x, y, yerr=σ, label=\"data\")"
   ]
  }
 ],
 "metadata": {
  "kernelspec": {
   "display_name": "Julia 1.10.2",
   "language": "julia",
   "name": "julia-1.10"
  },
  "language_info": {
   "file_extension": ".jl",
   "mimetype": "application/julia",
   "name": "julia",
   "version": "1.10.2"
  }
 },
 "nbformat": 4,
 "nbformat_minor": 5
}
