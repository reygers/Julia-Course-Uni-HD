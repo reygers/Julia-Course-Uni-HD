{
 "cells": [
  {
   "cell_type": "markdown",
   "metadata": {},
   "source": [
    "<style>\n",
    "/* Set font size for headers */\n",
    "h1, h2, h3, h4, h5, h6 {\n",
    "    font-size: 32px; /* Adjust as needed */\n",
    "}\n",
    "\n",
    "/* Set font size for paragraphs */\n",
    "p, li, ul {\n",
    "    font-size: 24px; /* Adjust as needed */\n",
    "}\n",
    "</style>\n",
    "\n",
    "\n",
    "Introduction to the Julia programming language\n",
    "\n",
    "![](images/julia-logo.svg)\n",
    "\n",
    "## 8 Control Flow"
   ]
  },
  {
   "cell_type": "markdown",
   "metadata": {
    "slideshow": {
     "slide_type": "slide"
    }
   },
   "source": [
    "## if then else\n",
    "\n",
    "Conditional execution is very easily achieved with an `if` block in Julia:"
   ]
  },
  {
   "cell_type": "code",
   "execution_count": 1,
   "metadata": {},
   "outputs": [
    {
     "data": {
      "text/plain": [
       "gtlteq (generic function with 1 method)"
      ]
     },
     "metadata": {},
     "output_type": "display_data"
    }
   ],
   "source": [
    "function gtlteq(a, b)\n",
    "    if a > b\n",
    "        println(\"$a is greater than $b\")\n",
    "    elseif a < b\n",
    "        println(\"$a is less than $b\")\n",
    "    elseif a == b\n",
    "        println(\"$a is equal to $b\")\n",
    "    else\n",
    "        println(\"I have no idea about $a and $b!\")\n",
    "    end\n",
    "end"
   ]
  },
  {
   "cell_type": "code",
   "execution_count": 2,
   "metadata": {
    "slideshow": {
     "slide_type": "slide"
    }
   },
   "outputs": [
    {
     "name": "stdout",
     "output_type": "stream",
     "text": [
      "2.3 is greater than -9\n"
     ]
    }
   ],
   "source": [
    "gtlteq(2.3, -9)"
   ]
  },
  {
   "cell_type": "code",
   "execution_count": 3,
   "metadata": {},
   "outputs": [
    {
     "name": "stdout",
     "output_type": "stream",
     "text": [
      "apples is less than oranges\n"
     ]
    }
   ],
   "source": [
    "gtlteq(\"apples\", \"oranges\")"
   ]
  },
  {
   "cell_type": "markdown",
   "metadata": {
    "slideshow": {
     "slide_type": "slide"
    }
   },
   "source": [
    "## Short Circuit and Ternary Operators"
   ]
  },
  {
   "cell_type": "markdown",
   "metadata": {},
   "source": [
    "### Short Circuit\n",
    "\n",
    "The operators `&&` and `||` can be used for conditional execution.\n",
    "\n",
    "- `a && b` - evaluate `b` only if `a` (i.e., `a` is true)\n",
    "- `a || b` - evaluate `b` only if `!a` (i.e., `a` is false)"
   ]
  },
  {
   "cell_type": "code",
   "execution_count": 6,
   "metadata": {},
   "outputs": [
    {
     "data": {
      "text/plain": [
       "\"it's true\""
      ]
     },
     "metadata": {},
     "output_type": "display_data"
    }
   ],
   "source": [
    "true && \"it's true\""
   ]
  },
  {
   "cell_type": "code",
   "execution_count": 7,
   "metadata": {},
   "outputs": [
    {
     "data": {
      "text/plain": [
       "\"it's false\""
      ]
     },
     "metadata": {},
     "output_type": "display_data"
    }
   ],
   "source": [
    "false || \"it's false\""
   ]
  },
  {
   "cell_type": "code",
   "execution_count": 8,
   "metadata": {},
   "outputs": [
    {
     "data": {
      "text/plain": [
       "false"
      ]
     },
     "metadata": {},
     "output_type": "display_data"
    }
   ],
   "source": [
    "false && \"it's true\""
   ]
  },
  {
   "cell_type": "markdown",
   "metadata": {
    "slideshow": {
     "slide_type": "slide"
    }
   },
   "source": [
    "## Ternary\n",
    "\n",
    "A special type of \"quick\" conditional is the ternary operator, familiar from C:"
   ]
  },
  {
   "cell_type": "code",
   "execution_count": 9,
   "metadata": {},
   "outputs": [
    {
     "data": {
      "text/plain": [
       "\"it's smaller\""
      ]
     },
     "metadata": {},
     "output_type": "display_data"
    }
   ],
   "source": [
    "2 > 4 ? \"it's bigger\" : \"it's smaller\""
   ]
  },
  {
   "cell_type": "markdown",
   "metadata": {},
   "source": [
    "The syntax is `a ? b : c` meaning *if `a`, evaluate `b`, else evaluate `c`*. "
   ]
  },
  {
   "cell_type": "markdown",
   "metadata": {
    "slideshow": {
     "slide_type": "slide"
    }
   },
   "source": [
    "## Loops\n",
    "\n",
    "### `For` loops\n",
    "\n",
    "For loops are always over an *iterator* in Julia, allowing a loop over any object that has a beginning and an end:"
   ]
  },
  {
   "cell_type": "code",
   "execution_count": 10,
   "metadata": {},
   "outputs": [
    {
     "name": "stdout",
     "output_type": "stream",
     "text": [
      "I am at number 1\n",
      "I am at number 2\n",
      "I am at number 3\n",
      "I am at number 4\n"
     ]
    }
   ],
   "source": [
    "for number in 1:4\n",
    "    println(\"I am at number $number\")\n",
    "end"
   ]
  },
  {
   "cell_type": "markdown",
   "metadata": {
    "slideshow": {
     "slide_type": "slide"
    }
   },
   "source": [
    "### `enumerate`"
   ]
  },
  {
   "cell_type": "code",
   "execution_count": 11,
   "metadata": {},
   "outputs": [
    {
     "name": "stdout",
     "output_type": "stream",
     "text": [
      "Word 1 is I\n",
      "Word 2 is think\n",
      "Word 3 is therefore\n",
      "Word 4 is I\n",
      "Word 5 is am\n"
     ]
    }
   ],
   "source": [
    "for (index, string) in enumerate([\"I\", \"think\", \"therefore\", \"I\", \"am\"])\n",
    "    println(\"Word $index is $string\")\n",
    "end"
   ]
  },
  {
   "cell_type": "markdown",
   "metadata": {
    "slideshow": {
     "slide_type": "slide"
    }
   },
   "source": [
    "### `zip`"
   ]
  },
  {
   "cell_type": "code",
   "execution_count": 12,
   "metadata": {},
   "outputs": [
    {
     "name": "stdout",
     "output_type": "stream",
     "text": [
      "The 1 and 10 say yes\n",
      "The 2 and 11 say no\n",
      "The 3 and 12 say maybe\n"
     ]
    }
   ],
   "source": [
    "for (hip, hop, hup) ∈ zip(1:3, 10:12, [\"yes\", \"no\", \"maybe\"])\n",
    "    println(\"The $hip and $hop say $hup\")\n",
    "end"
   ]
  },
  {
   "cell_type": "markdown",
   "metadata": {},
   "source": [
    "Note that Julia is happy with `for z in ...` and `for z ∈ ...` (type `\\in` to get a `∈`; note that `=` can be used, so you might see this, but it is frowned upon!)"
   ]
  },
  {
   "cell_type": "markdown",
   "metadata": {
    "slideshow": {
     "slide_type": "slide"
    }
   },
   "source": [
    "A more novel feature: `for` will also naturally form the outer product of a comma-separated set of iterators provided to them, without the need for \"nesting\" of loops. (This also applies to the `for` in comprehensions, so you can easily make multi-dimensional arrays with a chain of iterators if you want all the combinations that result as elements.)"
   ]
  },
  {
   "cell_type": "code",
   "execution_count": 13,
   "metadata": {},
   "outputs": [
    {
     "name": "stdout",
     "output_type": "stream",
     "text": [
      "The product of 1 and 1 is 1\n",
      "The product of 1 and 2 is 2\n",
      "The product of 1 and 3 is 3\n",
      "The product of 1 and 4 is 4\n",
      "The product of 2 and 1 is 2\n",
      "The product of 2 and 2 is 4\n",
      "The product of 2 and 3 is 6\n",
      "The product of 2 and 4 is 8\n",
      "The product of 3 and 1 is 3\n",
      "The product of 3 and 2 is 6\n",
      "The product of 3 and 3 is 9\n",
      "The product of 3 and 4 is 12\n"
     ]
    }
   ],
   "source": [
    "for i in 1:3, j in 1:4  #like for i=1:3 ; for j=1:4 ...\n",
    "    println(\"The product of $i and $j is $(i*j)\")\n",
    "end"
   ]
  },
  {
   "cell_type": "markdown",
   "metadata": {
    "slideshow": {
     "slide_type": "slide"
    }
   },
   "source": [
    "### `while` loops\n",
    "\n",
    "By now it is going to be no surprise to you how Julia constructs a `while` loop:"
   ]
  },
  {
   "cell_type": "code",
   "execution_count": 14,
   "metadata": {},
   "outputs": [
    {
     "name": "stdout",
     "output_type": "stream",
     "text": [
      "5...\n",
      "4...\n",
      "3...\n",
      "2...\n",
      "1...\n",
      "blast off!\n"
     ]
    }
   ],
   "source": [
    "countdown = 5\n",
    "while countdown > 0\n",
    "    println(countdown, \"...\")\n",
    "    countdown -= 1\n",
    "end\n",
    "println(\"blast off!\")"
   ]
  },
  {
   "cell_type": "markdown",
   "metadata": {},
   "source": []
  }
 ],
 "metadata": {
  "kernelspec": {
   "display_name": "Julia 1.10.2",
   "language": "julia",
   "name": "julia-1.10"
  },
  "language_info": {
   "file_extension": ".jl",
   "mimetype": "application/julia",
   "name": "julia",
   "version": "1.10.2"
  }
 },
 "nbformat": 4,
 "nbformat_minor": 4
}
