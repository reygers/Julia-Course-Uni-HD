{
 "cells": [
  {
   "cell_type": "markdown",
   "metadata": {},
   "source": [
    "## Exercises: 7. Functions"
   ]
  },
  {
   "cell_type": "markdown",
   "metadata": {},
   "source": [
    "#### Problem 1\n",
    "\n",
    "Write a function that calculates the first $n$ elements of the [Fibonacci sequence](https://en.wikipedia.org/wiki/Fibonacci_sequence) in a recursive way."
   ]
  },
  {
   "cell_type": "code",
   "execution_count": 7,
   "metadata": {},
   "outputs": [
    {
     "name": "stdout",
     "output_type": "stream",
     "text": [
      "1 2 3 5 8 13 21 34 55 89 "
     ]
    }
   ],
   "source": [
    "function fibonacci(n)\n",
    "    if n <= 2\n",
    "        return n\n",
    "    end\n",
    "    return fibonacci(n-1) + fibonacci(n-2)\n",
    "end\n",
    "\n",
    "n = 10\n",
    "for i in 1:n\n",
    "    print(fibonacci(i), \" \")\n",
    "end"
   ]
  },
  {
   "cell_type": "markdown",
   "metadata": {},
   "source": [
    "#### Problem 2\n",
    "\n",
    "A palindrome is a word that is spelled the same backward and forward, like “noon” and “redivider”. Recursively, a word is a palindrome if the first and last letters are the same and the middle is a palindrome.\n",
    "\n",
    "The following are functions that take a string argument and return the first, last, and middle letters:\n"
   ]
  },
  {
   "cell_type": "code",
   "execution_count": 1,
   "metadata": {},
   "outputs": [
    {
     "data": {
      "text/plain": [
       "middle (generic function with 1 method)"
      ]
     },
     "metadata": {},
     "output_type": "display_data"
    }
   ],
   "source": [
    "function first(word)\n",
    "    first = firstindex(word)\n",
    "    word[first]\n",
    "end\n",
    "\n",
    "function last(word)\n",
    "    last = lastindex(word)\n",
    "    word[last]\n",
    "end\n",
    "\n",
    "function middle(word)\n",
    "    first = firstindex(word)\n",
    "    last = lastindex(word)\n",
    "    word[nextind(word, first) : prevind(word, last)]\n",
    "end"
   ]
  },
  {
   "cell_type": "markdown",
   "metadata": {},
   "source": [
    "a) Test these functions out. What happens if you call middle with a string with two letters? One letter? What about the empty string, which is written \"\" and contains no letters?\n",
    "\n",
    "b) Write a function called `ispalindrome` that takes a string argument and returns true if it is a palindrome and false otherwise. Remember that you can use the built-in function length to check the length of a string."
   ]
  },
  {
   "cell_type": "markdown",
   "metadata": {},
   "source": [
    "#### Solution"
   ]
  },
  {
   "cell_type": "code",
   "execution_count": 13,
   "metadata": {},
   "outputs": [
    {
     "name": "stdout",
     "output_type": "stream",
     "text": [
      "racecar is a palindrome\n"
     ]
    }
   ],
   "source": [
    "function ispalindrome(text::String)\n",
    "  \n",
    "    function first(word)\n",
    "      first = firstindex(word)\n",
    "      word[first]\n",
    "    end\n",
    "\n",
    "    function last(word)\n",
    "        last = lastindex(word)\n",
    "        word[last]\n",
    "    end\n",
    "\n",
    "    function middle(word)\n",
    "        first = firstindex(word)\n",
    "        last = lastindex(word)\n",
    "        word[nextind(word, first) : prevind(word, last)]\n",
    "    end\n",
    "  \n",
    "    # Base cases: empty or single character strings\n",
    "    if isempty(text) || length(text) == 1\n",
    "        return true\n",
    "    end\n",
    "  \n",
    "    # Check first and last characters (case-insensitive)\n",
    "    if Char(lowercase(first(text))) != Char(lowercase(last(text)))\n",
    "        return false\n",
    "    end\n",
    "  \n",
    "    # Recursively check the middle substring\n",
    "    return ispalindrome(middle(text))\n",
    "end\n",
    "  \n",
    "# Example usage\n",
    "text = \"racecar\"\n",
    "if ispalindrome(text)\n",
    "    println(\"$text is a palindrome\")\n",
    "else\n",
    "    println(\"$text is not a palindrome\")\n",
    "end"
   ]
  }
 ],
 "metadata": {
  "kernelspec": {
   "display_name": "Julia 1.10.2",
   "language": "julia",
   "name": "julia-1.10"
  },
  "language_info": {
   "file_extension": ".jl",
   "mimetype": "application/julia",
   "name": "julia",
   "version": "1.10.2"
  }
 },
 "nbformat": 4,
 "nbformat_minor": 2
}
