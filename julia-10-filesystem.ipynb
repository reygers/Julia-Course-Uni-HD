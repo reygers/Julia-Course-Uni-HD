{
 "cells": [
  {
   "cell_type": "markdown",
   "id": "0005d92b",
   "metadata": {},
   "source": [
    "<style>\n",
    "/* Set font size for headers */\n",
    "h1, h2, h3, h4, h5, h6 {\n",
    "    font-size: 32px; /* Adjust as needed */\n",
    "}\n",
    "\n",
    "/* Set font size for paragraphs */\n",
    "p, li, ul {\n",
    "    font-size: 24px; /* Adjust as needed */\n",
    "}\n",
    "</style>\n",
    "\n",
    "\n",
    "Introduction to the Julia programming language\n",
    "\n",
    "![](images/julia-logo.svg)\n",
    "\n",
    "## 10 Filesystem"
   ]
  },
  {
   "cell_type": "markdown",
   "id": "2d07120c",
   "metadata": {
    "slideshow": {
     "slide_type": "slide"
    }
   },
   "source": [
    "The do syntax we saw earlier is helpful when using the open() function:"
   ]
  },
  {
   "cell_type": "code",
   "execution_count": 1,
   "id": "2f2d92bd",
   "metadata": {},
   "outputs": [
    {
     "name": "stdout",
     "output_type": "stream",
     "text": [
      "[This is a test.]\n",
      "[I repeat, this is a test.]\n"
     ]
    }
   ],
   "source": [
    "open(\"test.txt\", \"w\") do f\n",
    "    write(f, \"This is a test.\\n\")\n",
    "    write(f, \"I repeat, this is a test.\\n\")\n",
    "end\n",
    "\n",
    "open(\"test.txt\") do f\n",
    "    for line in eachline(f)\n",
    "        println(\"[$line]\")\n",
    "    end\n",
    "end"
   ]
  },
  {
   "cell_type": "markdown",
   "id": "ffb95fc1",
   "metadata": {},
   "source": [
    "Alternatively, you can read the whole file into a string:"
   ]
  },
  {
   "cell_type": "code",
   "execution_count": 2,
   "id": "8c1d6581",
   "metadata": {},
   "outputs": [
    {
     "data": {
      "text/plain": [
       "\"This is a test.\\nI repeat, this is a test.\\n\""
      ]
     },
     "metadata": {},
     "output_type": "display_data"
    }
   ],
   "source": [
    "s = read(\"test.txt\", String)"
   ]
  },
  {
   "cell_type": "markdown",
   "id": "69075efa",
   "metadata": {
    "slideshow": {
     "slide_type": "slide"
    }
   },
   "source": [
    "## Reading a file from a URL"
   ]
  },
  {
   "cell_type": "code",
   "execution_count": 3,
   "id": "57c140ec",
   "metadata": {},
   "outputs": [
    {
     "data": {
      "text/html": [
       "<div><div style = \"float: left;\"><span>19020×11 DataFrame</span></div><div style = \"float: right;\"><span style = \"font-style: italic;\">19014 rows omitted</span></div><div style = \"clear: both;\"></div></div><div class = \"data-frame\" style = \"overflow-x: scroll;\"><table class = \"data-frame\" style = \"margin-bottom: 6px;\"><thead><tr class = \"header\"><th class = \"rowNumber\" style = \"font-weight: bold; text-align: right;\">Row</th><th style = \"text-align: left;\">fLength</th><th style = \"text-align: left;\">fWidth</th><th style = \"text-align: left;\">fSize</th><th style = \"text-align: left;\">fConc</th><th style = \"text-align: left;\">fConc1</th><th style = \"text-align: left;\">fAsym</th><th style = \"text-align: left;\">fM3Long</th><th style = \"text-align: left;\">fM3Trans</th><th style = \"text-align: left;\">fAlpha</th><th style = \"text-align: left;\">fDist</th><th style = \"text-align: left;\">class</th></tr><tr class = \"subheader headerLastRow\"><th class = \"rowNumber\" style = \"font-weight: bold; text-align: right;\"></th><th title = \"Float64\" style = \"text-align: left;\">Float64</th><th title = \"Float64\" style = \"text-align: left;\">Float64</th><th title = \"Float64\" style = \"text-align: left;\">Float64</th><th title = \"Float64\" style = \"text-align: left;\">Float64</th><th title = \"Float64\" style = \"text-align: left;\">Float64</th><th title = \"Float64\" style = \"text-align: left;\">Float64</th><th title = \"Float64\" style = \"text-align: left;\">Float64</th><th title = \"Float64\" style = \"text-align: left;\">Float64</th><th title = \"Float64\" style = \"text-align: left;\">Float64</th><th title = \"Float64\" style = \"text-align: left;\">Float64</th><th title = \"String1\" style = \"text-align: left;\">String1</th></tr></thead><tbody><tr><td class = \"rowNumber\" style = \"font-weight: bold; text-align: right;\">1</td><td style = \"text-align: right;\">28.7967</td><td style = \"text-align: right;\">16.0021</td><td style = \"text-align: right;\">2.6449</td><td style = \"text-align: right;\">0.3918</td><td style = \"text-align: right;\">0.1982</td><td style = \"text-align: right;\">27.7004</td><td style = \"text-align: right;\">22.011</td><td style = \"text-align: right;\">-8.2027</td><td style = \"text-align: right;\">40.092</td><td style = \"text-align: right;\">81.8828</td><td style = \"text-align: left;\">g</td></tr><tr><td class = \"rowNumber\" style = \"font-weight: bold; text-align: right;\">2</td><td style = \"text-align: right;\">31.6036</td><td style = \"text-align: right;\">11.7235</td><td style = \"text-align: right;\">2.5185</td><td style = \"text-align: right;\">0.5303</td><td style = \"text-align: right;\">0.3773</td><td style = \"text-align: right;\">26.2722</td><td style = \"text-align: right;\">23.8238</td><td style = \"text-align: right;\">-9.9574</td><td style = \"text-align: right;\">6.3609</td><td style = \"text-align: right;\">205.261</td><td style = \"text-align: left;\">g</td></tr><tr><td class = \"rowNumber\" style = \"font-weight: bold; text-align: right;\">3</td><td style = \"text-align: right;\">162.052</td><td style = \"text-align: right;\">136.031</td><td style = \"text-align: right;\">4.0612</td><td style = \"text-align: right;\">0.0374</td><td style = \"text-align: right;\">0.0187</td><td style = \"text-align: right;\">116.741</td><td style = \"text-align: right;\">-64.858</td><td style = \"text-align: right;\">-45.216</td><td style = \"text-align: right;\">76.96</td><td style = \"text-align: right;\">256.788</td><td style = \"text-align: left;\">g</td></tr><tr><td style = \"text-align: right;\">&vellip;</td><td style = \"text-align: right;\">&vellip;</td><td style = \"text-align: right;\">&vellip;</td><td style = \"text-align: right;\">&vellip;</td><td style = \"text-align: right;\">&vellip;</td><td style = \"text-align: right;\">&vellip;</td><td style = \"text-align: right;\">&vellip;</td><td style = \"text-align: right;\">&vellip;</td><td style = \"text-align: right;\">&vellip;</td><td style = \"text-align: right;\">&vellip;</td><td style = \"text-align: right;\">&vellip;</td><td style = \"text-align: right;\">&vellip;</td></tr><tr><td class = \"rowNumber\" style = \"font-weight: bold; text-align: right;\">19018</td><td style = \"text-align: right;\">75.4455</td><td style = \"text-align: right;\">47.5305</td><td style = \"text-align: right;\">3.4483</td><td style = \"text-align: right;\">0.1417</td><td style = \"text-align: right;\">0.0549</td><td style = \"text-align: right;\">-9.3561</td><td style = \"text-align: right;\">41.0562</td><td style = \"text-align: right;\">-9.4662</td><td style = \"text-align: right;\">30.2987</td><td style = \"text-align: right;\">256.517</td><td style = \"text-align: left;\">h</td></tr><tr><td class = \"rowNumber\" style = \"font-weight: bold; text-align: right;\">19019</td><td style = \"text-align: right;\">120.513</td><td style = \"text-align: right;\">76.9018</td><td style = \"text-align: right;\">3.9939</td><td style = \"text-align: right;\">0.0944</td><td style = \"text-align: right;\">0.0683</td><td style = \"text-align: right;\">5.8043</td><td style = \"text-align: right;\">-93.5224</td><td style = \"text-align: right;\">-63.8389</td><td style = \"text-align: right;\">84.6874</td><td style = \"text-align: right;\">408.317</td><td style = \"text-align: left;\">h</td></tr><tr><td class = \"rowNumber\" style = \"font-weight: bold; text-align: right;\">19020</td><td style = \"text-align: right;\">187.181</td><td style = \"text-align: right;\">53.0014</td><td style = \"text-align: right;\">3.2093</td><td style = \"text-align: right;\">0.2876</td><td style = \"text-align: right;\">0.1539</td><td style = \"text-align: right;\">-167.312</td><td style = \"text-align: right;\">-168.456</td><td style = \"text-align: right;\">31.4755</td><td style = \"text-align: right;\">52.731</td><td style = \"text-align: right;\">272.317</td><td style = \"text-align: left;\">h</td></tr></tbody></table></div>"
      ],
      "text/latex": [
       "\\begin{tabular}{r|cccccccccc}\n",
       "\t& fLength & fWidth & fSize & fConc & fConc1 & fAsym & fM3Long & fM3Trans & fAlpha & \\\\\n",
       "\t\\hline\n",
       "\t& Float64 & Float64 & Float64 & Float64 & Float64 & Float64 & Float64 & Float64 & Float64 & \\\\\n",
       "\t\\hline\n",
       "\t1 & 28.7967 & 16.0021 & 2.6449 & 0.3918 & 0.1982 & 27.7004 & 22.011 & -8.2027 & 40.092 & $\\dots$ \\\\\n",
       "\t2 & 31.6036 & 11.7235 & 2.5185 & 0.5303 & 0.3773 & 26.2722 & 23.8238 & -9.9574 & 6.3609 & $\\dots$ \\\\\n",
       "\t3 & 162.052 & 136.031 & 4.0612 & 0.0374 & 0.0187 & 116.741 & -64.858 & -45.216 & 76.96 & $\\dots$ \\\\\n",
       "\t4 & 23.8172 & 9.5728 & 2.3385 & 0.6147 & 0.3922 & 27.2107 & -6.4633 & -7.1513 & 10.449 & $\\dots$ \\\\\n",
       "\t5 & 75.1362 & 30.9205 & 3.1611 & 0.3168 & 0.1832 & -5.5277 & 28.5525 & 21.8393 & 4.648 & $\\dots$ \\\\\n",
       "\t6 & 51.624 & 21.1502 & 2.9085 & 0.242 & 0.134 & 50.8761 & 43.1887 & 9.8145 & 3.613 & $\\dots$ \\\\\n",
       "\t7 & 48.2468 & 17.3565 & 3.0332 & 0.2529 & 0.1515 & 8.573 & 38.0957 & 10.5868 & 4.792 & $\\dots$ \\\\\n",
       "\t8 & 26.7897 & 13.7595 & 2.5521 & 0.4236 & 0.2174 & 29.6339 & 20.456 & -2.9292 & 0.812 & $\\dots$ \\\\\n",
       "\t9 & 96.2327 & 46.5165 & 4.154 & 0.0779 & 0.039 & 110.355 & 85.0486 & 43.1844 & 4.854 & $\\dots$ \\\\\n",
       "\t10 & 46.7619 & 15.1993 & 2.5786 & 0.3377 & 0.1913 & 24.7548 & 43.8771 & -6.6812 & 7.875 & $\\dots$ \\\\\n",
       "\t11 & 62.7766 & 29.9104 & 3.3331 & 0.2475 & 0.1261 & -33.9065 & 57.5848 & 23.771 & 9.9144 & $\\dots$ \\\\\n",
       "\t12 & 18.8562 & 16.46 & 2.4385 & 0.5282 & 0.2933 & 25.1269 & -6.5401 & -16.9327 & 11.461 & $\\dots$ \\\\\n",
       "\t13 & 45.6321 & 22.71 & 3.0441 & 0.2213 & 0.1215 & -18.3986 & -20.6427 & -14.3164 & 0.3822 & $\\dots$ \\\\\n",
       "\t14 & 33.1818 & 12.4655 & 2.4955 & 0.4696 & 0.2412 & -17.0341 & -22.0762 & -8.1803 & 41.929 & $\\dots$ \\\\\n",
       "\t15 & 60.458 & 33.1061 & 3.1944 & 0.4679 & 0.2464 & 14.3 & -33.8765 & 28.8315 & 8.292 & $\\dots$ \\\\\n",
       "\t16 & 29.4741 & 22.4581 & 2.6258 & 0.3077 & 0.174 & 18.1242 & 22.7035 & 13.1673 & 48.0364 & $\\dots$ \\\\\n",
       "\t17 & 36.1741 & 17.6865 & 2.946 & 0.2865 & 0.1591 & -4.7746 & -18.9697 & 11.3256 & 0.254 & $\\dots$ \\\\\n",
       "\t18 & 46.2915 & 16.0328 & 2.7756 & 0.3403 & 0.192 & 49.9706 & 33.3653 & -12.7979 & 38.707 & $\\dots$ \\\\\n",
       "\t19 & 46.0588 & 18.787 & 3.2217 & 0.2431 & 0.1504 & 49.2704 & 34.1066 & 10.7955 & 8.686 & $\\dots$ \\\\\n",
       "\t20 & 44.7394 & 15.6364 & 2.638 & 0.3107 & 0.1715 & 14.043 & 37.2246 & 12.4183 & 3.251 & $\\dots$ \\\\\n",
       "\t21 & 91.6423 & 71.8818 & 3.8484 & 0.078 & 0.043 & -56.7107 & 72.3016 & 60.019 & 16.622 & $\\dots$ \\\\\n",
       "\t22 & 86.0486 & 21.8287 & 3.3587 & 0.2369 & 0.1662 & -58.7854 & 57.8212 & -18.8093 & 2.005 & $\\dots$ \\\\\n",
       "\t23 & 90.5299 & 17.8721 & 3.033 & 0.2122 & 0.108 & -57.417 & 84.6189 & 14.9662 & 2.039 & $\\dots$ \\\\\n",
       "\t24 & 20.3836 & 9.0462 & 2.3365 & 0.6359 & 0.3894 & 22.27 & 12.9487 & -2.0403 & 43.0032 & $\\dots$ \\\\\n",
       "\t$\\dots$ & $\\dots$ & $\\dots$ & $\\dots$ & $\\dots$ & $\\dots$ & $\\dots$ & $\\dots$ & $\\dots$ & $\\dots$ &  \\\\\n",
       "\\end{tabular}\n"
      ],
      "text/plain": [
       "\u001b[1m19020×11 DataFrame\u001b[0m\n",
       "\u001b[1m   Row \u001b[0m│\u001b[1m fLength  \u001b[0m\u001b[1m fWidth   \u001b[0m\u001b[1m fSize   \u001b[0m\u001b[1m fConc   \u001b[0m\u001b[1m fConc1  \u001b[0m\u001b[1m fAsym     \u001b[0m\u001b[1m fM3Long   \u001b[0m\u001b[1m \u001b[0m ⋯\n",
       "       │\u001b[90m Float64  \u001b[0m\u001b[90m Float64  \u001b[0m\u001b[90m Float64 \u001b[0m\u001b[90m Float64 \u001b[0m\u001b[90m Float64 \u001b[0m\u001b[90m Float64   \u001b[0m\u001b[90m Float64   \u001b[0m\u001b[90m \u001b[0m ⋯\n",
       "───────┼────────────────────────────────────────────────────────────────────────\n",
       "     1 │  28.7967   16.0021   2.6449   0.3918   0.1982    27.7004    22.011    ⋯\n",
       "     2 │  31.6036   11.7235   2.5185   0.5303   0.3773    26.2722    23.8238\n",
       "     3 │ 162.052   136.031    4.0612   0.0374   0.0187   116.741    -64.858\n",
       "     4 │  23.8172    9.5728   2.3385   0.6147   0.3922    27.2107    -6.4633\n",
       "     5 │  75.1362   30.9205   3.1611   0.3168   0.1832    -5.5277    28.5525   ⋯\n",
       "     6 │  51.624    21.1502   2.9085   0.242    0.134     50.8761    43.1887\n",
       "     7 │  48.2468   17.3565   3.0332   0.2529   0.1515     8.573     38.0957\n",
       "     8 │  26.7897   13.7595   2.5521   0.4236   0.2174    29.6339    20.456\n",
       "   ⋮   │    ⋮         ⋮         ⋮        ⋮        ⋮         ⋮          ⋮       ⋱\n",
       " 19014 │ 182.5      76.5568   3.6872   0.1123   0.0666   192.268     93.0302   ⋯\n",
       " 19015 │  43.298    17.3545   2.8307   0.2877   0.1646   -60.1842   -33.8513\n",
       " 19016 │  21.3846   10.917    2.6161   0.5857   0.3934    15.2618    11.5245\n",
       " 19017 │  28.9452    6.702    2.2672   0.5351   0.2784    37.0816    13.1853\n",
       " 19018 │  75.4455   47.5305   3.4483   0.1417   0.0549    -9.3561    41.0562   ⋯\n",
       " 19019 │ 120.513    76.9018   3.9939   0.0944   0.0683     5.8043   -93.5224\n",
       " 19020 │ 187.181    53.0014   3.2093   0.2876   0.1539  -167.312   -168.456\n",
       "\u001b[36m                                                4 columns and 19005 rows omitted\u001b[0m"
      ]
     },
     "metadata": {},
     "output_type": "display_data"
    }
   ],
   "source": [
    "using CSV, HTTP, DataFrames\n",
    "ENV[\"DATAFRAMES_ROWS\"] = 6;\n",
    "\n",
    "url = \"https://www.physi.uni-heidelberg.de/~reygers/lectures/2021/ml/data/magic04_data.txt\"\n",
    "\n",
    "# Read the CSV file from the URL\n",
    "response = HTTP.get(url)\n",
    "df = CSV.read(IOBuffer(response.body), DataFrame)"
   ]
  },
  {
   "cell_type": "code",
   "execution_count": null,
   "id": "d845042f",
   "metadata": {},
   "outputs": [],
   "source": []
  }
 ],
 "metadata": {
  "kernelspec": {
   "display_name": "Julia 1.10.2",
   "language": "julia",
   "name": "julia-1.10"
  },
  "language_info": {
   "file_extension": ".jl",
   "mimetype": "application/julia",
   "name": "julia",
   "version": "1.10.2"
  }
 },
 "nbformat": 4,
 "nbformat_minor": 5
}
