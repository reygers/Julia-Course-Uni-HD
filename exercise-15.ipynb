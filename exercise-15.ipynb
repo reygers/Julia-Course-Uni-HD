{
 "cells": [
  {
   "cell_type": "markdown",
   "metadata": {},
   "source": [
    "## Exercises: 15. Plotting"
   ]
  },
  {
   "cell_type": "markdown",
   "metadata": {},
   "source": [
    "#### Problem 1\n"
   ]
  },
  {
   "cell_type": "markdown",
   "metadata": {},
   "source": [
    "a) Create a plot of $f(x) = \\sinh x$, $g(x) = \\cosh x $, and $h(x) = \\tanh x$ in the $x$ range $[-5, 5]$ and the $y$ range [-5, 5] with an aspect ratio 1. Plot the $\\tanh x$ with a dashed line. Add a legend in the lower right corner. Add the text $\\cosh^2x - \\sinh^2x = 1$ to the plot."
   ]
  },
  {
   "cell_type": "markdown",
   "metadata": {},
   "source": [
    "b) Plot the standard normal distribution using `Distributions.jl` and fill the area under the curve in the range $[-1, 1]$ in blue with a transparency of 20%."
   ]
  },
  {
   "cell_type": "markdown",
   "metadata": {},
   "source": [
    "c) Plot the data points below in red with error bars using square markers and a marker size of 5. Draw also the error bars in red and set their line width to 2. Don't plot a background grid. Set the font size of the tick labels to 12."
   ]
  },
  {
   "cell_type": "code",
   "execution_count": 36,
   "metadata": {},
   "outputs": [],
   "source": [
    "# data\n",
    "x = [-0.6, -0.2, 0.2, 0.6]\n",
    "y = [5., 3., 5., 8.]\n",
    "σy = [2, 1, 1, 2];"
   ]
  },
  {
   "cell_type": "markdown",
   "metadata": {},
   "source": [
    "d) The code below shows how one can get random numbers from the exponential distribution. "
   ]
  },
  {
   "cell_type": "code",
   "execution_count": 50,
   "metadata": {},
   "outputs": [
    {
     "name": "stdout",
     "output_type": "stream",
     "text": [
      "[1.1576157900552766, 1.1620558376751333, 2.2343774858567977, 1.432261249845253, 0.3409577451436549]\n"
     ]
    }
   ],
   "source": [
    "using Distributions\n",
    "\n",
    "# Set the parameters of the exponential distribution (rate parameter λ)\n",
    "λ = 1\n",
    "\n",
    "# Create an Exponential distribution object\n",
    "exponential_dist = Exponential(λ)\n",
    "\n",
    "# Generate random numbers from the exponential distribution\n",
    "random_numbers = rand(exponential_dist, 5)\n",
    "\n",
    "# Print the generated random numbers\n",
    "println(random_numbers)"
   ]
  },
  {
   "cell_type": "markdown",
   "metadata": {},
   "source": [
    "Create a 4-by-4 panel plot that shows a histogram of random numbers drawn from an exponential distribution for a sample size of 100, 1000, 10000, and 100000. Use 10, 20, 50, and 100 bins, respectively. Use a log scale."
   ]
  },
  {
   "cell_type": "markdown",
   "metadata": {},
   "source": [
    "e) Illustrate the [central limit theorem](https://en.wikipedia.org/wiki/Central_limit_theorem) by filling histograms with the mean of a random sample with a sample size of 2, 5, 10, 100. Do this 100000 times for each sample size."
   ]
  },
  {
   "cell_type": "markdown",
   "metadata": {},
   "source": [
    "#### Problem 2\n",
    "\n",
    "Plot the [2D normal distribution](https://juliastats.org/Distributions.jl/stable/multivariate/#Distributions.AbstractMvNormal) with mean `μ = [0.0, 0.0]` and covariance matrix `Σ = [1.0 0.5; 0.5 1.0]` as a contour plot and as a 3D plot."
   ]
  }
 ],
 "metadata": {
  "kernelspec": {
   "display_name": "Julia 1.10.2",
   "language": "julia",
   "name": "julia-1.10"
  },
  "language_info": {
   "file_extension": ".jl",
   "mimetype": "application/julia",
   "name": "julia",
   "version": "1.10.2"
  }
 },
 "nbformat": 4,
 "nbformat_minor": 2
}
