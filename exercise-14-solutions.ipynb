{
 "cells": [
  {
   "cell_type": "markdown",
   "metadata": {},
   "source": [
    "## Exercises: 14. Data Frames"
   ]
  },
  {
   "cell_type": "markdown",
   "metadata": {},
   "source": [
    "#### Problem 1\n",
    "\n",
    "Use the [DataFrame](https://dataframes.juliadata.org/stable/) below and apply the following operations:"
   ]
  },
  {
   "cell_type": "code",
   "execution_count": 64,
   "metadata": {},
   "outputs": [
    {
     "data": {
      "text/html": [
       "<div><div style = \"float: left;\"><span>6×5 DataFrame</span></div><div style = \"clear: both;\"></div></div><div class = \"data-frame\" style = \"overflow-x: scroll;\"><table class = \"data-frame\" style = \"margin-bottom: 6px;\"><thead><tr class = \"header\"><th class = \"rowNumber\" style = \"font-weight: bold; text-align: right;\">Row</th><th style = \"text-align: left;\">Age</th><th style = \"text-align: left;\">City</th><th style = \"text-align: left;\">Height</th><th style = \"text-align: left;\">Name</th><th style = \"text-align: left;\">Weight</th></tr><tr class = \"subheader headerLastRow\"><th class = \"rowNumber\" style = \"font-weight: bold; text-align: right;\"></th><th title = \"Int64\" style = \"text-align: left;\">Int64</th><th title = \"String\" style = \"text-align: left;\">String</th><th title = \"Int64\" style = \"text-align: left;\">Int64</th><th title = \"String\" style = \"text-align: left;\">String</th><th title = \"Int64\" style = \"text-align: left;\">Int64</th></tr></thead><tbody><tr><td class = \"rowNumber\" style = \"font-weight: bold; text-align: right;\">1</td><td style = \"text-align: right;\">20</td><td style = \"text-align: left;\">New York</td><td style = \"text-align: right;\">175</td><td style = \"text-align: left;\">Alice</td><td style = \"text-align: right;\">72</td></tr><tr><td class = \"rowNumber\" style = \"font-weight: bold; text-align: right;\">2</td><td style = \"text-align: right;\">30</td><td style = \"text-align: left;\">London</td><td style = \"text-align: right;\">188</td><td style = \"text-align: left;\">Bob</td><td style = \"text-align: right;\">80</td></tr><tr><td class = \"rowNumber\" style = \"font-weight: bold; text-align: right;\">3</td><td style = \"text-align: right;\">25</td><td style = \"text-align: left;\">Paris</td><td style = \"text-align: right;\">182</td><td style = \"text-align: left;\">Charlie</td><td style = \"text-align: right;\">85</td></tr><tr><td class = \"rowNumber\" style = \"font-weight: bold; text-align: right;\">4</td><td style = \"text-align: right;\">19</td><td style = \"text-align: left;\">New York</td><td style = \"text-align: right;\">192</td><td style = \"text-align: left;\">David</td><td style = \"text-align: right;\">79</td></tr><tr><td class = \"rowNumber\" style = \"font-weight: bold; text-align: right;\">5</td><td style = \"text-align: right;\">30</td><td style = \"text-align: left;\">Madrid</td><td style = \"text-align: right;\">172</td><td style = \"text-align: left;\">Emma</td><td style = \"text-align: right;\">65</td></tr><tr><td class = \"rowNumber\" style = \"font-weight: bold; text-align: right;\">6</td><td style = \"text-align: right;\">28</td><td style = \"text-align: left;\">Paris</td><td style = \"text-align: right;\">168</td><td style = \"text-align: left;\">Fiona</td><td style = \"text-align: right;\">62</td></tr></tbody></table></div>"
      ],
      "text/latex": [
       "\\begin{tabular}{r|ccccc}\n",
       "\t& Age & City & Height & Name & Weight\\\\\n",
       "\t\\hline\n",
       "\t& Int64 & String & Int64 & String & Int64\\\\\n",
       "\t\\hline\n",
       "\t1 & 20 & New York & 175 & Alice & 72 \\\\\n",
       "\t2 & 30 & London & 188 & Bob & 80 \\\\\n",
       "\t3 & 25 & Paris & 182 & Charlie & 85 \\\\\n",
       "\t4 & 19 & New York & 192 & David & 79 \\\\\n",
       "\t5 & 30 & Madrid & 172 & Emma & 65 \\\\\n",
       "\t6 & 28 & Paris & 168 & Fiona & 62 \\\\\n",
       "\\end{tabular}\n"
      ],
      "text/plain": [
       "\u001b[1m6×5 DataFrame\u001b[0m\n",
       "\u001b[1m Row \u001b[0m│\u001b[1m Age   \u001b[0m\u001b[1m City     \u001b[0m\u001b[1m Height \u001b[0m\u001b[1m Name    \u001b[0m\u001b[1m Weight \u001b[0m\n",
       "     │\u001b[90m Int64 \u001b[0m\u001b[90m String   \u001b[0m\u001b[90m Int64  \u001b[0m\u001b[90m String  \u001b[0m\u001b[90m Int64  \u001b[0m\n",
       "─────┼──────────────────────────────────────────\n",
       "   1 │    20  New York     175  Alice        72\n",
       "   2 │    30  London       188  Bob          80\n",
       "   3 │    25  Paris        182  Charlie      85\n",
       "   4 │    19  New York     192  David        79\n",
       "   5 │    30  Madrid       172  Emma         65\n",
       "   6 │    28  Paris        168  Fiona        62"
      ]
     },
     "metadata": {},
     "output_type": "display_data"
    }
   ],
   "source": [
    "using DataFrames, Statistics\n",
    "\n",
    "data = Dict(\"Name\" => [\"Alice\", \"Bob\", \"Charlie\", \"David\", \"Emma\", \"Fiona\"], \n",
    "            \"Age\" => [20, 30, 25, 19, 30, 28],\n",
    "            \"Height\" => [175, 188, 182, 192, 172, 168],\n",
    "            \"Weight\" => [72, 80, 85, 79, 65, 62], \n",
    "            \"City\" => [\"New York\", \"London\", \"Paris\", \"New York\", \"Madrid\", \"Paris\"])\n",
    "df = DataFrame(data)"
   ]
  },
  {
   "cell_type": "markdown",
   "metadata": {},
   "source": [
    "a) Access row 2, column \"Age\""
   ]
  },
  {
   "cell_type": "code",
   "execution_count": 66,
   "metadata": {},
   "outputs": [
    {
     "data": {
      "text/plain": [
       "30"
      ]
     },
     "metadata": {},
     "output_type": "display_data"
    }
   ],
   "source": [
    "age_of_bob = df[2, :Age]"
   ]
  },
  {
   "cell_type": "markdown",
   "metadata": {},
   "source": [
    "b) Extract the column \"City\" as a 6-element Vector and as a 6x1 DataFrame"
   ]
  },
  {
   "cell_type": "code",
   "execution_count": 69,
   "metadata": {},
   "outputs": [
    {
     "data": {
      "text/html": [
       "<div><div style = \"float: left;\"><span>6×1 DataFrame</span></div><div style = \"clear: both;\"></div></div><div class = \"data-frame\" style = \"overflow-x: scroll;\"><table class = \"data-frame\" style = \"margin-bottom: 6px;\"><thead><tr class = \"header\"><th class = \"rowNumber\" style = \"font-weight: bold; text-align: right;\">Row</th><th style = \"text-align: left;\">City</th></tr><tr class = \"subheader headerLastRow\"><th class = \"rowNumber\" style = \"font-weight: bold; text-align: right;\"></th><th title = \"String\" style = \"text-align: left;\">String</th></tr></thead><tbody><tr><td class = \"rowNumber\" style = \"font-weight: bold; text-align: right;\">1</td><td style = \"text-align: left;\">New York</td></tr><tr><td class = \"rowNumber\" style = \"font-weight: bold; text-align: right;\">2</td><td style = \"text-align: left;\">London</td></tr><tr><td class = \"rowNumber\" style = \"font-weight: bold; text-align: right;\">3</td><td style = \"text-align: left;\">Paris</td></tr><tr><td class = \"rowNumber\" style = \"font-weight: bold; text-align: right;\">4</td><td style = \"text-align: left;\">New York</td></tr><tr><td class = \"rowNumber\" style = \"font-weight: bold; text-align: right;\">5</td><td style = \"text-align: left;\">Madrid</td></tr><tr><td class = \"rowNumber\" style = \"font-weight: bold; text-align: right;\">6</td><td style = \"text-align: left;\">Paris</td></tr></tbody></table></div>"
      ],
      "text/latex": [
       "\\begin{tabular}{r|c}\n",
       "\t& City\\\\\n",
       "\t\\hline\n",
       "\t& String\\\\\n",
       "\t\\hline\n",
       "\t1 & New York \\\\\n",
       "\t2 & London \\\\\n",
       "\t3 & Paris \\\\\n",
       "\t4 & New York \\\\\n",
       "\t5 & Madrid \\\\\n",
       "\t6 & Paris \\\\\n",
       "\\end{tabular}\n"
      ],
      "text/plain": [
       "\u001b[1m6×1 DataFrame\u001b[0m\n",
       "\u001b[1m Row \u001b[0m│\u001b[1m City     \u001b[0m\n",
       "     │\u001b[90m String   \u001b[0m\n",
       "─────┼──────────\n",
       "   1 │ New York\n",
       "   2 │ London\n",
       "   3 │ Paris\n",
       "   4 │ New York\n",
       "   5 │ Madrid\n",
       "   6 │ Paris"
      ]
     },
     "metadata": {},
     "output_type": "display_data"
    }
   ],
   "source": [
    "# city_column = df[:, :City]\n",
    "city_column = df[:, [:City]]"
   ]
  },
  {
   "cell_type": "markdown",
   "metadata": {},
   "source": [
    "c) Return a copy of data frame using [`subset`](https://dataframes.juliadata.org/stable/lib/functions/#DataFrames.subset) under the condition that the age of the person is greater than 20."
   ]
  },
  {
   "cell_type": "code",
   "execution_count": 71,
   "metadata": {},
   "outputs": [
    {
     "data": {
      "text/html": [
       "<div><div style = \"float: left;\"><span>4×6 DataFrame</span></div><div style = \"clear: both;\"></div></div><div class = \"data-frame\" style = \"overflow-x: scroll;\"><table class = \"data-frame\" style = \"margin-bottom: 6px;\"><thead><tr class = \"header\"><th class = \"rowNumber\" style = \"font-weight: bold; text-align: right;\">Row</th><th style = \"text-align: left;\">Age</th><th style = \"text-align: left;\">City</th><th style = \"text-align: left;\">Height</th><th style = \"text-align: left;\">Name</th><th style = \"text-align: left;\">Weight</th><th style = \"text-align: left;\">BMI</th></tr><tr class = \"subheader headerLastRow\"><th class = \"rowNumber\" style = \"font-weight: bold; text-align: right;\"></th><th title = \"Int64\" style = \"text-align: left;\">Int64</th><th title = \"String\" style = \"text-align: left;\">String</th><th title = \"Int64\" style = \"text-align: left;\">Int64</th><th title = \"String\" style = \"text-align: left;\">String</th><th title = \"Int64\" style = \"text-align: left;\">Int64</th><th title = \"Float64\" style = \"text-align: left;\">Float64</th></tr></thead><tbody><tr><td class = \"rowNumber\" style = \"font-weight: bold; text-align: right;\">1</td><td style = \"text-align: right;\">30</td><td style = \"text-align: left;\">London</td><td style = \"text-align: right;\">188</td><td style = \"text-align: left;\">Bob</td><td style = \"text-align: right;\">80</td><td style = \"text-align: right;\">22.6347</td></tr><tr><td class = \"rowNumber\" style = \"font-weight: bold; text-align: right;\">2</td><td style = \"text-align: right;\">25</td><td style = \"text-align: left;\">Paris</td><td style = \"text-align: right;\">182</td><td style = \"text-align: left;\">Charlie</td><td style = \"text-align: right;\">85</td><td style = \"text-align: right;\">25.6612</td></tr><tr><td class = \"rowNumber\" style = \"font-weight: bold; text-align: right;\">3</td><td style = \"text-align: right;\">30</td><td style = \"text-align: left;\">Madrid</td><td style = \"text-align: right;\">172</td><td style = \"text-align: left;\">Emma</td><td style = \"text-align: right;\">65</td><td style = \"text-align: right;\">21.9713</td></tr><tr><td class = \"rowNumber\" style = \"font-weight: bold; text-align: right;\">4</td><td style = \"text-align: right;\">28</td><td style = \"text-align: left;\">Paris</td><td style = \"text-align: right;\">168</td><td style = \"text-align: left;\">Fiona</td><td style = \"text-align: right;\">62</td><td style = \"text-align: right;\">21.9671</td></tr></tbody></table></div>"
      ],
      "text/latex": [
       "\\begin{tabular}{r|cccccc}\n",
       "\t& Age & City & Height & Name & Weight & BMI\\\\\n",
       "\t\\hline\n",
       "\t& Int64 & String & Int64 & String & Int64 & Float64\\\\\n",
       "\t\\hline\n",
       "\t1 & 30 & London & 188 & Bob & 80 & 22.6347 \\\\\n",
       "\t2 & 25 & Paris & 182 & Charlie & 85 & 25.6612 \\\\\n",
       "\t3 & 30 & Madrid & 172 & Emma & 65 & 21.9713 \\\\\n",
       "\t4 & 28 & Paris & 168 & Fiona & 62 & 21.9671 \\\\\n",
       "\\end{tabular}\n"
      ],
      "text/plain": [
       "\u001b[1m4×6 DataFrame\u001b[0m\n",
       "\u001b[1m Row \u001b[0m│\u001b[1m Age   \u001b[0m\u001b[1m City   \u001b[0m\u001b[1m Height \u001b[0m\u001b[1m Name    \u001b[0m\u001b[1m Weight \u001b[0m\u001b[1m BMI     \u001b[0m\n",
       "     │\u001b[90m Int64 \u001b[0m\u001b[90m String \u001b[0m\u001b[90m Int64  \u001b[0m\u001b[90m String  \u001b[0m\u001b[90m Int64  \u001b[0m\u001b[90m Float64 \u001b[0m\n",
       "─────┼─────────────────────────────────────────────────\n",
       "   1 │    30  London     188  Bob          80  22.6347\n",
       "   2 │    25  Paris      182  Charlie      85  25.6612\n",
       "   3 │    30  Madrid     172  Emma         65  21.9713\n",
       "   4 │    28  Paris      168  Fiona        62  21.9671"
      ]
     },
     "metadata": {},
     "output_type": "display_data"
    }
   ],
   "source": [
    "subset(df, :Age => ByRow(x -> x>20))"
   ]
  },
  {
   "cell_type": "markdown",
   "metadata": {},
   "source": [
    "d) Calculate the average height of all persons. \n",
    "\n",
    "Hint: The functions `mean` is available in the `Statistics` package."
   ]
  },
  {
   "cell_type": "code",
   "execution_count": 72,
   "metadata": {},
   "outputs": [
    {
     "data": {
      "text/plain": [
       "179.5"
      ]
     },
     "metadata": {},
     "output_type": "display_data"
    }
   ],
   "source": [
    "mean(df[!, :Height])"
   ]
  },
  {
   "cell_type": "markdown",
   "metadata": {},
   "source": [
    "e) Calculate the average age of the people in the different cities.\n",
    "\n",
    "Hint: Use [`groupby`](https://dataframes.juliadata.org/stable/lib/functions/#DataFrames.groupby) and [`combine`](https://dataframes.juliadata.org/stable/lib/functions/#DataFrames.combine). Check out the [Grouping data and aggregation]((https://dataframes.juliadata.org/stable/man/comparisons/#Grouping-data-and-aggregation)) section of the DataFrames.jl webpage."
   ]
  },
  {
   "cell_type": "code",
   "execution_count": 74,
   "metadata": {},
   "outputs": [
    {
     "data": {
      "text/html": [
       "<div><div style = \"float: left;\"><span>4×2 DataFrame</span></div><div style = \"clear: both;\"></div></div><div class = \"data-frame\" style = \"overflow-x: scroll;\"><table class = \"data-frame\" style = \"margin-bottom: 6px;\"><thead><tr class = \"header\"><th class = \"rowNumber\" style = \"font-weight: bold; text-align: right;\">Row</th><th style = \"text-align: left;\">City</th><th style = \"text-align: left;\">Age_mean</th></tr><tr class = \"subheader headerLastRow\"><th class = \"rowNumber\" style = \"font-weight: bold; text-align: right;\"></th><th title = \"String\" style = \"text-align: left;\">String</th><th title = \"Float64\" style = \"text-align: left;\">Float64</th></tr></thead><tbody><tr><td class = \"rowNumber\" style = \"font-weight: bold; text-align: right;\">1</td><td style = \"text-align: left;\">New York</td><td style = \"text-align: right;\">19.5</td></tr><tr><td class = \"rowNumber\" style = \"font-weight: bold; text-align: right;\">2</td><td style = \"text-align: left;\">London</td><td style = \"text-align: right;\">30.0</td></tr><tr><td class = \"rowNumber\" style = \"font-weight: bold; text-align: right;\">3</td><td style = \"text-align: left;\">Paris</td><td style = \"text-align: right;\">26.5</td></tr><tr><td class = \"rowNumber\" style = \"font-weight: bold; text-align: right;\">4</td><td style = \"text-align: left;\">Madrid</td><td style = \"text-align: right;\">30.0</td></tr></tbody></table></div>"
      ],
      "text/latex": [
       "\\begin{tabular}{r|cc}\n",
       "\t& City & Age\\_mean\\\\\n",
       "\t\\hline\n",
       "\t& String & Float64\\\\\n",
       "\t\\hline\n",
       "\t1 & New York & 19.5 \\\\\n",
       "\t2 & London & 30.0 \\\\\n",
       "\t3 & Paris & 26.5 \\\\\n",
       "\t4 & Madrid & 30.0 \\\\\n",
       "\\end{tabular}\n"
      ],
      "text/plain": [
       "\u001b[1m4×2 DataFrame\u001b[0m\n",
       "\u001b[1m Row \u001b[0m│\u001b[1m City     \u001b[0m\u001b[1m Age_mean \u001b[0m\n",
       "     │\u001b[90m String   \u001b[0m\u001b[90m Float64  \u001b[0m\n",
       "─────┼────────────────────\n",
       "   1 │ New York      19.5\n",
       "   2 │ London        30.0\n",
       "   3 │ Paris         26.5\n",
       "   4 │ Madrid        30.0"
      ]
     },
     "metadata": {},
     "output_type": "display_data"
    }
   ],
   "source": [
    "# groupby(df, :City)\n",
    "combine(groupby(df, :City), :Age => mean)"
   ]
  },
  {
   "cell_type": "markdown",
   "metadata": {},
   "source": [
    "f) Add a new column with the [body mass index](https://en.wikipedia.org/wiki/Body_mass_index) of each person."
   ]
  },
  {
   "cell_type": "code",
   "execution_count": 65,
   "metadata": {},
   "outputs": [
    {
     "data": {
      "text/html": [
       "<div><div style = \"float: left;\"><span>6×6 DataFrame</span></div><div style = \"clear: both;\"></div></div><div class = \"data-frame\" style = \"overflow-x: scroll;\"><table class = \"data-frame\" style = \"margin-bottom: 6px;\"><thead><tr class = \"header\"><th class = \"rowNumber\" style = \"font-weight: bold; text-align: right;\">Row</th><th style = \"text-align: left;\">Age</th><th style = \"text-align: left;\">City</th><th style = \"text-align: left;\">Height</th><th style = \"text-align: left;\">Name</th><th style = \"text-align: left;\">Weight</th><th style = \"text-align: left;\">BMI</th></tr><tr class = \"subheader headerLastRow\"><th class = \"rowNumber\" style = \"font-weight: bold; text-align: right;\"></th><th title = \"Int64\" style = \"text-align: left;\">Int64</th><th title = \"String\" style = \"text-align: left;\">String</th><th title = \"Int64\" style = \"text-align: left;\">Int64</th><th title = \"String\" style = \"text-align: left;\">String</th><th title = \"Int64\" style = \"text-align: left;\">Int64</th><th title = \"Float64\" style = \"text-align: left;\">Float64</th></tr></thead><tbody><tr><td class = \"rowNumber\" style = \"font-weight: bold; text-align: right;\">1</td><td style = \"text-align: right;\">20</td><td style = \"text-align: left;\">New York</td><td style = \"text-align: right;\">175</td><td style = \"text-align: left;\">Alice</td><td style = \"text-align: right;\">72</td><td style = \"text-align: right;\">23.5102</td></tr><tr><td class = \"rowNumber\" style = \"font-weight: bold; text-align: right;\">2</td><td style = \"text-align: right;\">30</td><td style = \"text-align: left;\">London</td><td style = \"text-align: right;\">188</td><td style = \"text-align: left;\">Bob</td><td style = \"text-align: right;\">80</td><td style = \"text-align: right;\">22.6347</td></tr><tr><td class = \"rowNumber\" style = \"font-weight: bold; text-align: right;\">3</td><td style = \"text-align: right;\">25</td><td style = \"text-align: left;\">Paris</td><td style = \"text-align: right;\">182</td><td style = \"text-align: left;\">Charlie</td><td style = \"text-align: right;\">85</td><td style = \"text-align: right;\">25.6612</td></tr><tr><td class = \"rowNumber\" style = \"font-weight: bold; text-align: right;\">4</td><td style = \"text-align: right;\">19</td><td style = \"text-align: left;\">New York</td><td style = \"text-align: right;\">192</td><td style = \"text-align: left;\">David</td><td style = \"text-align: right;\">79</td><td style = \"text-align: right;\">21.4301</td></tr><tr><td class = \"rowNumber\" style = \"font-weight: bold; text-align: right;\">5</td><td style = \"text-align: right;\">30</td><td style = \"text-align: left;\">Madrid</td><td style = \"text-align: right;\">172</td><td style = \"text-align: left;\">Emma</td><td style = \"text-align: right;\">65</td><td style = \"text-align: right;\">21.9713</td></tr><tr><td class = \"rowNumber\" style = \"font-weight: bold; text-align: right;\">6</td><td style = \"text-align: right;\">28</td><td style = \"text-align: left;\">Paris</td><td style = \"text-align: right;\">168</td><td style = \"text-align: left;\">Fiona</td><td style = \"text-align: right;\">62</td><td style = \"text-align: right;\">21.9671</td></tr></tbody></table></div>"
      ],
      "text/latex": [
       "\\begin{tabular}{r|cccccc}\n",
       "\t& Age & City & Height & Name & Weight & BMI\\\\\n",
       "\t\\hline\n",
       "\t& Int64 & String & Int64 & String & Int64 & Float64\\\\\n",
       "\t\\hline\n",
       "\t1 & 20 & New York & 175 & Alice & 72 & 23.5102 \\\\\n",
       "\t2 & 30 & London & 188 & Bob & 80 & 22.6347 \\\\\n",
       "\t3 & 25 & Paris & 182 & Charlie & 85 & 25.6612 \\\\\n",
       "\t4 & 19 & New York & 192 & David & 79 & 21.4301 \\\\\n",
       "\t5 & 30 & Madrid & 172 & Emma & 65 & 21.9713 \\\\\n",
       "\t6 & 28 & Paris & 168 & Fiona & 62 & 21.9671 \\\\\n",
       "\\end{tabular}\n"
      ],
      "text/plain": [
       "\u001b[1m6×6 DataFrame\u001b[0m\n",
       "\u001b[1m Row \u001b[0m│\u001b[1m Age   \u001b[0m\u001b[1m City     \u001b[0m\u001b[1m Height \u001b[0m\u001b[1m Name    \u001b[0m\u001b[1m Weight \u001b[0m\u001b[1m BMI     \u001b[0m\n",
       "     │\u001b[90m Int64 \u001b[0m\u001b[90m String   \u001b[0m\u001b[90m Int64  \u001b[0m\u001b[90m String  \u001b[0m\u001b[90m Int64  \u001b[0m\u001b[90m Float64 \u001b[0m\n",
       "─────┼───────────────────────────────────────────────────\n",
       "   1 │    20  New York     175  Alice        72  23.5102\n",
       "   2 │    30  London       188  Bob          80  22.6347\n",
       "   3 │    25  Paris        182  Charlie      85  25.6612\n",
       "   4 │    19  New York     192  David        79  21.4301\n",
       "   5 │    30  Madrid       172  Emma         65  21.9713\n",
       "   6 │    28  Paris        168  Fiona        62  21.9671"
      ]
     },
     "metadata": {},
     "output_type": "display_data"
    }
   ],
   "source": [
    "# transform!(df, [:Height, :Weight] => ByRow((h, w) -> w / (h/100.)^2) => :BMI)\n",
    "transform!(df, [:Height, :Weight] => ((h, w) -> w ./ (h./100.).^2) => :BMI)"
   ]
  },
  {
   "cell_type": "markdown",
   "metadata": {},
   "source": [
    "g) Modify the dataframe so that all city names are given in uppercase letters."
   ]
  },
  {
   "cell_type": "code",
   "execution_count": 33,
   "metadata": {},
   "outputs": [
    {
     "data": {
      "text/html": [
       "<div><div style = \"float: left;\"><span>6×6 DataFrame</span></div><div style = \"clear: both;\"></div></div><div class = \"data-frame\" style = \"overflow-x: scroll;\"><table class = \"data-frame\" style = \"margin-bottom: 6px;\"><thead><tr class = \"header\"><th class = \"rowNumber\" style = \"font-weight: bold; text-align: right;\">Row</th><th style = \"text-align: left;\">Age</th><th style = \"text-align: left;\">City</th><th style = \"text-align: left;\">Height</th><th style = \"text-align: left;\">Name</th><th style = \"text-align: left;\">Weight</th><th style = \"text-align: left;\">BMI</th></tr><tr class = \"subheader headerLastRow\"><th class = \"rowNumber\" style = \"font-weight: bold; text-align: right;\"></th><th title = \"Int64\" style = \"text-align: left;\">Int64</th><th title = \"String\" style = \"text-align: left;\">String</th><th title = \"Int64\" style = \"text-align: left;\">Int64</th><th title = \"String\" style = \"text-align: left;\">String</th><th title = \"Int64\" style = \"text-align: left;\">Int64</th><th title = \"Float64\" style = \"text-align: left;\">Float64</th></tr></thead><tbody><tr><td class = \"rowNumber\" style = \"font-weight: bold; text-align: right;\">1</td><td style = \"text-align: right;\">20</td><td style = \"text-align: left;\">NEW YORK</td><td style = \"text-align: right;\">175</td><td style = \"text-align: left;\">Alice</td><td style = \"text-align: right;\">72</td><td style = \"text-align: right;\">23.5102</td></tr><tr><td class = \"rowNumber\" style = \"font-weight: bold; text-align: right;\">2</td><td style = \"text-align: right;\">30</td><td style = \"text-align: left;\">LONDON</td><td style = \"text-align: right;\">188</td><td style = \"text-align: left;\">Bob</td><td style = \"text-align: right;\">80</td><td style = \"text-align: right;\">22.6347</td></tr><tr><td class = \"rowNumber\" style = \"font-weight: bold; text-align: right;\">3</td><td style = \"text-align: right;\">25</td><td style = \"text-align: left;\">PARIS</td><td style = \"text-align: right;\">182</td><td style = \"text-align: left;\">Charlie</td><td style = \"text-align: right;\">85</td><td style = \"text-align: right;\">25.6612</td></tr><tr><td class = \"rowNumber\" style = \"font-weight: bold; text-align: right;\">4</td><td style = \"text-align: right;\">19</td><td style = \"text-align: left;\">NEW YORK</td><td style = \"text-align: right;\">192</td><td style = \"text-align: left;\">David</td><td style = \"text-align: right;\">79</td><td style = \"text-align: right;\">21.4301</td></tr><tr><td class = \"rowNumber\" style = \"font-weight: bold; text-align: right;\">5</td><td style = \"text-align: right;\">30</td><td style = \"text-align: left;\">MADRID</td><td style = \"text-align: right;\">172</td><td style = \"text-align: left;\">Emma</td><td style = \"text-align: right;\">65</td><td style = \"text-align: right;\">21.9713</td></tr><tr><td class = \"rowNumber\" style = \"font-weight: bold; text-align: right;\">6</td><td style = \"text-align: right;\">28</td><td style = \"text-align: left;\">PARIS</td><td style = \"text-align: right;\">168</td><td style = \"text-align: left;\">Fiona</td><td style = \"text-align: right;\">62</td><td style = \"text-align: right;\">21.9671</td></tr></tbody></table></div>"
      ],
      "text/latex": [
       "\\begin{tabular}{r|cccccc}\n",
       "\t& Age & City & Height & Name & Weight & BMI\\\\\n",
       "\t\\hline\n",
       "\t& Int64 & String & Int64 & String & Int64 & Float64\\\\\n",
       "\t\\hline\n",
       "\t1 & 20 & NEW YORK & 175 & Alice & 72 & 23.5102 \\\\\n",
       "\t2 & 30 & LONDON & 188 & Bob & 80 & 22.6347 \\\\\n",
       "\t3 & 25 & PARIS & 182 & Charlie & 85 & 25.6612 \\\\\n",
       "\t4 & 19 & NEW YORK & 192 & David & 79 & 21.4301 \\\\\n",
       "\t5 & 30 & MADRID & 172 & Emma & 65 & 21.9713 \\\\\n",
       "\t6 & 28 & PARIS & 168 & Fiona & 62 & 21.9671 \\\\\n",
       "\\end{tabular}\n"
      ],
      "text/plain": [
       "\u001b[1m6×6 DataFrame\u001b[0m\n",
       "\u001b[1m Row \u001b[0m│\u001b[1m Age   \u001b[0m\u001b[1m City     \u001b[0m\u001b[1m Height \u001b[0m\u001b[1m Name    \u001b[0m\u001b[1m Weight \u001b[0m\u001b[1m BMI     \u001b[0m\n",
       "     │\u001b[90m Int64 \u001b[0m\u001b[90m String   \u001b[0m\u001b[90m Int64  \u001b[0m\u001b[90m String  \u001b[0m\u001b[90m Int64  \u001b[0m\u001b[90m Float64 \u001b[0m\n",
       "─────┼───────────────────────────────────────────────────\n",
       "   1 │    20  NEW YORK     175  Alice        72  23.5102\n",
       "   2 │    30  LONDON       188  Bob          80  22.6347\n",
       "   3 │    25  PARIS        182  Charlie      85  25.6612\n",
       "   4 │    19  NEW YORK     192  David        79  21.4301\n",
       "   5 │    30  MADRID       172  Emma         65  21.9713\n",
       "   6 │    28  PARIS        168  Fiona        62  21.9671"
      ]
     },
     "metadata": {},
     "output_type": "display_data"
    }
   ],
   "source": [
    "df.City = uppercase.(df.City)\n",
    "df"
   ]
  },
  {
   "cell_type": "markdown",
   "metadata": {},
   "source": [
    "h) Sort the data according to the BMI value"
   ]
  },
  {
   "cell_type": "code",
   "execution_count": 36,
   "metadata": {},
   "outputs": [
    {
     "data": {
      "text/html": [
       "<div><div style = \"float: left;\"><span>6×6 DataFrame</span></div><div style = \"clear: both;\"></div></div><div class = \"data-frame\" style = \"overflow-x: scroll;\"><table class = \"data-frame\" style = \"margin-bottom: 6px;\"><thead><tr class = \"header\"><th class = \"rowNumber\" style = \"font-weight: bold; text-align: right;\">Row</th><th style = \"text-align: left;\">Age</th><th style = \"text-align: left;\">City</th><th style = \"text-align: left;\">Height</th><th style = \"text-align: left;\">Name</th><th style = \"text-align: left;\">Weight</th><th style = \"text-align: left;\">BMI</th></tr><tr class = \"subheader headerLastRow\"><th class = \"rowNumber\" style = \"font-weight: bold; text-align: right;\"></th><th title = \"Int64\" style = \"text-align: left;\">Int64</th><th title = \"String\" style = \"text-align: left;\">String</th><th title = \"Int64\" style = \"text-align: left;\">Int64</th><th title = \"String\" style = \"text-align: left;\">String</th><th title = \"Int64\" style = \"text-align: left;\">Int64</th><th title = \"Float64\" style = \"text-align: left;\">Float64</th></tr></thead><tbody><tr><td class = \"rowNumber\" style = \"font-weight: bold; text-align: right;\">1</td><td style = \"text-align: right;\">19</td><td style = \"text-align: left;\">NEW YORK</td><td style = \"text-align: right;\">192</td><td style = \"text-align: left;\">David</td><td style = \"text-align: right;\">79</td><td style = \"text-align: right;\">21.4301</td></tr><tr><td class = \"rowNumber\" style = \"font-weight: bold; text-align: right;\">2</td><td style = \"text-align: right;\">28</td><td style = \"text-align: left;\">PARIS</td><td style = \"text-align: right;\">168</td><td style = \"text-align: left;\">Fiona</td><td style = \"text-align: right;\">62</td><td style = \"text-align: right;\">21.9671</td></tr><tr><td class = \"rowNumber\" style = \"font-weight: bold; text-align: right;\">3</td><td style = \"text-align: right;\">30</td><td style = \"text-align: left;\">MADRID</td><td style = \"text-align: right;\">172</td><td style = \"text-align: left;\">Emma</td><td style = \"text-align: right;\">65</td><td style = \"text-align: right;\">21.9713</td></tr><tr><td class = \"rowNumber\" style = \"font-weight: bold; text-align: right;\">4</td><td style = \"text-align: right;\">30</td><td style = \"text-align: left;\">LONDON</td><td style = \"text-align: right;\">188</td><td style = \"text-align: left;\">Bob</td><td style = \"text-align: right;\">80</td><td style = \"text-align: right;\">22.6347</td></tr><tr><td class = \"rowNumber\" style = \"font-weight: bold; text-align: right;\">5</td><td style = \"text-align: right;\">20</td><td style = \"text-align: left;\">NEW YORK</td><td style = \"text-align: right;\">175</td><td style = \"text-align: left;\">Alice</td><td style = \"text-align: right;\">72</td><td style = \"text-align: right;\">23.5102</td></tr><tr><td class = \"rowNumber\" style = \"font-weight: bold; text-align: right;\">6</td><td style = \"text-align: right;\">25</td><td style = \"text-align: left;\">PARIS</td><td style = \"text-align: right;\">182</td><td style = \"text-align: left;\">Charlie</td><td style = \"text-align: right;\">85</td><td style = \"text-align: right;\">25.6612</td></tr></tbody></table></div>"
      ],
      "text/latex": [
       "\\begin{tabular}{r|cccccc}\n",
       "\t& Age & City & Height & Name & Weight & BMI\\\\\n",
       "\t\\hline\n",
       "\t& Int64 & String & Int64 & String & Int64 & Float64\\\\\n",
       "\t\\hline\n",
       "\t1 & 19 & NEW YORK & 192 & David & 79 & 21.4301 \\\\\n",
       "\t2 & 28 & PARIS & 168 & Fiona & 62 & 21.9671 \\\\\n",
       "\t3 & 30 & MADRID & 172 & Emma & 65 & 21.9713 \\\\\n",
       "\t4 & 30 & LONDON & 188 & Bob & 80 & 22.6347 \\\\\n",
       "\t5 & 20 & NEW YORK & 175 & Alice & 72 & 23.5102 \\\\\n",
       "\t6 & 25 & PARIS & 182 & Charlie & 85 & 25.6612 \\\\\n",
       "\\end{tabular}\n"
      ],
      "text/plain": [
       "\u001b[1m6×6 DataFrame\u001b[0m\n",
       "\u001b[1m Row \u001b[0m│\u001b[1m Age   \u001b[0m\u001b[1m City     \u001b[0m\u001b[1m Height \u001b[0m\u001b[1m Name    \u001b[0m\u001b[1m Weight \u001b[0m\u001b[1m BMI     \u001b[0m\n",
       "     │\u001b[90m Int64 \u001b[0m\u001b[90m String   \u001b[0m\u001b[90m Int64  \u001b[0m\u001b[90m String  \u001b[0m\u001b[90m Int64  \u001b[0m\u001b[90m Float64 \u001b[0m\n",
       "─────┼───────────────────────────────────────────────────\n",
       "   1 │    19  NEW YORK     192  David        79  21.4301\n",
       "   2 │    28  PARIS        168  Fiona        62  21.9671\n",
       "   3 │    30  MADRID       172  Emma         65  21.9713\n",
       "   4 │    30  LONDON       188  Bob          80  22.6347\n",
       "   5 │    20  NEW YORK     175  Alice        72  23.5102\n",
       "   6 │    25  PARIS        182  Charlie      85  25.6612"
      ]
     },
     "metadata": {},
     "output_type": "display_data"
    }
   ],
   "source": [
    "sort!(df, :BMI)"
   ]
  },
  {
   "cell_type": "markdown",
   "metadata": {},
   "source": [
    "i) Create a new dataframe `df_new` where the Age, Weight, and BMI columns are removed."
   ]
  },
  {
   "cell_type": "code",
   "execution_count": 75,
   "metadata": {},
   "outputs": [
    {
     "data": {
      "text/html": [
       "<div><div style = \"float: left;\"><span>6×3 DataFrame</span></div><div style = \"clear: both;\"></div></div><div class = \"data-frame\" style = \"overflow-x: scroll;\"><table class = \"data-frame\" style = \"margin-bottom: 6px;\"><thead><tr class = \"header\"><th class = \"rowNumber\" style = \"font-weight: bold; text-align: right;\">Row</th><th style = \"text-align: left;\">City</th><th style = \"text-align: left;\">Name</th><th style = \"text-align: left;\">BMI</th></tr><tr class = \"subheader headerLastRow\"><th class = \"rowNumber\" style = \"font-weight: bold; text-align: right;\"></th><th title = \"String\" style = \"text-align: left;\">String</th><th title = \"String\" style = \"text-align: left;\">String</th><th title = \"Float64\" style = \"text-align: left;\">Float64</th></tr></thead><tbody><tr><td class = \"rowNumber\" style = \"font-weight: bold; text-align: right;\">1</td><td style = \"text-align: left;\">New York</td><td style = \"text-align: left;\">Alice</td><td style = \"text-align: right;\">23.5102</td></tr><tr><td class = \"rowNumber\" style = \"font-weight: bold; text-align: right;\">2</td><td style = \"text-align: left;\">London</td><td style = \"text-align: left;\">Bob</td><td style = \"text-align: right;\">22.6347</td></tr><tr><td class = \"rowNumber\" style = \"font-weight: bold; text-align: right;\">3</td><td style = \"text-align: left;\">Paris</td><td style = \"text-align: left;\">Charlie</td><td style = \"text-align: right;\">25.6612</td></tr><tr><td class = \"rowNumber\" style = \"font-weight: bold; text-align: right;\">4</td><td style = \"text-align: left;\">New York</td><td style = \"text-align: left;\">David</td><td style = \"text-align: right;\">21.4301</td></tr><tr><td class = \"rowNumber\" style = \"font-weight: bold; text-align: right;\">5</td><td style = \"text-align: left;\">Madrid</td><td style = \"text-align: left;\">Emma</td><td style = \"text-align: right;\">21.9713</td></tr><tr><td class = \"rowNumber\" style = \"font-weight: bold; text-align: right;\">6</td><td style = \"text-align: left;\">Paris</td><td style = \"text-align: left;\">Fiona</td><td style = \"text-align: right;\">21.9671</td></tr></tbody></table></div>"
      ],
      "text/latex": [
       "\\begin{tabular}{r|ccc}\n",
       "\t& City & Name & BMI\\\\\n",
       "\t\\hline\n",
       "\t& String & String & Float64\\\\\n",
       "\t\\hline\n",
       "\t1 & New York & Alice & 23.5102 \\\\\n",
       "\t2 & London & Bob & 22.6347 \\\\\n",
       "\t3 & Paris & Charlie & 25.6612 \\\\\n",
       "\t4 & New York & David & 21.4301 \\\\\n",
       "\t5 & Madrid & Emma & 21.9713 \\\\\n",
       "\t6 & Paris & Fiona & 21.9671 \\\\\n",
       "\\end{tabular}\n"
      ],
      "text/plain": [
       "\u001b[1m6×3 DataFrame\u001b[0m\n",
       "\u001b[1m Row \u001b[0m│\u001b[1m City     \u001b[0m\u001b[1m Name    \u001b[0m\u001b[1m BMI     \u001b[0m\n",
       "     │\u001b[90m String   \u001b[0m\u001b[90m String  \u001b[0m\u001b[90m Float64 \u001b[0m\n",
       "─────┼────────────────────────────\n",
       "   1 │ New York  Alice    23.5102\n",
       "   2 │ London    Bob      22.6347\n",
       "   3 │ Paris     Charlie  25.6612\n",
       "   4 │ New York  David    21.4301\n",
       "   5 │ Madrid    Emma     21.9713\n",
       "   6 │ Paris     Fiona    21.9671"
      ]
     },
     "metadata": {},
     "output_type": "display_data"
    }
   ],
   "source": [
    "df_new = select(df, Not([:Age, :Height, :Weight]))"
   ]
  },
  {
   "cell_type": "markdown",
   "metadata": {},
   "source": [
    "#### Problem 2"
   ]
  },
  {
   "cell_type": "markdown",
   "metadata": {},
   "source": [
    "Books are identified by an ID in a library. We have a data frame with book titles and a data frame with book prices. \n"
   ]
  },
  {
   "cell_type": "code",
   "execution_count": 48,
   "metadata": {},
   "outputs": [
    {
     "data": {
      "text/html": [
       "<div><div style = \"float: left;\"><span>4×2 DataFrame</span></div><div style = \"clear: both;\"></div></div><div class = \"data-frame\" style = \"overflow-x: scroll;\"><table class = \"data-frame\" style = \"margin-bottom: 6px;\"><thead><tr class = \"header\"><th class = \"rowNumber\" style = \"font-weight: bold; text-align: right;\">Row</th><th style = \"text-align: left;\">Book_ID</th><th style = \"text-align: left;\">Price</th></tr><tr class = \"subheader headerLastRow\"><th class = \"rowNumber\" style = \"font-weight: bold; text-align: right;\"></th><th title = \"Int64\" style = \"text-align: left;\">Int64</th><th title = \"Float64\" style = \"text-align: left;\">Float64</th></tr></thead><tbody><tr><td class = \"rowNumber\" style = \"font-weight: bold; text-align: right;\">1</td><td style = \"text-align: right;\">2</td><td style = \"text-align: right;\">15.99</td></tr><tr><td class = \"rowNumber\" style = \"font-weight: bold; text-align: right;\">2</td><td style = \"text-align: right;\">3</td><td style = \"text-align: right;\">12.5</td></tr><tr><td class = \"rowNumber\" style = \"font-weight: bold; text-align: right;\">3</td><td style = \"text-align: right;\">5</td><td style = \"text-align: right;\">10.75</td></tr><tr><td class = \"rowNumber\" style = \"font-weight: bold; text-align: right;\">4</td><td style = \"text-align: right;\">6</td><td style = \"text-align: right;\">20.0</td></tr></tbody></table></div>"
      ],
      "text/latex": [
       "\\begin{tabular}{r|cc}\n",
       "\t& Book\\_ID & Price\\\\\n",
       "\t\\hline\n",
       "\t& Int64 & Float64\\\\\n",
       "\t\\hline\n",
       "\t1 & 2 & 15.99 \\\\\n",
       "\t2 & 3 & 12.5 \\\\\n",
       "\t3 & 5 & 10.75 \\\\\n",
       "\t4 & 6 & 20.0 \\\\\n",
       "\\end{tabular}\n"
      ],
      "text/plain": [
       "\u001b[1m4×2 DataFrame\u001b[0m\n",
       "\u001b[1m Row \u001b[0m│\u001b[1m Book_ID \u001b[0m\u001b[1m Price   \u001b[0m\n",
       "     │\u001b[90m Int64   \u001b[0m\u001b[90m Float64 \u001b[0m\n",
       "─────┼──────────────────\n",
       "   1 │       2    15.99\n",
       "   2 │       3    12.5\n",
       "   3 │       5    10.75\n",
       "   4 │       6    20.0"
      ]
     },
     "metadata": {},
     "output_type": "display_data"
    }
   ],
   "source": [
    "using DataFrames\n",
    "\n",
    "# Create two example DataFrames\n",
    "df1 = DataFrame(Book_ID = [1, 2, 3, 4],\n",
    "                Title = [\"The Great Gatsby\", \"To Kill a Mockingbird\", \"1984\", \"The Catcher in the Rye\"])\n",
    "\n",
    "df2 = DataFrame(Book_ID = [2, 3, 5, 6],\n",
    "                Price = [15.99, 12.50, 10.75, 20.00])\n"
   ]
  },
  {
   "cell_type": "markdown",
   "metadata": {},
   "source": [
    "a) Create a new table with the columns *Title* and *Price* which contains those books where both the title and the price are known. \n",
    "\n",
    "Hint: check out the [Introduction to joins](https://dataframes.juliadata.org/stable/man/joins/)"
   ]
  },
  {
   "cell_type": "code",
   "execution_count": 52,
   "metadata": {},
   "outputs": [
    {
     "data": {
      "text/html": [
       "<div><div style = \"float: left;\"><span>2×3 DataFrame</span></div><div style = \"clear: both;\"></div></div><div class = \"data-frame\" style = \"overflow-x: scroll;\"><table class = \"data-frame\" style = \"margin-bottom: 6px;\"><thead><tr class = \"header\"><th class = \"rowNumber\" style = \"font-weight: bold; text-align: right;\">Row</th><th style = \"text-align: left;\">Book_ID</th><th style = \"text-align: left;\">Title</th><th style = \"text-align: left;\">Price</th></tr><tr class = \"subheader headerLastRow\"><th class = \"rowNumber\" style = \"font-weight: bold; text-align: right;\"></th><th title = \"Int64\" style = \"text-align: left;\">Int64</th><th title = \"String\" style = \"text-align: left;\">String</th><th title = \"Float64\" style = \"text-align: left;\">Float64</th></tr></thead><tbody><tr><td class = \"rowNumber\" style = \"font-weight: bold; text-align: right;\">1</td><td style = \"text-align: right;\">2</td><td style = \"text-align: left;\">To Kill a Mockingbird</td><td style = \"text-align: right;\">15.99</td></tr><tr><td class = \"rowNumber\" style = \"font-weight: bold; text-align: right;\">2</td><td style = \"text-align: right;\">3</td><td style = \"text-align: left;\">1984</td><td style = \"text-align: right;\">12.5</td></tr></tbody></table></div>"
      ],
      "text/latex": [
       "\\begin{tabular}{r|ccc}\n",
       "\t& Book\\_ID & Title & Price\\\\\n",
       "\t\\hline\n",
       "\t& Int64 & String & Float64\\\\\n",
       "\t\\hline\n",
       "\t1 & 2 & To Kill a Mockingbird & 15.99 \\\\\n",
       "\t2 & 3 & 1984 & 12.5 \\\\\n",
       "\\end{tabular}\n"
      ],
      "text/plain": [
       "\u001b[1m2×3 DataFrame\u001b[0m\n",
       "\u001b[1m Row \u001b[0m│\u001b[1m Book_ID \u001b[0m\u001b[1m Title                 \u001b[0m\u001b[1m Price   \u001b[0m\n",
       "     │\u001b[90m Int64   \u001b[0m\u001b[90m String                \u001b[0m\u001b[90m Float64 \u001b[0m\n",
       "─────┼─────────────────────────────────────────\n",
       "   1 │       2  To Kill a Mockingbird    15.99\n",
       "   2 │       3  1984                     12.5"
      ]
     },
     "metadata": {},
     "output_type": "display_data"
    }
   ],
   "source": [
    "# your code here\n",
    "\n",
    "# Perform inner join on the 'Book_ID' column\n",
    "result = innerjoin(df1, df2, on=:Book_ID)"
   ]
  },
  {
   "cell_type": "markdown",
   "metadata": {},
   "source": [
    "b) Create a new table with the columns *Title* and *Price* for all books. If the *Title* or *Price* is not known the table should have the entry *missing*."
   ]
  },
  {
   "cell_type": "code",
   "execution_count": 53,
   "metadata": {},
   "outputs": [
    {
     "data": {
      "text/html": [
       "<div><div style = \"float: left;\"><span>6×3 DataFrame</span></div><div style = \"clear: both;\"></div></div><div class = \"data-frame\" style = \"overflow-x: scroll;\"><table class = \"data-frame\" style = \"margin-bottom: 6px;\"><thead><tr class = \"header\"><th class = \"rowNumber\" style = \"font-weight: bold; text-align: right;\">Row</th><th style = \"text-align: left;\">Book_ID</th><th style = \"text-align: left;\">Title</th><th style = \"text-align: left;\">Price</th></tr><tr class = \"subheader headerLastRow\"><th class = \"rowNumber\" style = \"font-weight: bold; text-align: right;\"></th><th title = \"Int64\" style = \"text-align: left;\">Int64</th><th title = \"Union{Missing, String}\" style = \"text-align: left;\">String?</th><th title = \"Union{Missing, Float64}\" style = \"text-align: left;\">Float64?</th></tr></thead><tbody><tr><td class = \"rowNumber\" style = \"font-weight: bold; text-align: right;\">1</td><td style = \"text-align: right;\">2</td><td style = \"text-align: left;\">To Kill a Mockingbird</td><td style = \"text-align: right;\">15.99</td></tr><tr><td class = \"rowNumber\" style = \"font-weight: bold; text-align: right;\">2</td><td style = \"text-align: right;\">3</td><td style = \"text-align: left;\">1984</td><td style = \"text-align: right;\">12.5</td></tr><tr><td class = \"rowNumber\" style = \"font-weight: bold; text-align: right;\">3</td><td style = \"text-align: right;\">1</td><td style = \"text-align: left;\">The Great Gatsby</td><td style = \"font-style: italic; text-align: right;\">missing</td></tr><tr><td class = \"rowNumber\" style = \"font-weight: bold; text-align: right;\">4</td><td style = \"text-align: right;\">4</td><td style = \"text-align: left;\">The Catcher in the Rye</td><td style = \"font-style: italic; text-align: right;\">missing</td></tr><tr><td class = \"rowNumber\" style = \"font-weight: bold; text-align: right;\">5</td><td style = \"text-align: right;\">5</td><td style = \"font-style: italic; text-align: left;\">missing</td><td style = \"text-align: right;\">10.75</td></tr><tr><td class = \"rowNumber\" style = \"font-weight: bold; text-align: right;\">6</td><td style = \"text-align: right;\">6</td><td style = \"font-style: italic; text-align: left;\">missing</td><td style = \"text-align: right;\">20.0</td></tr></tbody></table></div>"
      ],
      "text/latex": [
       "\\begin{tabular}{r|ccc}\n",
       "\t& Book\\_ID & Title & Price\\\\\n",
       "\t\\hline\n",
       "\t& Int64 & String? & Float64?\\\\\n",
       "\t\\hline\n",
       "\t1 & 2 & To Kill a Mockingbird & 15.99 \\\\\n",
       "\t2 & 3 & 1984 & 12.5 \\\\\n",
       "\t3 & 1 & The Great Gatsby & \\emph{missing} \\\\\n",
       "\t4 & 4 & The Catcher in the Rye & \\emph{missing} \\\\\n",
       "\t5 & 5 & \\emph{missing} & 10.75 \\\\\n",
       "\t6 & 6 & \\emph{missing} & 20.0 \\\\\n",
       "\\end{tabular}\n"
      ],
      "text/plain": [
       "\u001b[1m6×3 DataFrame\u001b[0m\n",
       "\u001b[1m Row \u001b[0m│\u001b[1m Book_ID \u001b[0m\u001b[1m Title                  \u001b[0m\u001b[1m Price      \u001b[0m\n",
       "     │\u001b[90m Int64   \u001b[0m\u001b[90m String?                \u001b[0m\u001b[90m Float64?   \u001b[0m\n",
       "─────┼─────────────────────────────────────────────\n",
       "   1 │       2  To Kill a Mockingbird        15.99\n",
       "   2 │       3  1984                         12.5\n",
       "   3 │       1  The Great Gatsby       \u001b[90m missing    \u001b[0m\n",
       "   4 │       4  The Catcher in the Rye \u001b[90m missing    \u001b[0m\n",
       "   5 │       5 \u001b[90m missing                \u001b[0m      10.75\n",
       "   6 │       6 \u001b[90m missing                \u001b[0m      20.0"
      ]
     },
     "metadata": {},
     "output_type": "display_data"
    }
   ],
   "source": [
    "result = outerjoin(df1, df2, on=:Book_ID)"
   ]
  }
 ],
 "metadata": {
  "kernelspec": {
   "display_name": "Julia 1.10.2",
   "language": "julia",
   "name": "julia-1.10"
  },
  "language_info": {
   "file_extension": ".jl",
   "mimetype": "application/julia",
   "name": "julia",
   "version": "1.10.2"
  }
 },
 "nbformat": 4,
 "nbformat_minor": 2
}
