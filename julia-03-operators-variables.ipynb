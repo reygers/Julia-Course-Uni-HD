{
 "cells": [
  {
   "cell_type": "markdown",
   "metadata": {
    "slideshow": {
     "slide_type": "slide"
    }
   },
   "source": [
    "<style>\n",
    "/* Set font size for headers */\n",
    "h1, h2, h3, h4, h5, h6 {\n",
    "    font-size: 32px; /* Adjust as needed */\n",
    "}\n",
    "\n",
    "/* Set font size for paragraphs */\n",
    "p, li, ul {\n",
    "    font-size: 24px; /* Adjust as needed */\n",
    "}\n",
    "</style>\n",
    "\n",
    "\n",
    "Introduction to the Julia programming language\n",
    "\n",
    "![](images/julia-logo.svg)\n",
    "\n",
    "## 3 Variables and operators"
   ]
  },
  {
   "cell_type": "markdown",
   "metadata": {
    "slideshow": {
     "slide_type": "slide"
    }
   },
   "source": [
    "## Variables and operators\n",
    "\n",
    "All languages have their syntax and here we present a whistle-stop tour of the highlights of Julia.\n",
    "\n",
    "We don't attempt to be exhaustive here - check the [Julia Documentation](https://docs.julialang.org/) (or do a search) if there's anything you are unsure of, and for more functionality we haven't covered here on advanced topics."
   ]
  },
  {
   "cell_type": "markdown",
   "metadata": {
    "slideshow": {
     "slide_type": "slide"
    }
   },
   "source": [
    "## Variables\n",
    "\n",
    "A variable is a name bound to a value and assignment is done with `=` (no surprise!):"
   ]
  },
  {
   "cell_type": "code",
   "execution_count": null,
   "metadata": {},
   "outputs": [
    {
     "data": {
      "text/plain": [
       "1.0e-9"
      ]
     },
     "metadata": {},
     "output_type": "display_data"
    }
   ],
   "source": [
    "x = 1.09\n",
    "my_amazing_string = \"a string\"\n",
    "δ = 1.0e-9"
   ]
  },
  {
   "cell_type": "markdown",
   "metadata": {},
   "source": [
    "*Note*: In REPL mode, Julia will print the results of the last statement's execution as output. \n",
    "Sometimes you don't want that, in which case it can be suppressed by adding a semicolon at the end of\n",
    "the statement:"
   ]
  },
  {
   "cell_type": "code",
   "execution_count": 2,
   "metadata": {},
   "outputs": [],
   "source": [
    "δ2 = 1.0e-18;"
   ]
  },
  {
   "cell_type": "markdown",
   "metadata": {
    "slideshow": {
     "slide_type": "slide"
    }
   },
   "source": [
    "## Hex and binary literals"
   ]
  },
  {
   "cell_type": "code",
   "execution_count": 8,
   "metadata": {},
   "outputs": [
    {
     "name": "stdout",
     "output_type": "stream",
     "text": [
      "255"
     ]
    }
   ],
   "source": [
    "x = 0xFF\n",
    "print(x)"
   ]
  },
  {
   "cell_type": "code",
   "execution_count": 7,
   "metadata": {},
   "outputs": [
    {
     "name": "stdout",
     "output_type": "stream",
     "text": [
      "8"
     ]
    }
   ],
   "source": [
    "x = 0b1000\n",
    "print(x)"
   ]
  },
  {
   "cell_type": "markdown",
   "metadata": {
    "slideshow": {
     "slide_type": "slide"
    }
   },
   "source": [
    "## Operators\n",
    "\n",
    "### Binary Operators\n",
    "`+, -, *, /` does what you expect, and there are a few less common ones:\n",
    "\n",
    "| Expression | Name | Description |\n",
    "|---|---|---|\n",
    "|`x ^ y`\t|power\t|raises x to the yth power|\n",
    "|`x ÷ y`\t|integer divide\t|x / y, truncated to an integer, same as `div(a,y)`|\n",
    "|`x % y`\t|remainder\t|same as `rem(x,y)`|"
   ]
  },
  {
   "cell_type": "markdown",
   "metadata": {},
   "source": [
    "In particular, note that Julia uses `^` for exponentiation, not logical operations (and not **, as some other languages)."
   ]
  },
  {
   "cell_type": "code",
   "execution_count": 3,
   "metadata": {},
   "outputs": [
    {
     "data": {
      "text/plain": [
       "1027"
      ]
     },
     "metadata": {},
     "output_type": "display_data"
    }
   ],
   "source": [
    "(2^10) + (33%10)"
   ]
  },
  {
   "cell_type": "markdown",
   "metadata": {
    "slideshow": {
     "slide_type": "slide"
    }
   },
   "source": [
    "## Bitwise Operators\n",
    "\n",
    "[Bitwise operators](https://en.wikipedia.org/wiki/Bitwise_operation#Bitwise_operators)\n",
    "are supported on all primitive integer types:\n",
    "\n",
    "| Expression | Name                                                                     |\n",
    "|:---------- |:------------------------------------------------------------------------ |\n",
    "| `~x`       | bitwise not                                                              |\n",
    "| `x & y`    | bitwise and                                                              |\n",
    "| `x \\| y`   | bitwise or                                                               |\n",
    "| `x ⊻ y`    | bitwise xor (exclusive or)                                               |"
   ]
  },
  {
   "cell_type": "code",
   "execution_count": 17,
   "metadata": {},
   "outputs": [
    {
     "name": "stdout",
     "output_type": "stream",
     "text": [
      "101\n",
      "1111\n"
     ]
    }
   ],
   "source": [
    "a = 0b0111\n",
    "b = 0b1101\n",
    "println(string(a & b, base=2))\n",
    "println(string(a | b, base=2))"
   ]
  },
  {
   "cell_type": "markdown",
   "metadata": {
    "slideshow": {
     "slide_type": "slide"
    }
   },
   "source": [
    "### Updating and Testing\n",
    "\n",
    "Most variables (except for `const` globals) can be updated, with the usual *updating operators* (`+=`, `-=`, `*=`, `/=`, etc.):"
   ]
  },
  {
   "cell_type": "code",
   "execution_count": 5,
   "metadata": {},
   "outputs": [
    {
     "data": {
      "text/plain": [
       "14"
      ]
     },
     "metadata": {},
     "output_type": "display_data"
    }
   ],
   "source": [
    "a *= 2"
   ]
  },
  {
   "cell_type": "markdown",
   "metadata": {},
   "source": [
    "Comparative testing of values uses the usual operators (`==`, `>`, `<`, `>=`, `<=`) and returns a `bool` type, which can be `true` or `false`:"
   ]
  },
  {
   "cell_type": "code",
   "execution_count": 6,
   "metadata": {},
   "outputs": [
    {
     "data": {
      "text/plain": [
       "true"
      ]
     },
     "metadata": {},
     "output_type": "display_data"
    }
   ],
   "source": [
    "a >= 8"
   ]
  },
  {
   "cell_type": "code",
   "execution_count": 7,
   "metadata": {},
   "outputs": [
    {
     "data": {
      "text/plain": [
       "false"
      ]
     },
     "metadata": {},
     "output_type": "display_data"
    }
   ],
   "source": [
    "a < δ2"
   ]
  },
  {
   "cell_type": "markdown",
   "metadata": {
    "slideshow": {
     "slide_type": "slide"
    }
   },
   "source": [
    "The `!` operator negates a boolean:"
   ]
  },
  {
   "cell_type": "code",
   "execution_count": 8,
   "metadata": {},
   "outputs": [
    {
     "data": {
      "text/plain": [
       "false"
      ]
     },
     "metadata": {},
     "output_type": "display_data"
    }
   ],
   "source": [
    "!true"
   ]
  },
  {
   "cell_type": "markdown",
   "metadata": {},
   "source": [
    "Julia also has a `===` comparison operator that is `true` when two objects are the same (not just the same value(s), but really the same object)"
   ]
  },
  {
   "cell_type": "code",
   "execution_count": 9,
   "metadata": {},
   "outputs": [
    {
     "name": "stdout",
     "output_type": "stream",
     "text": [
      "a === b = false\n",
      "a === c = true\n"
     ]
    },
    {
     "data": {
      "text/plain": [
       "true"
      ]
     },
     "metadata": {},
     "output_type": "display_data"
    }
   ],
   "source": [
    "a = [1, 2]\n",
    "b = [1, 2]\n",
    "c = a\n",
    "@show a === b\n",
    "@show a === c"
   ]
  },
  {
   "cell_type": "markdown",
   "metadata": {},
   "source": [
    "Julia allows you to chain comparisons:"
   ]
  },
  {
   "cell_type": "code",
   "execution_count": 10,
   "metadata": {},
   "outputs": [
    {
     "data": {
      "text/plain": [
       "true"
      ]
     },
     "metadata": {},
     "output_type": "display_data"
    }
   ],
   "source": [
    "1 < 2 <= 2 < 3 == 3 > 2 >= 1 == 1 < 3 != 5"
   ]
  },
  {
   "cell_type": "markdown",
   "metadata": {
    "slideshow": {
     "slide_type": "slide"
    }
   },
   "source": [
    "## Basic Types\n",
    "\n",
    "Julia supports integers (signed and unsigned) and floats, all with varying bit widths:"
   ]
  },
  {
   "cell_type": "code",
   "execution_count": 11,
   "metadata": {},
   "outputs": [
    {
     "data": {
      "text/plain": [
       "Float64"
      ]
     },
     "metadata": {},
     "output_type": "display_data"
    }
   ],
   "source": [
    "f = 1.234\n",
    "typeof(f)"
   ]
  },
  {
   "cell_type": "code",
   "execution_count": 12,
   "metadata": {},
   "outputs": [
    {
     "data": {
      "text/plain": [
       "0x0000000000bc3814"
      ]
     },
     "metadata": {},
     "output_type": "display_data"
    }
   ],
   "source": [
    "i = UInt(12335124)"
   ]
  },
  {
   "cell_type": "code",
   "execution_count": 13,
   "metadata": {},
   "outputs": [
    {
     "data": {
      "text/plain": [
       "UInt64"
      ]
     },
     "metadata": {},
     "output_type": "display_data"
    }
   ],
   "source": [
    "typeof(i)"
   ]
  },
  {
   "cell_type": "markdown",
   "metadata": {},
   "source": [
    "Julia will generally handle mixed type arithmetic smoothly and safely (this is done by *promoting* variables):"
   ]
  },
  {
   "cell_type": "code",
   "execution_count": 14,
   "metadata": {},
   "outputs": [
    {
     "data": {
      "text/plain": [
       "1.5221543015999999e7"
      ]
     },
     "metadata": {},
     "output_type": "display_data"
    }
   ],
   "source": [
    "f * i"
   ]
  },
  {
   "cell_type": "markdown",
   "metadata": {
    "slideshow": {
     "slide_type": "slide"
    }
   },
   "source": [
    "But it will generally throw an error if this can't be done safely:"
   ]
  },
  {
   "cell_type": "code",
   "execution_count": 15,
   "metadata": {
    "tags": [
     "raises-exception"
    ]
   },
   "outputs": [
    {
     "ename": "InexactError",
     "evalue": "InexactError: trunc(Int16, 12335124)",
     "output_type": "error",
     "traceback": [
      "InexactError: trunc(Int16, 12335124)\n",
      "\n",
      "Stacktrace:\n",
      " [1] throw_inexacterror(f::Symbol, #unused#::Type{Int16}, val::UInt64)\n",
      "   @ Core ./boot.jl:634\n",
      " [2] checked_trunc_sint\n",
      "   @ ./boot.jl:656 [inlined]\n",
      " [3] toInt16\n",
      "   @ ./boot.jl:687 [inlined]\n",
      " [4] Int16(x::UInt64)\n",
      "   @ Core ./boot.jl:782\n",
      " [5] top-level scope\n",
      "   @ ~/docs/JuliaHEP-2023/julia-intro/docs/julia-intro-syntax-operators-variables.ipynb:1"
     ]
    }
   ],
   "source": [
    "Int16(i)"
   ]
  },
  {
   "cell_type": "markdown",
   "metadata": {
    "slideshow": {
     "slide_type": "slide"
    }
   },
   "source": [
    "As in Python, you don't need to specify a type for a variable (unlike C++) - by default, they work like Python, and can freely be assigned any values of any type.\n",
    "\n",
    "However, you *can* specify a type for a variable, using the `::Type` notation, which causes that variable to *only* hold values of that type:"
   ]
  },
  {
   "cell_type": "code",
   "execution_count": 16,
   "metadata": {},
   "outputs": [
    {
     "name": "stdout",
     "output_type": "stream",
     "text": [
      "integer_value = 2\n"
     ]
    },
    {
     "data": {
      "text/plain": [
       "Int64"
      ]
     },
     "metadata": {},
     "output_type": "display_data"
    }
   ],
   "source": [
    "integer_value::Int64 = 6;\n",
    "\n",
    "integer_value = 2.0;\n",
    "\n",
    "@show integer_value\n",
    "\n",
    "typeof(integer_value)"
   ]
  },
  {
   "cell_type": "markdown",
   "metadata": {
    "slideshow": {
     "slide_type": "slide"
    }
   },
   "source": [
    "As we noted above, Julia will only perform \"free\" conversions of type if it can do so without losing precision. \n",
    "If we try to put a non-integer into this variable:"
   ]
  },
  {
   "cell_type": "code",
   "execution_count": 17,
   "metadata": {
    "tags": [
     "raises-exception"
    ]
   },
   "outputs": [
    {
     "ename": "InexactError",
     "evalue": "InexactError: Int64(2.5)",
     "output_type": "error",
     "traceback": [
      "InexactError: Int64(2.5)\n",
      "\n",
      "Stacktrace:\n",
      " [1] Int64\n",
      "   @ ./float.jl:900 [inlined]\n",
      " [2] convert(#unused#::Type{Int64}, x::Float64)\n",
      "   @ Base ./number.jl:7\n",
      " [3] top-level scope\n",
      "   @ ~/docs/JuliaHEP-2023/julia-intro/docs/julia-intro-syntax-operators-variables.ipynb:1"
     ]
    }
   ],
   "source": [
    "integer_value = 2.5"
   ]
  },
  {
   "cell_type": "markdown",
   "metadata": {
    "slideshow": {
     "slide_type": "slide"
    }
   },
   "source": [
    "Julia's types are arranged in a \"hierarchy\", from more general to more specific types:\n",
    "\n",
    "![The Julia Type Hierarchy, thanks to Uwe Hernandez Acosta](./images/numeric_types.png)\n",
    "\n",
    "Only the \"leaves\" of the type tree can be values (\"concrete types\") - but variables (and functions) can be defined in terms of any of the types, even the \"abstract\" ones. \n",
    "This means you can, for example, define a variable that will hold any \"Number\" type - allowing it to hold Float, Rational or Integer values, but not, say, Strings. \n",
    "\n",
    "We'll come back to other aspects of this when we cover *multiple dispatch*."
   ]
  },
  {
   "cell_type": "markdown",
   "metadata": {
    "slideshow": {
     "slide_type": "slide"
    }
   },
   "source": [
    "### Complex and Rational Numbers\n",
    "\n",
    "Complex and rational numbers are handled natively in Julia:"
   ]
  },
  {
   "cell_type": "code",
   "execution_count": 18,
   "metadata": {},
   "outputs": [
    {
     "data": {
      "text/plain": [
       "3 - 9im"
      ]
     },
     "metadata": {},
     "output_type": "display_data"
    }
   ],
   "source": [
    "# \"im\" is the imaginary number constant\n",
    "m = 1 + 2im\n",
    "n = -3 - 3im\n",
    "m*n"
   ]
  },
  {
   "cell_type": "code",
   "execution_count": 19,
   "metadata": {},
   "outputs": [
    {
     "data": {
      "text/plain": [
       "1//6"
      ]
     },
     "metadata": {},
     "output_type": "display_data"
    }
   ],
   "source": [
    "# // defines a rational\n",
    "r1 = 2//3\n",
    "r2 = 1//4\n",
    "r1*r2"
   ]
  },
  {
   "cell_type": "markdown",
   "metadata": {
    "slideshow": {
     "slide_type": "slide"
    }
   },
   "source": [
    "### Strings\n",
    "\n",
    "Strings in Julia are defined with double quotes: \n",
    "\n",
    "`\"oh yes, they are\"`\n",
    "\n",
    "or triple double quotes, which allow use of unescaped double quotes and newlines: \n",
    "\n",
    "`\"\"\"Sam exclaimed, \"this is much easier than using backslashes!\" \"\"\"`"
   ]
  },
  {
   "cell_type": "code",
   "execution_count": 20,
   "metadata": {},
   "outputs": [
    {
     "data": {
      "text/plain": [
       "\"here is a string\""
      ]
     },
     "metadata": {},
     "output_type": "display_data"
    }
   ],
   "source": [
    "\"here is a string\""
   ]
  },
  {
   "cell_type": "markdown",
   "metadata": {},
   "source": [
    "One point to note is that strings are concatenated with a `*` operator:"
   ]
  },
  {
   "cell_type": "code",
   "execution_count": 21,
   "metadata": {},
   "outputs": [
    {
     "data": {
      "text/plain": [
       "\"hello world\""
      ]
     },
     "metadata": {},
     "output_type": "display_data"
    }
   ],
   "source": [
    "\"hello \" * \"world\""
   ]
  },
  {
   "cell_type": "markdown",
   "metadata": {
    "slideshow": {
     "slide_type": "slide"
    }
   },
   "source": [
    "Strings are internally represented as UTF-8, so they can hold any Unicode values. However, they are *indexed* by byte, and attempting to take values from the middle of a code-point will cause an error. There are methods which provide iterators to safely iterate over the individual \"characters\" if you need to.\n",
    "\n",
    "*Characters* are defined with single quotes: `'प'`, and are UTF-32 (32-bit values)."
   ]
  },
  {
   "cell_type": "code",
   "execution_count": 22,
   "metadata": {},
   "outputs": [
    {
     "data": {
      "text/plain": [
       "true"
      ]
     },
     "metadata": {},
     "output_type": "display_data"
    }
   ],
   "source": [
    "текст = \"\"\"The Ukrainian for \"text\" is \"текст\" and the Hindi is \"पाठ\"!\"\"\"\n",
    "\n",
    "#trying to take from position 37 would cause an error, as Cyrillic chars are two-bytes wide.\n",
    "текст[38] == 'т'  "
   ]
  },
  {
   "cell_type": "markdown",
   "metadata": {
    "slideshow": {
     "slide_type": "slide"
    }
   },
   "source": [
    "Finally, Julia supports string interpolation using `$` to specify the variable, or expression if contained within parentheses, to substitute into the string."
   ]
  },
  {
   "cell_type": "code",
   "execution_count": 23,
   "metadata": {},
   "outputs": [
    {
     "data": {
      "text/plain": [
       "\"1 + 2im squared is -3 + 4im\""
      ]
     },
     "metadata": {},
     "output_type": "display_data"
    }
   ],
   "source": [
    "\"$m squared is $(m^2)\""
   ]
  },
  {
   "cell_type": "markdown",
   "metadata": {
    "slideshow": {
     "slide_type": "slide"
    }
   },
   "source": [
    "More on strings:"
   ]
  },
  {
   "cell_type": "code",
   "execution_count": 7,
   "metadata": {},
   "outputs": [
    {
     "data": {
      "text/plain": [
       "3-element Vector{SubString{String}}:\n",
       " \"one\"\n",
       " \"three\"\n",
       " \"four!\""
      ]
     },
     "metadata": {},
     "output_type": "display_data"
    }
   ],
   "source": [
    "split(\"one, three, four!\", \", \")"
   ]
  },
  {
   "cell_type": "code",
   "execution_count": 8,
   "metadata": {},
   "outputs": [
    {
     "data": {
      "text/plain": [
       "true"
      ]
     },
     "metadata": {},
     "output_type": "display_data"
    }
   ],
   "source": [
    "occursin(\"sip\", \"Mississippi\")"
   ]
  },
  {
   "cell_type": "code",
   "execution_count": 10,
   "metadata": {},
   "outputs": [
    {
     "data": {
      "text/plain": [
       "\"I like coffee and tea\""
      ]
     },
     "metadata": {},
     "output_type": "display_data"
    }
   ],
   "source": [
    "replace(\"I like tea\", \"tea\" => \"coffee and tea\")"
   ]
  },
  {
   "cell_type": "markdown",
   "metadata": {
    "slideshow": {
     "slide_type": "slide"
    }
   },
   "source": [
    "## Regular expressions"
   ]
  },
  {
   "cell_type": "code",
   "execution_count": 13,
   "metadata": {},
   "outputs": [
    {
     "name": "stdout",
     "output_type": "stream",
     "text": [
      "Valid Uni-Id\n"
     ]
    }
   ],
   "source": [
    "regex = r\"^[a-z]{2}\\d{3}$\"\n",
    "\n",
    "str = \"ab123\"\n",
    "if occursin(regex, str)\n",
    "    println(\"Valid Uni-Id\")\n",
    "else\n",
    "    println(\"Not a valid Uni-ID\")\n",
    "end"
   ]
  },
  {
   "cell_type": "markdown",
   "metadata": {
    "slideshow": {
     "slide_type": "slide"
    }
   },
   "source": [
    "## Composite Types"
   ]
  },
  {
   "cell_type": "code",
   "execution_count": 14,
   "metadata": {},
   "outputs": [
    {
     "data": {
      "text/plain": [
       "30"
      ]
     },
     "metadata": {},
     "output_type": "display_data"
    }
   ],
   "source": [
    "struct Person\n",
    "    name\n",
    "    age\n",
    "end\n",
    "\n",
    "p = Person(\"Mary\", 30)\n",
    "p.age"
   ]
  },
  {
   "cell_type": "markdown",
   "metadata": {
    "slideshow": {
     "slide_type": "slide"
    }
   },
   "source": [
    "One can also define a constructor:"
   ]
  },
  {
   "cell_type": "code",
   "execution_count": 18,
   "metadata": {},
   "outputs": [
    {
     "data": {
      "text/plain": [
       "Person2(\"--\", -1)"
      ]
     },
     "metadata": {},
     "output_type": "display_data"
    }
   ],
   "source": [
    "struct Person2\n",
    "    name\n",
    "    age\n",
    "    function Person2()\n",
    "        new(\"--\", -1)\n",
    "    end\n",
    "end\n",
    "\n",
    "p2 = Person2()"
   ]
  },
  {
   "cell_type": "markdown",
   "metadata": {
    "slideshow": {
     "slide_type": "slide"
    }
   },
   "source": [
    "One can also define the type of the struct variables:"
   ]
  },
  {
   "cell_type": "code",
   "execution_count": 25,
   "metadata": {},
   "outputs": [
    {
     "data": {
      "text/plain": [
       "my_vector(3.7, 6.0e7)"
      ]
     },
     "metadata": {},
     "output_type": "display_data"
    }
   ],
   "source": [
    "struct my_vector\n",
    "    x::Float64\n",
    "    y::Float64\n",
    "end\n",
    "\n",
    "υϵκτωρ = my_vector(3.7, 6e7)"
   ]
  },
  {
   "cell_type": "markdown",
   "metadata": {
    "slideshow": {
     "slide_type": "slide"
    }
   },
   "source": [
    "By default, struct types are immutable - you can't update their elements - but you can explicitly make *mutable* ones.\n",
    "(You can also, as in C++, make \"templated\" structs, defining the types of the elements via a placeholder - which is also how Arrays work internally.)"
   ]
  },
  {
   "cell_type": "code",
   "execution_count": 15,
   "metadata": {},
   "outputs": [
    {
     "data": {
      "text/plain": [
       "my_mut_vector(6.0, 6.0e7)"
      ]
     },
     "metadata": {},
     "output_type": "display_data"
    }
   ],
   "source": [
    "mutable struct my_mut_vector\n",
    "    x::Float64\n",
    "    y::Float64\n",
    "end\n",
    "\n",
    "μ_υϵκτωρ = my_mut_vector(3.7, 6e7)\n",
    "μ_υϵκτωρ.x = 6.0\n",
    "μ_υϵκτωρ"
   ]
  },
  {
   "cell_type": "markdown",
   "metadata": {
    "slideshow": {
     "slide_type": "slide"
    }
   },
   "source": [
    "## Enums\n",
    "\n",
    "Enumerations make the code more readable:"
   ]
  },
  {
   "cell_type": "code",
   "execution_count": 38,
   "metadata": {},
   "outputs": [
    {
     "name": "stdout",
     "output_type": "stream",
     "text": [
      "We didn't get an apple\n"
     ]
    }
   ],
   "source": [
    "@enum Fruit apple=1 banana=2 orange=3\n",
    "\n",
    "using Random\n",
    "\n",
    "f = rand(1:3) \n",
    "if (f == apple)\n",
    "    println(\"We got an apple\")\n",
    "else\n",
    "    println(\"We didn't get an apple\")\n",
    "end"
   ]
  }
 ],
 "metadata": {
  "kernelspec": {
   "display_name": "Julia 1.10.2",
   "language": "julia",
   "name": "julia-1.10"
  },
  "language_info": {
   "file_extension": ".jl",
   "mimetype": "application/julia",
   "name": "julia",
   "version": "1.10.2"
  }
 },
 "nbformat": 4,
 "nbformat_minor": 4
}
