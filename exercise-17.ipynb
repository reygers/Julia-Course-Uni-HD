{
 "cells": [
  {
   "cell_type": "markdown",
   "metadata": {},
   "source": [
    "## Exercises: 17. Numerical computation"
   ]
  },
  {
   "cell_type": "markdown",
   "metadata": {},
   "source": [
    "#### Problem 1\n",
    "\n",
    "The function below implements [Planck's law](https://en.wikipedia.org/wiki/Planck%27s_law):\n"
   ]
  },
  {
   "cell_type": "code",
   "execution_count": 46,
   "metadata": {},
   "outputs": [
    {
     "data": {
      "text/plain": [
       "I (generic function with 1 method)"
      ]
     },
     "metadata": {},
     "output_type": "display_data"
    }
   ],
   "source": [
    "# Physical constants\n",
    "h = 6.634e-34  # Planck's constant (J*s)\n",
    "c = 3e8         # Speed of light (m/s)\n",
    "k_B = 1.381e-23  # Boltzmann's constant (J/K)\n",
    "\n",
    "# Set temperature and integration parameters\n",
    "T = 5777.  # surface temperature of the sun (K)\n",
    "\n",
    "# Function for spectral intensity (Planck's Law)\n",
    "function I(λ, T)\n",
    "  return (2.0 * h * c^2) / (λ^5 * (exp(h*c / (λ * k_B * T)) - 1.0))\n",
    "end"
   ]
  },
  {
   "cell_type": "markdown",
   "metadata": {},
   "source": [
    "Determine the ratio of the power emitted by the sun in the wavelength range between [400 nm, 600 nm] and [600 nm, 800 nm]."
   ]
  },
  {
   "cell_type": "markdown",
   "metadata": {},
   "source": [
    "#### Problem 2\n"
   ]
  },
  {
   "cell_type": "markdown",
   "metadata": {},
   "source": [
    "Determine the volume of the unit 3D sphere \n",
    "\n",
    "$$ \\int_0^1 dr \\int_0^\\pi d\\theta \\int_0^{2\\pi} d\\phi \\; r^2 \\sin \\theta$$\n",
    "\n",
    "numerically using the [HCubature](https://github.com/JuliaMath/HCubature.jl) package."
   ]
  }
 ],
 "metadata": {
  "kernelspec": {
   "display_name": "Julia 1.10.2",
   "language": "julia",
   "name": "julia-1.10"
  },
  "language_info": {
   "file_extension": ".jl",
   "mimetype": "application/julia",
   "name": "julia",
   "version": "1.10.2"
  }
 },
 "nbformat": 4,
 "nbformat_minor": 2
}
