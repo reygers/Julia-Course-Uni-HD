{
 "cells": [
  {
   "cell_type": "markdown",
   "id": "0005d92b",
   "metadata": {},
   "source": [
    "<style>\n",
    "/* Set font size for headers */\n",
    "h1, h2, h3, h4, h5, h6 {\n",
    "    font-size: 32px; /* Adjust as needed */\n",
    "}\n",
    "\n",
    "/* Set font size for paragraphs */\n",
    "p, li, ul {\n",
    "    font-size: 24px; /* Adjust as needed */\n",
    "}\n",
    "</style>\n",
    "\n",
    "\n",
    "Introduction to the Julia programming language\n",
    "\n",
    "![](images/julia-logo.svg)\n",
    "\n",
    "## 21 Integrating Python, C, and, FORTRAN"
   ]
  },
  {
   "cell_type": "markdown",
   "id": "aefcb5c8",
   "metadata": {
    "slideshow": {
     "slide_type": "slide"
    }
   },
   "source": [
    "## Python (1)\n",
    "\n",
    "Examples from [this notebook](https://github.com/JuliaAcademy/DataScience/blob/main/11.%20from%20other%20languages.ipynb)."
   ]
  },
  {
   "cell_type": "code",
   "execution_count": 10,
   "id": "d2b70d4f",
   "metadata": {},
   "outputs": [],
   "source": [
    "using PyCall"
   ]
  },
  {
   "cell_type": "code",
   "execution_count": 6,
   "id": "fe665749",
   "metadata": {},
   "outputs": [
    {
     "data": {
      "text/plain": [
       "v\"3.10.14\""
      ]
     },
     "metadata": {},
     "output_type": "display_data"
    }
   ],
   "source": [
    "# Get Python version information\n",
    "PyCall.pyversion"
   ]
  },
  {
   "cell_type": "code",
   "execution_count": 2,
   "id": "ce0002e6",
   "metadata": {},
   "outputs": [
    {
     "data": {
      "text/plain": [
       "0.7071067811865475"
      ]
     },
     "metadata": {},
     "output_type": "display_data"
    }
   ],
   "source": [
    "math = pyimport(\"math\")\n",
    "math.sin(math.pi / 4) # returns ≈ 1/√2 = 0.70710678..."
   ]
  },
  {
   "cell_type": "markdown",
   "id": "65589797",
   "metadata": {
    "slideshow": {
     "slide_type": "slide"
    }
   },
   "source": [
    "## Python (2)\n",
    "\n",
    "You can also write your own Python code as follows:"
   ]
  },
  {
   "cell_type": "code",
   "execution_count": 9,
   "id": "2215f5d6",
   "metadata": {},
   "outputs": [
    {
     "name": "stdout",
     "output_type": "stream",
     "text": [
      "correlation coefficient: 0.6888467201936643\n"
     ]
    }
   ],
   "source": [
    "x = [-0.6, -0.2, 0.2, 0.6]\n",
    "y = [5., 3., 5., 8.]\n",
    "\n",
    "py\"\"\"\n",
    "import numpy as np\n",
    "def corrcoef_numpy(xvals,yvals):\n",
    "    return np.corrcoef(xvals,yvals)[0][1]\n",
    "\"\"\"\n",
    "\n",
    "corrcoef_numpy = py\"corrcoef_numpy\"\n",
    "println(\"correlation coefficient: $(corrcoef_numpy(x,y))\")"
   ]
  }
 ],
 "metadata": {
  "kernelspec": {
   "display_name": "Julia 1.10.2",
   "language": "julia",
   "name": "julia-1.10"
  },
  "language_info": {
   "file_extension": ".jl",
   "mimetype": "application/julia",
   "name": "julia",
   "version": "1.10.2"
  }
 },
 "nbformat": 4,
 "nbformat_minor": 5
}
