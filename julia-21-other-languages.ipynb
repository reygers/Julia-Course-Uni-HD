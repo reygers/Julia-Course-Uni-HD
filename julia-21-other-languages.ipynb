{
 "cells": [
  {
   "cell_type": "markdown",
   "id": "0005d92b",
   "metadata": {},
   "source": [
    "<style>\n",
    "/* Set font size for headers */\n",
    "h1, h2, h3, h4, h5, h6 {\n",
    "    font-size: 32px; /* Adjust as needed */\n",
    "}\n",
    "\n",
    "/* Set font size for paragraphs */\n",
    "p, li, ul {\n",
    "    font-size: 24px; /* Adjust as needed */\n",
    "}\n",
    "</style>\n",
    "\n",
    "\n",
    "Introduction to the Julia programming language\n",
    "\n",
    "![](images/julia-logo.svg)\n",
    "\n",
    "## 21 Integrating Python, C, and, FORTRAN"
   ]
  },
  {
   "cell_type": "markdown",
   "id": "aefcb5c8",
   "metadata": {
    "slideshow": {
     "slide_type": "slide"
    }
   },
   "source": [
    "## Python (1)\n",
    "\n",
    "Examples from [this notebook](https://github.com/JuliaAcademy/DataScience/blob/main/11.%20from%20other%20languages.ipynb)."
   ]
  },
  {
   "cell_type": "code",
   "execution_count": null,
   "id": "d2b70d4f",
   "metadata": {},
   "outputs": [],
   "source": [
    "using PyCall"
   ]
  },
  {
   "cell_type": "code",
   "execution_count": null,
   "id": "fe665749",
   "metadata": {},
   "outputs": [],
   "source": [
    "# Get Python version information\n",
    "PyCall.pyversion"
   ]
  },
  {
   "cell_type": "code",
   "execution_count": null,
   "id": "ce0002e6",
   "metadata": {},
   "outputs": [],
   "source": [
    "math = pyimport(\"math\")\n",
    "math.sin(math.pi / 4) # returns ≈ 1/√2 = 0.70710678..."
   ]
  },
  {
   "cell_type": "markdown",
   "id": "65589797",
   "metadata": {
    "slideshow": {
     "slide_type": "slide"
    }
   },
   "source": [
    "## Python (2)\n",
    "\n",
    "You can also write your own Python code as follows:"
   ]
  },
  {
   "cell_type": "code",
   "execution_count": null,
   "id": "2215f5d6",
   "metadata": {},
   "outputs": [],
   "source": [
    "x = [-0.6, -0.2, 0.2, 0.6]\n",
    "y = [5., 3., 5., 8.]\n",
    "\n",
    "py\"\"\"\n",
    "import numpy as np\n",
    "def corrcoef_numpy(xvals,yvals):\n",
    "    return np.corrcoef(xvals,yvals)[0][1]\n",
    "\"\"\"\n",
    "\n",
    "corrcoef_numpy = py\"corrcoef_numpy\"\n",
    "println(\"correlation coefficient: $(corrcoef_numpy(x,y))\")"
   ]
  },
  {
   "cell_type": "markdown",
   "id": "ce680203",
   "metadata": {
    "slideshow": {
     "slide_type": "slide"
    }
   },
   "source": [
    "## C\n",
    "\n",
    "One can use the `@ccall` macro:\n",
    "\n",
    "```julia\n",
    "@ccall library.function_name(argvalue1::argtype1, ...)::returntype\n",
    "```"
   ]
  },
  {
   "cell_type": "markdown",
   "id": "1446a0d3",
   "metadata": {},
   "source": [
    "Here is an example:\n",
    "```C\n",
    "#include <stdio.h>\n",
    "\n",
    "void say_y(int y) {\n",
    "    printf(\"Hello from C: got y = %d.\\n\", y);\n",
    "}\n",
    "```\n",
    "\n",
    "Create a shared library. My command (on a MacBook Air M2):\n",
    "`gcc -shared -o mylib.dylib -fPIC mylib.c`"
   ]
  },
  {
   "cell_type": "code",
   "execution_count": 5,
   "id": "82b62ec4",
   "metadata": {},
   "outputs": [
    {
     "name": "stdout",
     "output_type": "stream",
     "text": [
      "Hello from C: got y = 5.\n"
     ]
    }
   ],
   "source": [
    "@ccall \"./misc/mylib.dylib\".say_y(5::Cint)::Cvoid"
   ]
  },
  {
   "cell_type": "markdown",
   "id": "8df737d3",
   "metadata": {
    "slideshow": {
     "slide_type": "slide"
    }
   },
   "source": [
    "## C++\n",
    "\n",
    "For using C++ libraries, we use ['CxxWrap'](https://github.com/JuliaInterop/CxxWrap.jl). Here is the example from the CxxWrap documentation:"
   ]
  },
  {
   "cell_type": "markdown",
   "id": "ade99ab5",
   "metadata": {},
   "source": [
    "`hello.cpp` in directory `hello`:\n",
    "\n",
    "```C++\n",
    "#include <string>\n",
    "\n",
    "#include \"jlcxx/jlcxx.hpp\"\n",
    "\n",
    "std::string greet() {\n",
    "   return \"hello, world\";\n",
    "}\n",
    "\n",
    "JLCXX_MODULE define_julia_module(jlcxx::Module& mod) {\n",
    "  mod.method(\"greet\", &greet, \"documentation for greet\");\n",
    "}\n",
    "```"
   ]
  },
  {
   "cell_type": "markdown",
   "id": "47ee4b1e",
   "metadata": {
    "slideshow": {
     "slide_type": "slide"
    }
   },
   "source": [
    "<style>\n",
    "/* Set font size for paragraphs */\n",
    "p {\n",
    "    font-size: 16px; /* Adjust as needed */\n",
    "}\n",
    "</style>\n",
    "\n",
    "It is convenient to use cmake. Here is `CMakeLists.txt`:\n",
    "\n",
    "```cmake\n",
    "project(hello)\n",
    "\n",
    "cmake_minimum_required(VERSION 3.5)\n",
    "set(CMAKE_MACOSX_RPATH 1)\n",
    "set(CMAKE_LIBRARY_OUTPUT_DIRECTORY \"${CMAKE_BINARY_DIR}/lib\")\n",
    "\n",
    "find_package(JlCxx)\n",
    "get_target_property(JlCxx_location JlCxx::cxxwrap_julia LOCATION)\n",
    "get_filename_component(JlCxx_location ${JlCxx_location} DIRECTORY)\n",
    "set(CMAKE_INSTALL_RPATH \"${CMAKE_INSTALL_PREFIX}/lib;${JlCxx_location}\")\n",
    "\n",
    "message(STATUS \"Found JlCxx at ${JlCxx_location}\")\n",
    "\n",
    "add_library(hello SHARED hello.cpp)\n",
    "\n",
    "target_link_libraries(hello JlCxx::cxxwrap_julia)\n",
    "\n",
    "install(TARGETS\n",
    "  hello\n",
    "LIBRARY DESTINATION lib\n",
    "ARCHIVE DESTINATION lib\n",
    "RUNTIME DESTINATION lib)\n",
    "```"
   ]
  },
  {
   "cell_type": "code",
   "execution_count": 1,
   "id": "b310797c",
   "metadata": {
    "slideshow": {
     "slide_type": "slide"
    }
   },
   "outputs": [
    {
     "data": {
      "text/plain": [
       "Main.CppHello"
      ]
     },
     "metadata": {},
     "output_type": "display_data"
    }
   ],
   "source": [
    "module CppHello\n",
    "  using CxxWrap\n",
    "  @wrapmodule(() -> joinpath(\"./misc/build/lib\",\"libhello\"))\n",
    "\n",
    "  function __init__()\n",
    "    @initcxx\n",
    "  end\n",
    "end"
   ]
  },
  {
   "cell_type": "code",
   "execution_count": 4,
   "id": "2ab9cc19",
   "metadata": {},
   "outputs": [
    {
     "data": {
      "text/plain": [
       "\"hello, world\""
      ]
     },
     "metadata": {},
     "output_type": "display_data"
    }
   ],
   "source": [
    "CppHello.greet()"
   ]
  }
 ],
 "metadata": {
  "kernelspec": {
   "display_name": "Julia 1.10.2",
   "language": "julia",
   "name": "julia-1.10"
  },
  "language_info": {
   "file_extension": ".jl",
   "mimetype": "application/julia",
   "name": "julia",
   "version": "1.10.2"
  }
 },
 "nbformat": 4,
 "nbformat_minor": 5
}
