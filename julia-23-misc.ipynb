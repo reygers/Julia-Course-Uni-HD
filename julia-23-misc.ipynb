{
 "cells": [
  {
   "cell_type": "markdown",
   "id": "0005d92b",
   "metadata": {},
   "source": [
    "<style>\n",
    "/* Set font size for headers */\n",
    "h1, h2, h3, h4, h5, h6 {\n",
    "    font-size: 32px; /* Adjust as needed */\n",
    "}\n",
    "\n",
    "/* Set font size for paragraphs */\n",
    "p, li, ul {\n",
    "    font-size: 24px; /* Adjust as needed */\n",
    "}\n",
    "</style>\n",
    "\n",
    "\n",
    "Introduction to the Julia programming language\n",
    "\n",
    "![](images/julia-logo.svg)\n",
    "\n",
    "## 23 Miscellaneous"
   ]
  },
  {
   "cell_type": "markdown",
   "id": "39b5e5ed",
   "metadata": {},
   "source": [
    "Show LLVM code:"
   ]
  },
  {
   "cell_type": "code",
   "execution_count": 1,
   "id": "24faa08a",
   "metadata": {},
   "outputs": [
    {
     "name": "stdout",
     "output_type": "stream",
     "text": [
      "\u001b[90m;  @ int.jl:87 within `+`\u001b[39m\n",
      "\u001b[95mdefine\u001b[39m \u001b[36mi64\u001b[39m \u001b[93m@\"julia_+_616\"\u001b[39m\u001b[33m(\u001b[39m\u001b[36mi64\u001b[39m \u001b[95msignext\u001b[39m \u001b[0m%0\u001b[0m, \u001b[36mi64\u001b[39m \u001b[95msignext\u001b[39m \u001b[0m%1\u001b[33m)\u001b[39m \u001b[0m#0 \u001b[33m{\u001b[39m\n",
      "\u001b[91mtop:\u001b[39m\n",
      "  \u001b[0m%2 \u001b[0m= \u001b[96m\u001b[1madd\u001b[22m\u001b[39m \u001b[36mi64\u001b[39m \u001b[0m%1\u001b[0m, \u001b[0m%0\n",
      "  \u001b[96m\u001b[1mret\u001b[22m\u001b[39m \u001b[36mi64\u001b[39m \u001b[0m%2\n",
      "\u001b[33m}\u001b[39m\n"
     ]
    }
   ],
   "source": [
    "@code_llvm 3 + 4"
   ]
  },
  {
   "cell_type": "markdown",
   "id": "740b455e",
   "metadata": {},
   "source": [
    "Show native code:"
   ]
  },
  {
   "cell_type": "code",
   "execution_count": 2,
   "id": "39bd9ac9",
   "metadata": {},
   "outputs": [
    {
     "name": "stdout",
     "output_type": "stream",
     "text": [
      "\t\u001b[0m.section\t\u001b[0m__TEXT\u001b[0m,\u001b[0m__text\u001b[0m,\u001b[0mregular\u001b[0m,\u001b[0mpure_instructions\n",
      "\t\u001b[0m.build_version \u001b[0mmacos\u001b[0m, \u001b[33m14\u001b[39m\u001b[0m, \u001b[33m0\u001b[39m\n",
      "\t\u001b[0m.globl\t\u001b[0m\"_julia_+_692\"                  \u001b[90m; -- Begin function julia_+_692\u001b[39m\n",
      "\t\u001b[0m.p2align\t\u001b[33m2\u001b[39m\n",
      "\u001b[91m\"_julia_+_692\":\u001b[39m                         \u001b[90m; @\"julia_+_692\"\u001b[39m\n",
      "\u001b[90m; ┌ @ int.jl:87 within `+`\u001b[39m\n",
      "\u001b[90m; %bb.0:                                ; %top\u001b[39m\n",
      "\t\u001b[96m\u001b[1madd\u001b[22m\u001b[39m\t\u001b[0mx0\u001b[0m, \u001b[0mx1\u001b[0m, \u001b[0mx0\n",
      "\t\u001b[96m\u001b[1mret\u001b[22m\u001b[39m\n",
      "\u001b[90m; └\u001b[39m\n",
      "                                        \u001b[90m; -- End function\u001b[39m\n",
      "\u001b[0m.subsections_via_symbols\n"
     ]
    }
   ],
   "source": [
    "@code_native 3 + 4"
   ]
  },
  {
   "cell_type": "code",
   "execution_count": 10,
   "id": "76ecd391",
   "metadata": {},
   "outputs": [
    {
     "name": "stdout",
     "output_type": "stream",
     "text": [
      "\t\u001b[0m.section\t\u001b[0m__TEXT\u001b[0m,\u001b[0m__text\u001b[0m,\u001b[0mregular\u001b[0m,\u001b[0mpure_instructions\n",
      "\t\u001b[0m.build_version \u001b[0mmacos\u001b[0m, \u001b[33m14\u001b[39m\u001b[0m, \u001b[33m0\u001b[39m\n",
      "\t\u001b[0m.globl\t\u001b[0m\"_julia_+_804\"                  \u001b[90m; -- Begin function julia_+_804\u001b[39m\n",
      "\t\u001b[0m.p2align\t\u001b[33m2\u001b[39m\n",
      "\u001b[91m\"_julia_+_804\":\u001b[39m                         \u001b[90m; @\"julia_+_804\"\u001b[39m\n",
      "\u001b[90m; ┌ @ int.jl:87 within `+`\u001b[39m\n",
      "\u001b[90m; %bb.0:                                ; %top\u001b[39m\n",
      "\t\u001b[96m\u001b[1madd\u001b[22m\u001b[39m\t\u001b[0mx0\u001b[0m, \u001b[0mx1\u001b[0m, \u001b[0mx0\n",
      "\t\u001b[96m\u001b[1mret\u001b[22m\u001b[39m\n",
      "\u001b[90m; └\u001b[39m\n",
      "                                        \u001b[90m; -- End function\u001b[39m\n",
      "\u001b[0m.subsections_via_symbols\n"
     ]
    }
   ],
   "source": [
    "@code_native 3 + 4"
   ]
  }
 ],
 "metadata": {
  "kernelspec": {
   "display_name": "Julia 1.10.2",
   "language": "julia",
   "name": "julia-1.10"
  },
  "language_info": {
   "file_extension": ".jl",
   "mimetype": "application/julia",
   "name": "julia",
   "version": "1.10.2"
  }
 },
 "nbformat": 4,
 "nbformat_minor": 5
}
