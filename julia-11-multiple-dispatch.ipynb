{
 "cells": [
  {
   "cell_type": "markdown",
   "id": "0005d92b",
   "metadata": {},
   "source": [
    "<style>\n",
    "/* Set font size for headers */\n",
    "h1, h2, h3, h4, h5, h6 {\n",
    "    font-size: 32px; /* Adjust as needed */\n",
    "}\n",
    "\n",
    "/* Set font size for paragraphs */\n",
    "p, li, ul {\n",
    "    font-size: 24px; /* Adjust as needed */\n",
    "}\n",
    "</style>\n",
    "\n",
    "\n",
    "Introduction to the Julia programming language\n",
    "\n",
    "![](images/julia-logo.svg)\n",
    "\n",
    "## 11 Multiple Dispatch"
   ]
  },
  {
   "cell_type": "markdown",
   "id": "f7189917-6950-4037-8d8e-6e9f09b1fdeb",
   "metadata": {
    "slideshow": {
     "slide_type": "slide"
    },
    "tags": []
   },
   "source": [
    "## Multiple Dispatch\n",
    "\n",
    "You may have noticed that we seem to write functions in Julia much as we do in Python: without any requirement for explicit types.\n",
    "\n",
    "We can specify types if we want to:"
   ]
  },
  {
   "cell_type": "code",
   "execution_count": 1,
   "id": "aa9d2eb3",
   "metadata": {
    "slideshow": {
     "slide_type": ""
    },
    "tags": []
   },
   "outputs": [
    {
     "data": {
      "text/plain": [
       "30"
      ]
     },
     "metadata": {},
     "output_type": "display_data"
    }
   ],
   "source": [
    "function multiply(x ::Int64, y ::Int64)\n",
    "    x*y\n",
    "end\n",
    "\n",
    "multiply(5,6)"
   ]
  },
  {
   "cell_type": "code",
   "execution_count": 2,
   "id": "fca9673d",
   "metadata": {
    "slideshow": {
     "slide_type": "slide"
    },
    "tags": [
     "raises-exception"
    ]
   },
   "outputs": [
    {
     "ename": "MethodError",
     "evalue": "MethodError: no method matching multiply(::Float64, ::Int64)\n\nClosest candidates are:\n  multiply(!Matched::Int64, ::Int64)\n   @ Main ~/uni/Vorlesungen/Julia-Course-Uni-HD/julia-11-multiple-dispatch.ipynb:1\n",
     "output_type": "error",
     "traceback": [
      "MethodError: no method matching multiply(::Float64, ::Int64)\n",
      "\n",
      "Closest candidates are:\n",
      "  multiply(!Matched::Int64, ::Int64)\n",
      "   @ Main ~/uni/Vorlesungen/Julia-Course-Uni-HD/julia-11-multiple-dispatch.ipynb:1\n",
      "\n",
      "\n",
      "Stacktrace:\n",
      " [1] top-level scope\n",
      "   @ ~/uni/Vorlesungen/Julia-Course-Uni-HD/julia-11-multiple-dispatch.ipynb:1"
     ]
    }
   ],
   "source": [
    "multiply(9.0,1)"
   ]
  },
  {
   "cell_type": "markdown",
   "id": "8cbb1bac",
   "metadata": {
    "slideshow": {
     "slide_type": ""
    },
    "tags": []
   },
   "source": [
    "As you can see, unlike some versions of Python, if we do specify types in our function declaration, Julia takes us seriously - it will not provide the function for arguments with other types.\n",
    "\n",
    "However, this also reveals a difference between how Julia and Python think about functions in the first place: Julia *always* generates different versions of a function for different types - it's just that it waits until a particular set of argument types is required before doing the work."
   ]
  },
  {
   "cell_type": "markdown",
   "id": "ecc59ac1",
   "metadata": {
    "slideshow": {
     "slide_type": "slide"
    }
   },
   "source": [
    "We can declare additional versions of multiply for different arguments explicitly:"
   ]
  },
  {
   "cell_type": "code",
   "execution_count": 3,
   "id": "f642695b",
   "metadata": {
    "slideshow": {
     "slide_type": ""
    },
    "tags": []
   },
   "outputs": [
    {
     "data": {
      "text/plain": [
       "multiply (generic function with 2 methods)"
      ]
     },
     "metadata": {},
     "output_type": "display_data"
    }
   ],
   "source": [
    "function multiply(x ::Float64, y ::Int64)\n",
    "    x*y + 1 \n",
    "end"
   ]
  },
  {
   "cell_type": "markdown",
   "id": "85e4dea7",
   "metadata": {},
   "source": [
    "and you notice that when we do so, Julia notes that multiply is now a \"generic function with 2 methods\" - those methods being \"multiply a Float64 and an Int64\" and \"multiply two Int64s\""
   ]
  },
  {
   "cell_type": "markdown",
   "id": "317ef4a3",
   "metadata": {
    "slideshow": {
     "slide_type": "slide"
    }
   },
   "source": [
    "Julia will always pick the version of our function that matches the types of its arguments - this is called **Multiple Dispatch** and is the basis for how Julia implements Object Orientation without classes. Because the \"method\" of the function used depends on the types of *all* of its arguments, Julia does not treat methods as being \"owned\" by the first argument's type - you can't type \"myobject.method()\" - instead, you simply use the function \"as is\":"
   ]
  },
  {
   "cell_type": "code",
   "execution_count": 4,
   "id": "3b772c54",
   "metadata": {},
   "outputs": [
    {
     "data": {
      "text/plain": [
       "12.0"
      ]
     },
     "metadata": {},
     "output_type": "display_data"
    }
   ],
   "source": [
    "multiply(5.5, 2) #Float64, Int64\n"
   ]
  },
  {
   "cell_type": "code",
   "execution_count": 5,
   "id": "b700daa2",
   "metadata": {},
   "outputs": [
    {
     "data": {
      "text/plain": [
       "30"
      ]
     },
     "metadata": {},
     "output_type": "display_data"
    }
   ],
   "source": [
    "multiply(6,5) #Int64, Int64"
   ]
  },
  {
   "cell_type": "markdown",
   "id": "7c953390",
   "metadata": {
    "slideshow": {
     "slide_type": "slide"
    }
   },
   "source": [
    "We can always also provide a generic version that will be used to generate versions of the function for any other combinations of types we've not thought of:"
   ]
  },
  {
   "cell_type": "code",
   "execution_count": 6,
   "id": "5be0714b",
   "metadata": {},
   "outputs": [
    {
     "data": {
      "text/plain": [
       "multiply (generic function with 3 methods)"
      ]
     },
     "metadata": {},
     "output_type": "display_data"
    }
   ],
   "source": [
    "function multiply(x,y)\n",
    "    x*y -1\n",
    "end"
   ]
  },
  {
   "cell_type": "code",
   "execution_count": 7,
   "id": "f31b563e",
   "metadata": {},
   "outputs": [
    {
     "data": {
      "text/plain": [
       "12.0"
      ]
     },
     "metadata": {},
     "output_type": "display_data"
    }
   ],
   "source": [
    "multiply(2,6.5) #Int64, Float64 - uses our generic method since we didn't explicitly cover this"
   ]
  },
  {
   "cell_type": "markdown",
   "id": "b945398b",
   "metadata": {
    "slideshow": {
     "slide_type": "slide"
    }
   },
   "source": [
    "Julia's type system is hierarchical, so we can also specify the domain of a method via higher-order types (for example, that a function works only on `Numbers` - which `Ints` and `Floats` are both members of -  via):"
   ]
  },
  {
   "cell_type": "code",
   "execution_count": 8,
   "id": "593999ed",
   "metadata": {},
   "outputs": [
    {
     "name": "stdout",
     "output_type": "stream",
     "text": [
      "4\n",
      "5.76"
     ]
    }
   ],
   "source": [
    "function myfunc(x ::Number)\n",
    "    x^2\n",
    "end\n",
    "\n",
    "print(myfunc(2))\n",
    "print(\"\\n\")\n",
    "print(myfunc(2.4))"
   ]
  },
  {
   "cell_type": "code",
   "execution_count": 9,
   "id": "2f658fa4",
   "metadata": {
    "tags": [
     "raises-exception"
    ]
   },
   "outputs": [
    {
     "ename": "MethodError",
     "evalue": "MethodError: no method matching myfunc(::String)\n\nClosest candidates are:\n  myfunc(!Matched::Number)\n   @ Main ~/uni/Vorlesungen/Julia-Course-Uni-HD/julia-11-multiple-dispatch.ipynb:1\n",
     "output_type": "error",
     "traceback": [
      "MethodError: no method matching myfunc(::String)\n",
      "\n",
      "Closest candidates are:\n",
      "  myfunc(!Matched::Number)\n",
      "   @ Main ~/uni/Vorlesungen/Julia-Course-Uni-HD/julia-11-multiple-dispatch.ipynb:1\n",
      "\n",
      "\n",
      "Stacktrace:\n",
      " [1] top-level scope\n",
      "   @ ~/uni/Vorlesungen/Julia-Course-Uni-HD/julia-11-multiple-dispatch.ipynb:1"
     ]
    }
   ],
   "source": [
    "myfunc(\"Banana\")"
   ]
  },
  {
   "cell_type": "markdown",
   "id": "cb6ccffa",
   "metadata": {
    "slideshow": {
     "slide_type": "slide"
    }
   },
   "source": [
    "A function without any type specifiers is equivalent to one where all the type specifiers are `::Any` - the \"Any\" type matches all types in the system.\n",
    "\n",
    "We can also, as in C++ etc, use parameterised types to restrict relationships between the types of arguments - for example, that all arguments must be of the same type (and in this case, that type is a kind of Number):"
   ]
  },
  {
   "cell_type": "code",
   "execution_count": 10,
   "id": "be235dfd",
   "metadata": {},
   "outputs": [
    {
     "data": {
      "text/plain": [
       "5"
      ]
     },
     "metadata": {},
     "output_type": "display_data"
    }
   ],
   "source": [
    "function myfunc2(x::T, y::T) where {T<:Number}\n",
    "    x+y\n",
    "end\n",
    "\n",
    "myfunc2(2,3)"
   ]
  },
  {
   "cell_type": "code",
   "execution_count": 11,
   "id": "e7d1f815",
   "metadata": {
    "tags": [
     "raises-exception"
    ]
   },
   "outputs": [
    {
     "ename": "MethodError",
     "evalue": "MethodError: no method matching myfunc(::Float64, ::Int64)\n\nClosest candidates are:\n  myfunc(::Number)\n   @ Main ~/uni/Vorlesungen/Julia-Course-Uni-HD/julia-11-multiple-dispatch.ipynb:1\n",
     "output_type": "error",
     "traceback": [
      "MethodError: no method matching myfunc(::Float64, ::Int64)\n",
      "\n",
      "Closest candidates are:\n",
      "  myfunc(::Number)\n",
      "   @ Main ~/uni/Vorlesungen/Julia-Course-Uni-HD/julia-11-multiple-dispatch.ipynb:1\n",
      "\n",
      "\n",
      "Stacktrace:\n",
      " [1] top-level scope\n",
      "   @ ~/uni/Vorlesungen/Julia-Course-Uni-HD/julia-11-multiple-dispatch.ipynb:1"
     ]
    }
   ],
   "source": [
    "myfunc(2.0, 3)"
   ]
  },
  {
   "cell_type": "markdown",
   "id": "113cf075",
   "metadata": {
    "slideshow": {
     "slide_type": "slide"
    }
   },
   "source": [
    "Because all Julia functions are \"open\", even those provided by other packages, we can even define additional methods for existing (built-in) functions:"
   ]
  },
  {
   "cell_type": "code",
   "execution_count": 12,
   "id": "99614a12",
   "metadata": {},
   "outputs": [
    {
     "data": {
      "text/plain": [
       "RelativisticSpeed(0.994475138121547)"
      ]
     },
     "metadata": {},
     "output_type": "display_data"
    }
   ],
   "source": [
    "struct RelativisticSpeed\n",
    "    v ::Float64\n",
    "end\n",
    "\n",
    "import Base.+   #necessary to let us modify this function\n",
    "\n",
    "function +(x::RelativisticSpeed, y::RelativisticSpeed) \n",
    "    RelativisticSpeed(   (x.v + y.v) / (1 + x.v*y.v)   ) \n",
    "end\n",
    "\n",
    "RelativisticSpeed(0.9)+RelativisticSpeed(0.9)"
   ]
  },
  {
   "cell_type": "markdown",
   "id": "0825486e",
   "metadata": {},
   "source": [
    "Whilst this risks the same issues as operator overloading in C++ - breaking natural assumptions about the behaviour of operations - it can also be very useful, especially if particular algorithms have efficient representations for a given type or types."
   ]
  }
 ],
 "metadata": {
  "kernelspec": {
   "display_name": "Julia 1.10.2",
   "language": "julia",
   "name": "julia-1.10"
  },
  "language_info": {
   "file_extension": ".jl",
   "mimetype": "application/julia",
   "name": "julia",
   "version": "1.10.2"
  }
 },
 "nbformat": 4,
 "nbformat_minor": 5
}
