{
 "cells": [
  {
   "cell_type": "markdown",
   "id": "0005d92b",
   "metadata": {},
   "source": [
    "<style>\n",
    "/* Set font size for headers */\n",
    "h1, h2, h3, h4, h5, h6 {\n",
    "    font-size: 32px; /* Adjust as needed */\n",
    "}\n",
    "\n",
    "/* Set font size for paragraphs */\n",
    "p, li, ul {\n",
    "    font-size: 24px; /* Adjust as needed */\n",
    "}\n",
    "</style>\n",
    "\n",
    "\n",
    "Introduction to the Julia programming language\n",
    "\n",
    "![](images/julia-logo.svg)\n",
    "\n",
    "## 13 Package Management"
   ]
  },
  {
   "cell_type": "markdown",
   "id": "551d5f10",
   "metadata": {
    "slideshow": {
     "slide_type": "slide"
    }
   },
   "source": [
    "## Managing Julia Packages (Pkg)\n",
    "\n",
    "Managing Julia packages is a crucial aspect of working with the Julia programming language. Packages in Julia are collections of code that extend the language's functionality beyond its core features. They can be libraries, tools, or applications developed by the community or individuals to solve specific problems or provide additional capabilities.\n",
    "\n",
    "Packages are registered in the Julia [General Registry](https://github.com/JuliaRegistries/General), and can be browsed with tools like [Julia Packages](https://juliapackages.com/)."
   ]
  },
  {
   "cell_type": "markdown",
   "id": "1e0370b9",
   "metadata": {
    "slideshow": {
     "slide_type": "slide"
    }
   },
   "source": [
    "## The Pkg \"environment\"\n",
    "\n",
    "Pkg is also one of two components of Julia which have their own sub-environments within the REPL (the other being the help functionality).\n",
    "\n",
    "Pressing `]` in a Julia REPL switches to the Pkg environment, where all commands are issued to Pkg directly.\n",
    "Hence \n",
    "\n",
    "```julia\n",
    "    using Pkg\n",
    "    Pkg.add(\"PackageName\")\n",
    "```\n",
    "\n",
    "is the same as\n",
    "\n",
    "```\n",
    "    add foo\n",
    "```\n",
    "\n",
    "within the Pkg sub environment.\n",
    "\n",
    "Pressing backspace on an empty prompt exits the environment and returns to Julia proper."
   ]
  },
  {
   "cell_type": "markdown",
   "id": "2c63baaf",
   "metadata": {
    "slideshow": {
     "slide_type": "slide"
    }
   },
   "source": [
    "## Show installed packages\n",
    "\n",
    "```\n",
    "Air-von-Klaus:notebooks reygers$ julia\n",
    "               _\n",
    "   _       _ _(_)_     |  Documentation: https://docs.julialang.org\n",
    "  (_)     | (_) (_)    |\n",
    "   _ _   _| |_  __ _   |  Type \"?\" for help, \"]?\" for Pkg help.\n",
    "  | | | | | | |/ _` |  |\n",
    "  | | |_| | | | (_| |  |  Version 1.10.2 (2024-03-01)\n",
    " _/ |\\__'_|_|_|\\__'_|  |  Official https://julialang.org/ release\n",
    "|__/                   |\n",
    "\n",
    "(@v1.10) pkg> status\n",
    "Status `~/.julia/environments/v1.10/Project.toml`\n",
    "  [336ed68f] CSV v0.10.13\n",
    "  [59287772] Formatting v0.4.3\n",
    "  [7073ff75] IJulia v1.24.2\n",
    "  [a09fc81d] ImageCore v0.10.2\n",
    "  [82e4d734] ImageIO v0.6.7\n",
    "  [d8c32880] ImageInTerminal v0.5.2\n",
    "  [4e3cecfd] ImageShow v0.3.8\n",
    "  [23fbe1c1] Latexify v0.16.2\n",
    "  [2fda8390] LsqFit v0.15.0\n",
    "  [eff96d63] Measurements v2.11.0\n",
    "  [429524aa] Optim v1.9.4\n",
    "  [91a5bcdd] Plots v1.40.3\n",
    "  [f3b207a7] StatsPlots v0.15.7\n",
    "  [0c5d862f] Symbolics v5.27.1\n",
    "  [009559a3] XGBoost v2.5.1\n",
    "```\n"
   ]
  },
  {
   "cell_type": "markdown",
   "id": "2d78385f",
   "metadata": {
    "slideshow": {
     "slide_type": "slide"
    }
   },
   "source": [
    "## Updating and removing packages\n",
    "\n",
    "Updating Packages:\n",
    "```julia\n",
    "Pkg.update()\n",
    "```\n",
    "\n",
    "Removing Packages:\n",
    "```julia\n",
    "Pkg.rm(\"PackageName\")\n",
    "```"
   ]
  },
  {
   "cell_type": "markdown",
   "id": "4f31e3ab",
   "metadata": {
    "slideshow": {
     "slide_type": "slide"
    }
   },
   "source": [
    "## Managing Environments\n",
    "\n",
    "`Pkg` allows you to work with different environments to isolate package installations. You can create a new environment using the generate command:\n",
    "```julia\n",
    "Pkg.generate(\"MyEnvironment\")\n",
    "\n",
    "Pkg.activate(\"MyEnvironment\")\n",
    "```"
   ]
  },
  {
   "cell_type": "markdown",
   "id": "2359c103",
   "metadata": {
    "slideshow": {
     "slide_type": "slide"
    }
   },
   "source": [
    "## Working with Project Files\n",
    "\n",
    "Julia supports project files (Project.toml and Manifest.toml) to manage dependencies for your projects. You can create a new project using the `generate` command:\n",
    "\n",
    "```julia\n",
    "Pkg.generate(\"MyProject\"; force = true)\n",
    "```\n",
    "This command initializes a new project in the current directory."
   ]
  },
  {
   "cell_type": "markdown",
   "id": "8c8ea935",
   "metadata": {},
   "source": []
  }
 ],
 "metadata": {
  "kernelspec": {
   "display_name": "Julia 1.10.2",
   "language": "julia",
   "name": "julia-1.10"
  },
  "language_info": {
   "file_extension": ".jl",
   "mimetype": "application/julia",
   "name": "julia",
   "version": "1.10.2"
  }
 },
 "nbformat": 4,
 "nbformat_minor": 5
}
