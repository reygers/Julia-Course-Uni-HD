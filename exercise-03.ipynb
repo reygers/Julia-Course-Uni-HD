{
 "cells": [
  {
   "cell_type": "markdown",
   "metadata": {},
   "source": [
    "## Exercises: 3. Variables and operators"
   ]
  },
  {
   "cell_type": "markdown",
   "metadata": {},
   "source": [
    "#### Problem 1\n",
    "\n",
    "Checkout the result of the following Julia expressions:\n",
    "\n",
    "    a) ```x = 0.0; y = 1.0 / x```\n",
    "\n",
    "    b) ```z = 0.0 / 0.0```\n",
    "\n",
    "    c) ```sqrt(-1)```"
   ]
  },
  {
   "cell_type": "markdown",
   "metadata": {},
   "source": [
    "#### Problem 2\n",
    "\n",
    "Figure out how one makes a deep copy the array `[1, 2]` in Julia."
   ]
  },
  {
   "cell_type": "markdown",
   "metadata": {},
   "source": [
    "#### Problem 3\n",
    "\n",
    "Check using a regular expression whether a string conforms to the dd.mm.yyyy form."
   ]
  },
  {
   "cell_type": "markdown",
   "metadata": {},
   "source": [
    "Complete the following code:\n",
    "```julia\n",
    "const regex = ...\n",
    "\n",
    "date_str = \"31.12.2022\"\n",
    "\n",
    "if ...\n",
    "    println(\"Valid date format\")\n",
    "else\n",
    "    println(\"Invalid date format\")\n",
    "end\n",
    "```\n",
    "\n",
    "\n"
   ]
  },
  {
   "cell_type": "markdown",
   "metadata": {},
   "source": [
    "#### Problem 4\n",
    "\n",
    "Provide a julia function that only accepts as input variables of the struct typd\n",
    "\n",
    "```julia\n",
    "struct Person\n",
    "    name\n",
    "    age\n",
    "end\n",
    "```\n",
    "\n",
    "and that checks whwther the age s above 12."
   ]
  },
  {
   "cell_type": "markdown",
   "metadata": {},
   "source": [
    "#### Problem 5\n",
    "\n",
    "Write a function named `avoids` that takes a word and a string of forbidden letters, and that returns true if the word doesn’t use any of the forbidden letters."
   ]
  }
 ],
 "metadata": {
  "kernelspec": {
   "display_name": "Julia 1.10.2",
   "language": "julia",
   "name": "julia-1.10"
  },
  "language_info": {
   "file_extension": ".jl",
   "mimetype": "application/julia",
   "name": "julia",
   "version": "1.10.2"
  }
 },
 "nbformat": 4,
 "nbformat_minor": 2
}
