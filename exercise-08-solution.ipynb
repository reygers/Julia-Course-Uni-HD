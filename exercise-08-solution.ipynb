{
 "cells": [
  {
   "cell_type": "markdown",
   "metadata": {},
   "source": [
    "## Exercises: 8. Control Flow"
   ]
  },
  {
   "cell_type": "markdown",
   "metadata": {},
   "source": [
    "#### Problem 1\n",
    "\n",
    "Write a Julia function named `pairwise_sum` that takes two arrays of floats as input and returns an array containing the pairwise average of corresponding elements from both arrays. Use the `zip` function to achieve this."
   ]
  },
  {
   "cell_type": "markdown",
   "metadata": {},
   "source": [
    "#### Solution"
   ]
  },
  {
   "cell_type": "code",
   "execution_count": 10,
   "metadata": {},
   "outputs": [
    {
     "name": "stdout",
     "output_type": "stream",
     "text": [
      "[3.0, 4.0, 5.0, 6.0]\n"
     ]
    }
   ],
   "source": [
    "function pairwise_sum(a::Vector{Number}, b::Vector{Number})\n",
    "    result = [(x + y)/2. for (x, y) in zip(a, b)]\n",
    "    return result\n",
    "end\n",
    "\n",
    "# Test the function\n",
    "arr1 = Float64.([1, 2, 3, 4])\n",
    "arr2 = Float64.([5, 6, 7, 8])\n",
    "println(pairwise_sum(arr1, arr2))"
   ]
  },
  {
   "cell_type": "code",
   "execution_count": null,
   "metadata": {},
   "outputs": [],
   "source": []
  }
 ],
 "metadata": {
  "kernelspec": {
   "display_name": "Julia 1.10.2",
   "language": "julia",
   "name": "julia-1.10"
  },
  "language_info": {
   "file_extension": ".jl",
   "mimetype": "application/julia",
   "name": "julia",
   "version": "1.10.2"
  }
 },
 "nbformat": 4,
 "nbformat_minor": 2
}
