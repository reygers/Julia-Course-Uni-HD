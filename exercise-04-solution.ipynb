{
 "cells": [
  {
   "cell_type": "markdown",
   "metadata": {},
   "source": [
    "## Exercises: 4. Arrays"
   ]
  },
  {
   "cell_type": "markdown",
   "metadata": {},
   "source": [
    "#### Problem 1\n",
    "\n",
    "Write a julia function called `hasduplicates` that takes an array and returns true if there is any element that appears more than once. It should not modify the original array.\n",
    "\n",
    "Hint: one can convert an array into a [set](https://docs.julialang.org/en/v1/base/collections/#Base.Set)."
   ]
  },
  {
   "cell_type": "markdown",
   "metadata": {},
   "source": [
    "#### Solution"
   ]
  },
  {
   "cell_type": "code",
   "execution_count": 1,
   "metadata": {},
   "outputs": [
    {
     "name": "stdout",
     "output_type": "stream",
     "text": [
      "false\n",
      "true\n"
     ]
    }
   ],
   "source": [
    "function hasduplicates(arr::AbstractArray)\n",
    "    unique_arr = Set(arr)  # Convert array to a set to remove duplicates\n",
    "    return length(arr) != length(unique_arr)\n",
    "end\n",
    "\n",
    "array1 = [1, 2, 3, 4, 5]\n",
    "array2 = [1, 2, 3, 4, 4]\n",
    "\n",
    "println(hasduplicates(array1))  # Output: false (no duplicates)\n",
    "println(hasduplicates(array2))  # Output: true (duplicates exist)"
   ]
  },
  {
   "cell_type": "markdown",
   "metadata": {},
   "source": [
    "#### Problem 2\n",
    "\n",
    "a) Create an array with values ranging from 10 to 49\n",
    "\n",
    "b) Return the reverse of a 1D array (first element becomes last)\n",
    "\n",
    "c) Create a 3x3 matrix with values ranging from 0 to 8\n",
    "\n",
    "d) Create a 2d array with 1 on the border and 0 inside"
   ]
  },
  {
   "cell_type": "markdown",
   "metadata": {},
   "source": [
    "#### Solution"
   ]
  },
  {
   "cell_type": "code",
   "execution_count": 5,
   "metadata": {},
   "outputs": [
    {
     "data": {
      "text/plain": [
       "40-element Vector{Int64}:\n",
       " 10\n",
       " 11\n",
       " 12\n",
       " 13\n",
       " 14\n",
       " 15\n",
       " 16\n",
       " 17\n",
       " 18\n",
       " 19\n",
       "  ⋮\n",
       " 41\n",
       " 42\n",
       " 43\n",
       " 44\n",
       " 45\n",
       " 46\n",
       " 47\n",
       " 48\n",
       " 49"
      ]
     },
     "metadata": {},
     "output_type": "display_data"
    }
   ],
   "source": [
    "a = [10:49;]"
   ]
  },
  {
   "cell_type": "code",
   "execution_count": 19,
   "metadata": {},
   "outputs": [
    {
     "data": {
      "text/plain": [
       "5-element Vector{Int64}:\n",
       " 5\n",
       " 4\n",
       " 3\n",
       " 2\n",
       " 1"
      ]
     },
     "metadata": {},
     "output_type": "display_data"
    }
   ],
   "source": [
    "a = [1:5;]\n",
    "a[end:-1:1] #faster\n",
    "# reverse(a)"
   ]
  },
  {
   "cell_type": "code",
   "execution_count": 6,
   "metadata": {},
   "outputs": [
    {
     "data": {
      "text/plain": [
       "3×3 reshape(::UnitRange{Int64}, 3, 3) with eltype Int64:\n",
       " 0  3  6\n",
       " 1  4  7\n",
       " 2  5  8"
      ]
     },
     "metadata": {},
     "output_type": "display_data"
    }
   ],
   "source": [
    "a = reshape(0:8,3,3)"
   ]
  },
  {
   "cell_type": "code",
   "execution_count": 8,
   "metadata": {},
   "outputs": [
    {
     "data": {
      "text/plain": [
       "5×5 Matrix{Float64}:\n",
       " 1.0  1.0  1.0  1.0  1.0\n",
       " 1.0  0.0  0.0  0.0  1.0\n",
       " 1.0  0.0  0.0  0.0  1.0\n",
       " 1.0  0.0  0.0  0.0  1.0\n",
       " 1.0  1.0  1.0  1.0  1.0"
      ]
     },
     "metadata": {},
     "output_type": "display_data"
    }
   ],
   "source": [
    "a = zeros(5,5)\n",
    "a[1,:] .= 1\n",
    "a[end,:] .= 1\n",
    "a[2:end-1,1] .= 1 \n",
    "a[2:end-1,end] .= 1\n",
    "a[:,1] .= 1;a[:,end] .= 1\n",
    "a"
   ]
  },
  {
   "cell_type": "markdown",
   "metadata": {},
   "source": [
    "#### Problem 3\n",
    "\n",
    "If there are 23 students in your class, what are the chances that two of you have the same birthday? You can estimate this probability by generating random samples of 23 birthdays and checking for matches.\n",
    "\n",
    "Tip:\n",
    "You can generate random birthdays with rand(1:365)."
   ]
  },
  {
   "cell_type": "markdown",
   "metadata": {},
   "source": [
    "#### Solution"
   ]
  },
  {
   "cell_type": "code",
   "execution_count": 20,
   "metadata": {},
   "outputs": [
    {
     "name": "stdout",
     "output_type": "stream",
     "text": [
      "Estimated probability of at least one pair of students having the same birthday:\n",
      "    0.50698\n"
     ]
    }
   ],
   "source": [
    "function simulate_birthday_experiment(num_simulations::Int)\n",
    "    num_matches = 0\n",
    "\n",
    "    for _ in 1:num_simulations\n",
    "        # Generate birthdays for 23 students\n",
    "        birthdays = [rand(1:365) for _ in 1:23]\n",
    "\n",
    "        # Check for duplicates in the birthdays array\n",
    "        if length(birthdays) != length(Set(birthdays))\n",
    "            num_matches += 1\n",
    "        end\n",
    "    end\n",
    "\n",
    "    return num_matches / num_simulations\n",
    "end\n",
    "\n",
    "num_simulations = 100000\n",
    "probability_of_match = simulate_birthday_experiment(num_simulations)\n",
    "\n",
    "println(\"Estimated probability of at least one pair of students having the same birthday:\")\n",
    "println(\"    \", probability_of_match)"
   ]
  },
  {
   "cell_type": "markdown",
   "metadata": {},
   "source": [
    "#### Additional material\n",
    "\n",
    "2x2 matrix vs array of arrays"
   ]
  },
  {
   "cell_type": "code",
   "execution_count": 12,
   "metadata": {},
   "outputs": [
    {
     "data": {
      "text/plain": [
       "2-element Vector{Vector{Int64}}:\n",
       " [1, 2]\n",
       " [3, 4]"
      ]
     },
     "metadata": {},
     "output_type": "display_data"
    }
   ],
   "source": [
    "A = [[1, 2], [3, 4]]"
   ]
  },
  {
   "cell_type": "code",
   "execution_count": 10,
   "metadata": {},
   "outputs": [
    {
     "data": {
      "text/plain": [
       "2"
      ]
     },
     "metadata": {},
     "output_type": "display_data"
    }
   ],
   "source": [
    "A[1][2]"
   ]
  },
  {
   "cell_type": "code",
   "execution_count": 6,
   "metadata": {},
   "outputs": [
    {
     "data": {
      "text/plain": [
       "2×2 Matrix{Int64}:\n",
       " 1  3\n",
       " 2  4"
      ]
     },
     "metadata": {},
     "output_type": "display_data"
    }
   ],
   "source": [
    "B = [[1, 2] [3, 4]]"
   ]
  },
  {
   "cell_type": "code",
   "execution_count": 7,
   "metadata": {},
   "outputs": [
    {
     "data": {
      "text/plain": [
       "3"
      ]
     },
     "metadata": {},
     "output_type": "display_data"
    }
   ],
   "source": [
    "B[1, 2]"
   ]
  },
  {
   "cell_type": "code",
   "execution_count": 11,
   "metadata": {},
   "outputs": [
    {
     "ename": "BoundsError",
     "evalue": "BoundsError: attempt to access Int64 at index [2]",
     "output_type": "error",
     "traceback": [
      "BoundsError: attempt to access Int64 at index [2]\n",
      "\n",
      "Stacktrace:\n",
      " [1] getindex(x::Int64, i::Int64)\n",
      "   @ Base ./number.jl:98\n",
      " [2] top-level scope\n",
      "   @ ~/uni/Vorlesungen/Julia-Course-Uni-HD/exercise-04-solution.ipynb:1"
     ]
    }
   ],
   "source": [
    "B[1][2]"
   ]
  },
  {
   "cell_type": "code",
   "execution_count": null,
   "metadata": {},
   "outputs": [],
   "source": []
  }
 ],
 "metadata": {
  "kernelspec": {
   "display_name": "Julia 1.10.2",
   "language": "julia",
   "name": "julia-1.10"
  },
  "language_info": {
   "file_extension": ".jl",
   "mimetype": "application/julia",
   "name": "julia",
   "version": "1.10.2"
  }
 },
 "nbformat": 4,
 "nbformat_minor": 2
}
