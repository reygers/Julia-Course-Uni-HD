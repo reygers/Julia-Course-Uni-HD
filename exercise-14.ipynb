{
 "cells": [
  {
   "cell_type": "markdown",
   "metadata": {},
   "source": [
    "## Exercises: 13. Data Frames"
   ]
  },
  {
   "cell_type": "markdown",
   "metadata": {},
   "source": [
    "#### Problem 1\n",
    "\n",
    "Use the [DataFrame](https://dataframes.juliadata.org/stable/) below and apply the following operations:"
   ]
  },
  {
   "cell_type": "code",
   "execution_count": null,
   "metadata": {},
   "outputs": [],
   "source": [
    "using DataFrames, Statistics\n",
    "\n",
    "data = Dict(\"Name\" => [\"Alice\", \"Bob\", \"Charlie\", \"David\", \"Emma\", \"Fiona\"], \n",
    "            \"Age\" => [20, 30, 25, 19, 30, 28],\n",
    "            \"Height\" => [175, 188, 182, 192, 172, 168],\n",
    "            \"Weight\" => [72, 80, 85, 79, 65, 62], \n",
    "            \"City\" => [\"New York\", \"London\", \"Paris\", \"New York\", \"Madrid\", \"Paris\"])\n",
    "df = DataFrame(data)"
   ]
  },
  {
   "cell_type": "markdown",
   "metadata": {},
   "source": [
    "a) Access row 2, column \"Age\""
   ]
  },
  {
   "cell_type": "code",
   "execution_count": null,
   "metadata": {},
   "outputs": [],
   "source": [
    "# your code here"
   ]
  },
  {
   "cell_type": "markdown",
   "metadata": {},
   "source": [
    "b) Extract the column \"City\" as a 6-element Vector and as a 6x1 DataFrame"
   ]
  },
  {
   "cell_type": "code",
   "execution_count": null,
   "metadata": {},
   "outputs": [],
   "source": []
  },
  {
   "cell_type": "markdown",
   "metadata": {},
   "source": [
    "c) Return a copy of data frame using [`subset`](https://dataframes.juliadata.org/stable/lib/functions/#DataFrames.subset) under the condition that the age of the person is greater than 20."
   ]
  },
  {
   "cell_type": "code",
   "execution_count": null,
   "metadata": {},
   "outputs": [],
   "source": []
  },
  {
   "cell_type": "markdown",
   "metadata": {},
   "source": [
    "d) Calculate the average height of all persons. \n",
    "\n",
    "Hint: The functions `mean` is available in the `Statistics` package."
   ]
  },
  {
   "cell_type": "code",
   "execution_count": null,
   "metadata": {},
   "outputs": [],
   "source": []
  },
  {
   "cell_type": "markdown",
   "metadata": {},
   "source": [
    "e) Calculate the average age of the people in the different cities.\n",
    "\n",
    "Hint: Use [`groupby`](https://dataframes.juliadata.org/stable/lib/functions/#DataFrames.groupby) and [`combine`](https://dataframes.juliadata.org/stable/lib/functions/#DataFrames.combine). Check out the [Grouping data and aggregation]((https://dataframes.juliadata.org/stable/man/comparisons/#Grouping-data-and-aggregation)) section of the DataFrames.jl webpage."
   ]
  },
  {
   "cell_type": "code",
   "execution_count": null,
   "metadata": {},
   "outputs": [],
   "source": []
  },
  {
   "cell_type": "markdown",
   "metadata": {},
   "source": [
    "f) Add a new column with the [body mass index](https://en.wikipedia.org/wiki/Body_mass_index) of each person."
   ]
  },
  {
   "cell_type": "code",
   "execution_count": null,
   "metadata": {},
   "outputs": [],
   "source": []
  },
  {
   "cell_type": "markdown",
   "metadata": {},
   "source": [
    "g) Modify the dataframe so that all city names are given in uppercase letters."
   ]
  },
  {
   "cell_type": "code",
   "execution_count": null,
   "metadata": {},
   "outputs": [],
   "source": []
  },
  {
   "cell_type": "markdown",
   "metadata": {},
   "source": [
    "h) Sort the data according to the BMI value"
   ]
  },
  {
   "cell_type": "code",
   "execution_count": null,
   "metadata": {},
   "outputs": [],
   "source": []
  },
  {
   "cell_type": "markdown",
   "metadata": {},
   "source": [
    "i) Create a new dataframe `df_new` where the Age, Weight, and BMI columns are removed."
   ]
  },
  {
   "cell_type": "code",
   "execution_count": null,
   "metadata": {},
   "outputs": [],
   "source": []
  },
  {
   "cell_type": "markdown",
   "metadata": {},
   "source": [
    "#### Problem 2"
   ]
  },
  {
   "cell_type": "markdown",
   "metadata": {},
   "source": [
    "Books are identified by an ID in a library. We have a data frame with book titles and a data frame with book prices. \n"
   ]
  },
  {
   "cell_type": "code",
   "execution_count": null,
   "metadata": {},
   "outputs": [],
   "source": [
    "using DataFrames\n",
    "\n",
    "# Create two example DataFrames\n",
    "df1 = DataFrame(Book_ID = [1, 2, 3, 4],\n",
    "                Title = [\"The Great Gatsby\", \"To Kill a Mockingbird\", \"1984\", \"The Catcher in the Rye\"])\n",
    "\n",
    "df2 = DataFrame(Book_ID = [2, 3, 5, 6],\n",
    "                Price = [15.99, 12.50, 10.75, 20.00])\n"
   ]
  },
  {
   "cell_type": "markdown",
   "metadata": {},
   "source": [
    "a) Create a new table with the columns *Title* and *Price* which contains those books where both the title and the price are known. \n",
    "\n",
    "Hint: check out the [Introduction to joins](https://dataframes.juliadata.org/stable/man/joins/)"
   ]
  },
  {
   "cell_type": "code",
   "execution_count": null,
   "metadata": {},
   "outputs": [],
   "source": [
    "# your code here"
   ]
  },
  {
   "cell_type": "markdown",
   "metadata": {},
   "source": [
    "b) Create a new table with the columns *Title* and *Price* for all books. If the *Title* or *Price* is not known the table should have the entry *missing*."
   ]
  },
  {
   "cell_type": "code",
   "execution_count": 2,
   "metadata": {},
   "outputs": [],
   "source": []
  }
 ],
 "metadata": {
  "kernelspec": {
   "display_name": "Julia 1.10.2",
   "language": "julia",
   "name": "julia-1.10"
  },
  "language_info": {
   "file_extension": ".jl",
   "mimetype": "application/julia",
   "name": "julia",
   "version": "1.10.2"
  }
 },
 "nbformat": 4,
 "nbformat_minor": 2
}
