{
 "cells": [
  {
   "cell_type": "markdown",
   "metadata": {},
   "source": [
    "## Exercises: 4. Arrays"
   ]
  },
  {
   "cell_type": "markdown",
   "metadata": {},
   "source": [
    "#### Problem 1\n",
    "\n",
    "Write a julia function called `hasduplicates` that takes an array and returns true if there is any element that appears more than once. It should not modify the original array.\n",
    "\n",
    "Hint: one can onver an array into a [set](https://docs.julialang.org/en/v1/base/collections/#Base.Set)."
   ]
  },
  {
   "cell_type": "markdown",
   "metadata": {},
   "source": [
    "#### Problem 2\n",
    "\n",
    "a) Create an array with values ranging from 10 to 49\n",
    "\n",
    "b) Return the reverse of a 1D array (first element becomes last)\n",
    "\n",
    "c) Create a 3x3 matrix with values ranging from 0 to 8\n",
    "\n",
    "d) Create a 2d array with 1 on the border and 0 inside"
   ]
  },
  {
   "cell_type": "markdown",
   "metadata": {},
   "source": [
    "#### Problem 3\n",
    "\n",
    "If there are 23 students in your class, what are the chances that two of you have the same birthday? You can estimate this probability by generating random samples of 23 birthdays and checking for matches.\n",
    "\n",
    "Tip:\n",
    "You can generate random birthdays with rand(1:365)."
   ]
  }
 ],
 "metadata": {
  "kernelspec": {
   "display_name": "Julia 1.10.2",
   "language": "julia",
   "name": "julia-1.10"
  },
  "language_info": {
   "file_extension": ".jl",
   "mimetype": "application/julia",
   "name": "julia",
   "version": "1.10.2"
  }
 },
 "nbformat": 4,
 "nbformat_minor": 2
}
