{
 "cells": [
  {
   "cell_type": "markdown",
   "metadata": {},
   "source": [
    "## Exercises: 6. Tuples"
   ]
  },
  {
   "cell_type": "markdown",
   "metadata": {},
   "source": [
    "#### Problem 1\n",
    "\n",
    "Suppose a 2D point is represented as a tuple `(x, y)` consisting of the $x$ and the $y$ coordinate of the point. Write a function `calculate_distance` that takes two points as input and calculates their distance.\n"
   ]
  },
  {
   "cell_type": "code",
   "execution_count": 1,
   "metadata": {},
   "outputs": [
    {
     "name": "stdout",
     "output_type": "stream",
     "text": [
      "Distance between (3.0, 4.0) and (0.0, 0.0): 5.0\n"
     ]
    }
   ],
   "source": [
    "function calculate_distance(point1::Tuple{Float64, Float64}, point2::Tuple{Float64, Float64})\n",
    "    x1, y1 = point1\n",
    "    x2, y2 = point2\n",
    "    \n",
    "    # Calculate the Euclidean distance\n",
    "    distance = sqrt((x2 - x1)^2 + (y2 - y1)^2)\n",
    "    \n",
    "    return distance\n",
    "end\n",
    "\n",
    "# Test the function\n",
    "point1 = (3.0, 4.0)\n",
    "point2 = (0.0, 0.0)\n",
    "distance = calculate_distance(point1, point2)\n",
    "println(\"Distance between $point1 and $point2: $distance\")"
   ]
  }
 ],
 "metadata": {
  "kernelspec": {
   "display_name": "Julia 1.10.2",
   "language": "julia",
   "name": "julia-1.10"
  },
  "language_info": {
   "file_extension": ".jl",
   "mimetype": "application/julia",
   "name": "julia",
   "version": "1.10.2"
  }
 },
 "nbformat": 4,
 "nbformat_minor": 2
}
