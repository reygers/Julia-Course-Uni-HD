{
 "cells": [
  {
   "cell_type": "markdown",
   "id": "0005d92b",
   "metadata": {},
   "source": [
    "<style>\n",
    "/* Set font size for headers */\n",
    "h1, h2, h3, h4, h5, h6 {\n",
    "    font-size: 32px; /* Adjust as needed */\n",
    "}\n",
    "\n",
    "/* Set font size for paragraphs */\n",
    "p, li, ul {\n",
    "    font-size: 24px; /* Adjust as needed */\n",
    "}\n",
    "</style>\n",
    "\n",
    "\n",
    "Introduction to the Julia programming language\n",
    "\n",
    "![](images/julia-logo.svg)\n",
    "\n",
    "## 20 Symbolic Math"
   ]
  },
  {
   "cell_type": "markdown",
   "id": "1bc62718",
   "metadata": {
    "slideshow": {
     "slide_type": "slide"
    }
   },
   "source": [
    "## Symbolic math in Julia\n",
    "\n",
    "Julia offers several packages for symbolic computer algebra, providing functionalities for symbolic manipulation, differentiation, integration, equation solving, and more. Here we focus on [Symbolics.jl](https://symbolics.juliasymbolics.org/stable/) and [SymPy.jl](https://juliapackages.com/p/sympy).\n",
    "\n",
    "[Symbolics.jl](https://symbolics.juliasymbolics.org/stable/) is a fast and modern Computer Algebra System (CAS) for a fast and modern programming language (Julia). The goal is to have a high-performance and parallelized symbolic algebra system that is directly extendable in the same language as that of the users.\n",
    "\n",
    "[SymPy.jl](https://juliapackages.com/p/sympy) provides a Julia interface to the SymPy library in Python, which is a well-established symbolic mathematics library. It allows you to perform various symbolic operations including symbolic manipulation, solving equations, calculus, and more."
   ]
  },
  {
   "cell_type": "markdown",
   "id": "8dc708f1",
   "metadata": {
    "slideshow": {
     "slide_type": "slide"
    }
   },
   "source": [
    "## Derivatives"
   ]
  },
  {
   "cell_type": "code",
   "execution_count": 2,
   "id": "7f0763c7",
   "metadata": {},
   "outputs": [],
   "source": [
    "using Symbolics"
   ]
  },
  {
   "cell_type": "code",
   "execution_count": 3,
   "id": "a94f3e77",
   "metadata": {},
   "outputs": [
    {
     "data": {
      "text/latex": [
       "$$ \\begin{equation}\n",
       "\\frac{\\mathrm{d}}{\\mathrm{d}t} \\left( t + t^{2} \\right)\n",
       "\\end{equation}\n",
       " $$"
      ],
      "text/plain": [
       "Differential(t)(t + t^2)"
      ]
     },
     "metadata": {},
     "output_type": "display_data"
    }
   ],
   "source": [
    "@variables t\n",
    "D = Differential(t)\n",
    "\n",
    "z = t + t^2\n",
    "D(z)"
   ]
  },
  {
   "cell_type": "markdown",
   "id": "099ee263",
   "metadata": {
    "slideshow": {
     "slide_type": "slide"
    }
   },
   "source": [
    "D is a lazy operator because it lets us symbolically represent \"The derivative with respect to $t$\". If we want to expand the derivative operators, we'd use expand_derivatives:"
   ]
  },
  {
   "cell_type": "code",
   "execution_count": 4,
   "id": "a0e1b763",
   "metadata": {},
   "outputs": [
    {
     "data": {
      "text/latex": [
       "$$ \\begin{equation}\n",
       "1 + 2 t\n",
       "\\end{equation}\n",
       " $$"
      ],
      "text/plain": [
       "1 + 2t"
      ]
     },
     "metadata": {},
     "output_type": "display_data"
    }
   ],
   "source": [
    "expand_derivatives(D(z))"
   ]
  },
  {
   "cell_type": "markdown",
   "id": "5fe28bd0",
   "metadata": {},
   "source": [
    "The variable, that you are taking the derivative with respect to, is accessed with:"
   ]
  },
  {
   "cell_type": "code",
   "execution_count": 5,
   "id": "f698105f",
   "metadata": {},
   "outputs": [
    {
     "data": {
      "text/latex": [
       "$$ \\begin{equation}\n",
       "t\n",
       "\\end{equation}\n",
       " $$"
      ],
      "text/plain": [
       "t"
      ]
     },
     "metadata": {},
     "output_type": "display_data"
    }
   ],
   "source": [
    "D.x"
   ]
  },
  {
   "cell_type": "markdown",
   "id": "75c4e7a9",
   "metadata": {
    "slideshow": {
     "slide_type": "slide"
    }
   },
   "source": [
    "## Simplification and Substitution"
   ]
  },
  {
   "cell_type": "code",
   "execution_count": 6,
   "id": "a6dbf16c",
   "metadata": {},
   "outputs": [
    {
     "data": {
      "text/latex": [
       "$$ \\begin{equation}\n",
       "2 \\left( x + y \\right)\n",
       "\\end{equation}\n",
       " $$"
      ],
      "text/plain": [
       "2(x + y)"
      ]
     },
     "metadata": {},
     "output_type": "display_data"
    }
   ],
   "source": [
    "@variables x y\n",
    "simplify(2x + 2y)"
   ]
  },
  {
   "cell_type": "code",
   "execution_count": 7,
   "id": "5ae67c56",
   "metadata": {},
   "outputs": [
    {
     "data": {
      "text/latex": [
       "$$ \\begin{equation}\n",
       "1\n",
       "\\end{equation}\n",
       " $$"
      ],
      "text/plain": [
       "1"
      ]
     },
     "metadata": {},
     "output_type": "display_data"
    }
   ],
   "source": [
    "simplify(sin(x)^2+cos(x)^2)"
   ]
  },
  {
   "cell_type": "code",
   "execution_count": 8,
   "id": "2bc8a29c",
   "metadata": {},
   "outputs": [
    {
     "data": {
      "text/latex": [
       "$$ \\begin{equation}\n",
       "1\n",
       "\\end{equation}\n",
       " $$"
      ],
      "text/plain": [
       "1"
      ]
     },
     "metadata": {},
     "output_type": "display_data"
    }
   ],
   "source": [
    "simplify(cosh(x)^2-sinh(x)^2)"
   ]
  },
  {
   "cell_type": "markdown",
   "id": "86c43828",
   "metadata": {
    "slideshow": {
     "slide_type": "slide"
    }
   },
   "source": [
    "This can be applied to arrays by using Julia's broadcast mechanism:"
   ]
  },
  {
   "cell_type": "code",
   "execution_count": 9,
   "id": "faee57e0",
   "metadata": {},
   "outputs": [
    {
     "data": {
      "text/latex": [
       "$$ \\begin{equation}\n",
       "\\left[\n",
       "\\begin{array}{cc}\n",
       "2 \\left( t + t^{2} \\right) & 6 t \\\\\n",
       "2 \\left( t + y \\right) + x & y^{2} \\\\\n",
       "\\end{array}\n",
       "\\right]\n",
       "\\end{equation}\n",
       " $$"
      ],
      "text/plain": [
       "2×2 Matrix{Num}:\n",
       "   2(t + t^2)   6t\n",
       " 2(t + y) + x  y^2"
      ]
     },
     "metadata": {},
     "output_type": "display_data"
    }
   ],
   "source": [
    "B = simplify.([t + t^2 + t + t^2  2t + 4t\n",
    "               x + y + y + 2t     x^2 - x^2 + y^2])"
   ]
  },
  {
   "cell_type": "markdown",
   "id": "4744504c",
   "metadata": {},
   "source": [
    "We can then use substitute to change values of an expression around:"
   ]
  },
  {
   "cell_type": "code",
   "execution_count": 10,
   "id": "d1f78b33",
   "metadata": {},
   "outputs": [
    {
     "data": {
      "text/latex": [
       "$$ \\begin{equation}\n",
       "\\left[\n",
       "\\begin{array}{cc}\n",
       "2 \\left( t + t^{2} \\right) & 6 t \\\\\n",
       "2 \\left( t + y \\right) + y^{2} & y^{2} \\\\\n",
       "\\end{array}\n",
       "\\right]\n",
       "\\end{equation}\n",
       " $$"
      ],
      "text/plain": [
       "2×2 Matrix{Num}:\n",
       "     2(t + t^2)   6t\n",
       " 2(t + y) + y^2  y^2"
      ]
     },
     "metadata": {},
     "output_type": "display_data"
    }
   ],
   "source": [
    "simplify.(substitute.(B, (Dict(x => y^2),)))"
   ]
  },
  {
   "cell_type": "markdown",
   "id": "55f818dd",
   "metadata": {
    "slideshow": {
     "slide_type": "slide"
    }
   },
   "source": [
    "## Example: Error propagation with Symbolics.jl"
   ]
  },
  {
   "cell_type": "code",
   "execution_count": 11,
   "id": "0415073b",
   "metadata": {},
   "outputs": [
    {
     "data": {
      "text/plain": [
       "err_prop (generic function with 1 method)"
      ]
     },
     "metadata": {},
     "output_type": "display_data"
    }
   ],
   "source": [
    "function err_prop(f, vars)\n",
    "    @variables sum\n",
    "    sum = 0\n",
    "    for (x, sigma) in vars\n",
    "        D = Differential(x)\n",
    "        sum += expand_derivatives(D(f))^2 * sigma^2 \n",
    "    end\n",
    "    return sqrt(simplify(sum))\n",
    "end"
   ]
  },
  {
   "cell_type": "markdown",
   "id": "358e1672",
   "metadata": {},
   "source": [
    "Take the volume of a cylinder as an example:"
   ]
  },
  {
   "cell_type": "code",
   "execution_count": 12,
   "id": "cc4353a1",
   "metadata": {},
   "outputs": [
    {
     "data": {
      "text/latex": [
       "$$ \\begin{equation}\n",
       "\\sqrt{39.478 \\sigma_{r}^{2} r^{2} h^{2} + 9.8696 \\sigma_{h}^{2} r^{4}}\n",
       "\\end{equation}\n",
       " $$"
      ],
      "text/plain": [
       "sqrt(39.47841760435743(h^2)*(r^2)*(σ_r^2) + 9.869604401089358(r^4)*(σ_h^2))"
      ]
     },
     "metadata": {},
     "output_type": "display_data"
    }
   ],
   "source": [
    "@variables r, h, σ_r, σ_h\n",
    "V = pi * r^2 * h\n",
    "σ_V = err_prop(V, [(r, σ_r), (h, σ_h)])"
   ]
  },
  {
   "cell_type": "markdown",
   "id": "578a8d06",
   "metadata": {
    "slideshow": {
     "slide_type": "slide"
    }
   },
   "source": [
    "Plug in numerical values:"
   ]
  },
  {
   "cell_type": "code",
   "execution_count": 13,
   "id": "406a71da",
   "metadata": {},
   "outputs": [
    {
     "name": "stdout",
     "output_type": "stream",
     "text": [
      "V = (141.37 ± 9.84) cm^3"
     ]
    }
   ],
   "source": [
    "using Formatting\n",
    "\n",
    "r_meas = 3 # cm\n",
    "σ_r_meas = 0.1 # cm\n",
    "h_meas = 5 # cm\n",
    "σ_h_meas = 0.1; # cm\n",
    "\n",
    "V_num = substitute(V, Dict(r => r_meas, h => h_meas))\n",
    "σ_V_num = substitute(σ_V, (Dict(r => r_meas, σ_r => σ_r_meas, \n",
    "                     h => h_meas, σ_h => σ_h_meas)))\n",
    "\n",
    "printfmt(\"V = ({:.2f} ± {:.2f}) cm^3\", Symbolics.value(V_num), Symbolics.value(σ_V_num))"
   ]
  },
  {
   "cell_type": "markdown",
   "id": "c5b1e352",
   "metadata": {
    "slideshow": {
     "slide_type": "slide"
    }
   },
   "source": [
    "## Error propgation with Measurements.jl\n",
    "\n",
    "For the particular problem of error propgation, there are also other tools, e.g., Measurements.jl\n",
    "\n",
    "See [arXiv:1610.08716](https://arxiv.org/abs/1610.08716)"
   ]
  },
  {
   "cell_type": "code",
   "execution_count": 14,
   "id": "9ad2192b",
   "metadata": {},
   "outputs": [
    {
     "data": {
      "text/latex": [
       "$141.4 \\pm 9.8$"
      ],
      "text/plain": [
       "141.4 ± 9.8"
      ]
     },
     "metadata": {},
     "output_type": "display_data"
    }
   ],
   "source": [
    "using Measurements\n",
    "\n",
    "r = measurement(3, 0.1)\n",
    "h = measurement(5, 0.1)\n",
    "V = pi * r^2 * h"
   ]
  },
  {
   "cell_type": "markdown",
   "id": "9256a3ac",
   "metadata": {
    "slideshow": {
     "slide_type": "slide"
    }
   },
   "source": [
    "## SymPy"
   ]
  },
  {
   "cell_type": "code",
   "execution_count": 15,
   "id": "ebfbc489",
   "metadata": {},
   "outputs": [
    {
     "name": "stderr",
     "output_type": "stream",
     "text": [
      "WARNING: using SymPy.simplify in module Main conflicts with an existing identifier.\n",
      "WARNING: using SymPy.Differential in module Main conflicts with an existing identifier.\n"
     ]
    },
    {
     "data": {
      "text/plain": [
       "SymbolicUtils"
      ]
     },
     "metadata": {},
     "output_type": "display_data"
    }
   ],
   "source": [
    "using SymPy\n",
    "@which simplify"
   ]
  },
  {
   "cell_type": "code",
   "execution_count": 16,
   "id": "e56867b0",
   "metadata": {
    "slideshow": {
     "slide_type": "slide"
    }
   },
   "outputs": [
    {
     "data": {
      "text/latex": [
       "$\\sqrt{2}$"
      ],
      "text/plain": [
       "√2"
      ]
     },
     "metadata": {},
     "output_type": "display_data"
    }
   ],
   "source": [
    "sympy.sqrt(2)"
   ]
  },
  {
   "cell_type": "code",
   "execution_count": 17,
   "id": "f79586f4",
   "metadata": {},
   "outputs": [
    {
     "data": {
      "text/latex": [
       "$1.4142135623730950488016887242096980785696718753769$"
      ],
      "text/plain": [
       "1.4142135623730950488016887242096980785696718753769"
      ]
     },
     "metadata": {},
     "output_type": "display_data"
    }
   ],
   "source": [
    "sympy.sqrt(2).evalf(50)"
   ]
  },
  {
   "cell_type": "code",
   "execution_count": 18,
   "id": "b5134920",
   "metadata": {},
   "outputs": [
    {
     "data": {
      "text/latex": [
       "$x + 0.5$"
      ],
      "text/plain": [
       "x + 0.5"
      ]
     },
     "metadata": {},
     "output_type": "display_data"
    }
   ],
   "source": [
    "x, y = sympy.symbols(\"x y\")\n",
    "x + 1/2"
   ]
  },
  {
   "cell_type": "code",
   "execution_count": 19,
   "id": "09b4f909",
   "metadata": {},
   "outputs": [
    {
     "data": {
      "text/latex": [
       "$x + \\frac{1}{2}$"
      ],
      "text/plain": [
       "x + 1/2"
      ]
     },
     "metadata": {},
     "output_type": "display_data"
    }
   ],
   "source": [
    "x + sympy.S(1)/2"
   ]
  },
  {
   "cell_type": "markdown",
   "id": "820de050",
   "metadata": {
    "slideshow": {
     "slide_type": "slide"
    }
   },
   "source": [
    "## Expression manipulation"
   ]
  },
  {
   "cell_type": "code",
   "execution_count": 20,
   "id": "a3636e08",
   "metadata": {},
   "outputs": [
    {
     "data": {
      "text/latex": [
       "$- \\sinh^{2}{\\left(x \\right)} + \\cosh^{2}{\\left(x \\right)}$"
      ],
      "text/plain": [
       "      2          2   \n",
       "- sinh (x) + cosh (x)"
      ]
     },
     "metadata": {},
     "output_type": "display_data"
    }
   ],
   "source": [
    "expr = sympy.cosh(x)^2 - sympy.sinh(x)^2"
   ]
  },
  {
   "cell_type": "code",
   "execution_count": 21,
   "id": "20fdfc3a",
   "metadata": {},
   "outputs": [
    {
     "data": {
      "text/latex": [
       "$1$"
      ],
      "text/plain": [
       "1"
      ]
     },
     "metadata": {},
     "output_type": "display_data"
    }
   ],
   "source": [
    "sympy.simplify(expr)"
   ]
  },
  {
   "cell_type": "code",
   "execution_count": 22,
   "id": "79b38a83",
   "metadata": {},
   "outputs": [
    {
     "data": {
      "text/latex": [
       "$\\sin{\\left(2 x \\right)}$"
      ],
      "text/plain": [
       "sin(2⋅x)"
      ]
     },
     "metadata": {},
     "output_type": "display_data"
    }
   ],
   "source": [
    "sympy.trigsimp(2 * sin(x) * cos(x))"
   ]
  },
  {
   "cell_type": "code",
   "execution_count": 23,
   "id": "fcdaedd3",
   "metadata": {},
   "outputs": [
    {
     "data": {
      "text/latex": [
       "$\\left(x + 1\\right)^{2}$"
      ],
      "text/plain": [
       "       2\n",
       "(x + 1) "
      ]
     },
     "metadata": {},
     "output_type": "display_data"
    }
   ],
   "source": [
    "sympy.factor(x^2 +2x +1)"
   ]
  },
  {
   "cell_type": "markdown",
   "id": "1a443dae",
   "metadata": {
    "slideshow": {
     "slide_type": "slide"
    }
   },
   "source": [
    "## Differentiation"
   ]
  },
  {
   "cell_type": "code",
   "execution_count": 24,
   "id": "393a1203",
   "metadata": {},
   "outputs": [
    {
     "data": {
      "text/latex": [
       "$e^{x} \\sin{\\left(x \\right)} + e^{x} \\cos{\\left(x \\right)}$"
      ],
      "text/plain": [
       " x           x       \n",
       "ℯ ⋅sin(x) + ℯ ⋅cos(x)"
      ]
     },
     "metadata": {},
     "output_type": "display_data"
    }
   ],
   "source": [
    "sympy.diff(sin(x)*exp(x), x)"
   ]
  },
  {
   "cell_type": "markdown",
   "id": "84945df9",
   "metadata": {
    "slideshow": {
     "slide_type": "slide"
    }
   },
   "source": [
    "## Symbolic integration"
   ]
  },
  {
   "cell_type": "code",
   "execution_count": 25,
   "id": "380118f2",
   "metadata": {},
   "outputs": [
    {
     "data": {
      "text/latex": [
       "$e^{x} \\sin{\\left(x \\right)}$"
      ],
      "text/plain": [
       " x       \n",
       "ℯ ⋅sin(x)"
      ]
     },
     "metadata": {},
     "output_type": "display_data"
    }
   ],
   "source": [
    "sympy.integrate(exp(x)*sin(x) + exp(x)*cos(x), x)"
   ]
  },
  {
   "cell_type": "code",
   "execution_count": 26,
   "id": "5b59fecd",
   "metadata": {},
   "outputs": [
    {
     "data": {
      "text/latex": [
       "$\\frac{\\pi}{2}$"
      ],
      "text/plain": [
       "π\n",
       "─\n",
       "2"
      ]
     },
     "metadata": {},
     "output_type": "display_data"
    }
   ],
   "source": [
    "sympy.integrate(cos(x)^2, (x, 0, pi))"
   ]
  },
  {
   "cell_type": "markdown",
   "id": "9bc71b43",
   "metadata": {
    "slideshow": {
     "slide_type": "slide"
    }
   },
   "source": [
    "## Solving equations"
   ]
  },
  {
   "cell_type": "code",
   "execution_count": 27,
   "id": "f518f446",
   "metadata": {},
   "outputs": [
    {
     "data": {
      "text/plain": [
       "2-element Vector{Sym{PyCall.PyObject}}:\n",
       " 3\n",
       " 5"
      ]
     },
     "metadata": {},
     "output_type": "display_data"
    }
   ],
   "source": [
    "sympy.solve(x^2 - 8x + 15, x)"
   ]
  },
  {
   "cell_type": "code",
   "execution_count": 36,
   "id": "46a0bf95",
   "metadata": {},
   "outputs": [
    {
     "data": {
      "text/plain": [
       "2-element Vector{Tuple{Sym{PyCall.PyObject}, Sym{PyCall.PyObject}}}:\n",
       " (4, 1)\n",
       " (1, 4)"
      ]
     },
     "metadata": {},
     "output_type": "display_data"
    }
   ],
   "source": [
    "eq1 = sympy.Eq(x + y, 5)\n",
    "eq2 = sympy.Eq(x^2 + y^2, 17)\n",
    "sympy.solve((eq1, eq2), (x, y))"
   ]
  },
  {
   "cell_type": "markdown",
   "id": "550a4187",
   "metadata": {
    "slideshow": {
     "slide_type": "slide"
    }
   },
   "source": [
    "## Substitution"
   ]
  },
  {
   "cell_type": "code",
   "execution_count": 29,
   "id": "834ceee6",
   "metadata": {},
   "outputs": [
    {
     "data": {
      "text/latex": [
       "$y^{2} + 4$"
      ],
      "text/plain": [
       " 2    \n",
       "y  + 4"
      ]
     },
     "metadata": {},
     "output_type": "display_data"
    }
   ],
   "source": [
    "expr = x^2 + y^2\n",
    "expr.subs(x, 2)"
   ]
  },
  {
   "cell_type": "code",
   "execution_count": 30,
   "id": "6307434b",
   "metadata": {},
   "outputs": [
    {
     "data": {
      "text/latex": [
       "$25$"
      ],
      "text/plain": [
       "25"
      ]
     },
     "metadata": {},
     "output_type": "display_data"
    }
   ],
   "source": [
    "expr.subs([(x,3), (y,4)])"
   ]
  },
  {
   "cell_type": "markdown",
   "id": "1dbf6228",
   "metadata": {
    "slideshow": {
     "slide_type": "slide"
    }
   },
   "source": [
    "## Variable transformation"
   ]
  },
  {
   "cell_type": "code",
   "execution_count": 33,
   "id": "a5bb5a07",
   "metadata": {},
   "outputs": [
    {
     "data": {
      "text/latex": [
       "\\begin{equation}\n",
       "\\left[\n",
       "\\begin{array}{ccc}\n",
       "\\sin\\left( \\phi \\right) \\cdot \\cos\\left( \\theta \\right) & r \\cdot \\cos\\left( \\phi \\right) \\cdot \\cos\\left( \\theta \\right) & \\left(  - r \\right) \\cdot \\sin\\left( \\phi \\right) \\cdot \\sin\\left( \\theta \\right) \\\\\n",
       "\\sin\\left( \\phi \\right) \\cdot \\sin\\left( \\theta \\right) & r \\cdot \\sin\\left( \\theta \\right) \\cdot \\cos\\left( \\phi \\right) & r \\cdot \\sin\\left( \\phi \\right) \\cdot \\cos\\left( \\theta \\right) \\\\\n",
       "\\cos\\left( \\phi \\right) & \\left(  - r \\right) \\cdot \\sin\\left( \\phi \\right) & 0 \\\\\n",
       "\\end{array}\n",
       "\\right]\n",
       "\\end{equation}\n"
      ],
      "text/plain": [
       "\"\\\\begin{equation}\\n\\\\left[\\n\\\\begin{array}{ccc}\\n\\\\sin\\\\left( \\\\phi \\\\right) \\\\cdot \\\\cos\\\\left( \\\\theta \\\\right) & r \\\\cdot \\\\cos\\\\left( \\\\phi \\\\right) \\\\cdot \\\\cos\\\\left( \\\\theta \\\\right) & \\\\left(  - r \\\\right) \\\\cdot \\\\sin\\\\left( \\\\phi \\\\right) \\\\cdot \\\\sin\\\\left( \\\\theta \\\\right) \\\\\\\\\\n\\\\sin\\\\left( \\\\phi \\\\ri\"\u001b[93m\u001b[1m ⋯ 19 bytes ⋯ \u001b[22m\u001b[39m\"t( \\\\theta \\\\right) & r \\\\cdot \\\\sin\\\\left( \\\\theta \\\\right) \\\\cdot \\\\cos\\\\left( \\\\phi \\\\right) & r \\\\cdot \\\\sin\\\\left( \\\\phi \\\\right) \\\\cdot \\\\cos\\\\left( \\\\theta \\\\right) \\\\\\\\\\n\\\\cos\\\\left( \\\\phi \\\\right) & \\\\left(  - r \\\\right) \\\\cdot \\\\sin\\\\left( \\\\phi \\\\right) & 0 \\\\\\\\\\n\\\\end{array}\\n\\\\right]\\n\\\\end{equation}\\n\""
      ]
     },
     "metadata": {},
     "output_type": "display_data"
    }
   ],
   "source": [
    "using Latexify\n",
    "x, y, z, r, phi, theta = sympy.symbols(\"x, y, z, r, theta, phi\")\n",
    "(x, y, z) = (r * sin(theta) * cos(phi), \n",
    "             r * sin(theta) * sin(phi), \n",
    "             r * cos(theta))\n",
    "X = sympy.Matrix([x, y, z])\n",
    "Y = sympy.Matrix([r, theta, phi])\n",
    "J = X.jacobian(Y)\n",
    "latexify(J)"
   ]
  },
  {
   "cell_type": "code",
   "execution_count": 32,
   "id": "fa8209ab",
   "metadata": {},
   "outputs": [
    {
     "data": {
      "text/latex": [
       "$r^{2} \\sin{\\left(\\phi \\right)}$"
      ],
      "text/plain": [
       " 2       \n",
       "r ⋅sin(φ)"
      ]
     },
     "metadata": {},
     "output_type": "display_data"
    }
   ],
   "source": [
    "sympy.simplify(J.det())"
   ]
  }
 ],
 "metadata": {
  "kernelspec": {
   "display_name": "Julia 1.10.2",
   "language": "julia",
   "name": "julia-1.10"
  },
  "language_info": {
   "file_extension": ".jl",
   "mimetype": "application/julia",
   "name": "julia",
   "version": "1.10.2"
  }
 },
 "nbformat": 4,
 "nbformat_minor": 5
}
