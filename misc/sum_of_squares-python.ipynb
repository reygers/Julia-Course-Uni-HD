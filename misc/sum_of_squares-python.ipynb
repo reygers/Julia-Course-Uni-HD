{
 "cells": [
  {
   "cell_type": "code",
   "execution_count": 3,
   "metadata": {},
   "outputs": [
    {
     "name": "stdout",
     "output_type": "stream",
     "text": [
      "333338333350000\n",
      "Elapsed time for computation: 0.008952140808105469\n"
     ]
    }
   ],
   "source": [
    "import time\n",
    "\n",
    "def sum_of_squares(n):\n",
    "    total = 0\n",
    "    for i in range(1, n+1):\n",
    "        total += i**2\n",
    "    return total\n",
    "\n",
    "start_time = time.time()\n",
    "print(sum_of_squares(10**5))\n",
    "print(\"Elapsed time for computation:\", time.time() - start_time)"
   ]
  },
  {
   "cell_type": "code",
   "execution_count": null,
   "metadata": {},
   "outputs": [],
   "source": []
  }
 ],
 "metadata": {
  "kernelspec": {
   "display_name": "default",
   "language": "python",
   "name": "python3"
  },
  "language_info": {
   "codemirror_mode": {
    "name": "ipython",
    "version": 3
   },
   "file_extension": ".py",
   "mimetype": "text/x-python",
   "name": "python",
   "nbconvert_exporter": "python",
   "pygments_lexer": "ipython3",
   "version": "3.12.2"
  }
 },
 "nbformat": 4,
 "nbformat_minor": 2
}
