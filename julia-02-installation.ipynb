{
 "cells": [
  {
   "cell_type": "markdown",
   "metadata": {
    "slideshow": {
     "slide_type": "slide"
    }
   },
   "source": [
    "<style>\n",
    "/* Set font size for headers */\n",
    "h1, h2, h3, h4, h5, h6 {\n",
    "    font-size: 32px; /* Adjust as needed */\n",
    "}\n",
    "\n",
    "/* Set font size for paragraphs */\n",
    "p, li, ul {\n",
    "    font-size: 24px; /* Adjust as needed */\n",
    "}\n",
    "\n",
    "</style>\n",
    "\n",
    "Introduction to the Julia programming language\n",
    "\n",
    "![](images/julia-logo.svg)\n",
    "\n",
    "## 2 Installing and Running Julia"
   ]
  },
  {
   "cell_type": "markdown",
   "metadata": {
    "slideshow": {
     "slide_type": "slide"
    }
   },
   "source": [
    "## Standard Installation\n",
    "\n",
    "Installing Julia is very easy:\n",
    "\n",
    "- Go to the Julia [downloads](https://julialang.org/downloads/) page\n",
    "- Pick the installer for your platform, use the *current stable release*\n",
    "- Unpack/install locally"
   ]
  },
  {
   "cell_type": "markdown",
   "metadata": {},
   "source": [
    "N.B. If you installed a tarball, you might need to add Julia's `bin` directory to your `PATH`."
   ]
  },
  {
   "cell_type": "markdown",
   "metadata": {
    "slideshow": {
     "slide_type": "slide"
    }
   },
   "source": [
    "## Running Julia\n",
    "```julia\n",
    "$ julia\n",
    "               _\n",
    "   _       _ _(_)_     |  Documentation: https://docs.julialang.org\n",
    "  (_)     | (_) (_)    |\n",
    "   _ _   _| |_  __ _   |  Type \"?\" for help, \"]?\" for Pkg help.\n",
    "  | | | | | | |/ _` |  |\n",
    "  | | |_| | | | (_| |  |  Version 1.10.2 (2024-03-01)\n",
    " _/ |\\__'_|_|_|\\__'_|  |  Official https://julialang.org/ release\n",
    "|__/                   |\n",
    "\n",
    "julia> \n",
    "```"
   ]
  },
  {
   "cell_type": "markdown",
   "metadata": {
    "slideshow": {
     "slide_type": "slide"
    }
   },
   "source": [
    "You will be to now type Julia commands in a standard **REPL** environment: *read*, *evaluate*, *print*, *loop*.\n",
    "\n",
    "This is an almost exact Julia analogue of Python's `ipython`."
   ]
  },
  {
   "cell_type": "markdown",
   "metadata": {},
   "source": [
    "```julia\n",
    "julia> println(\"hello, world!\")\n",
    "hello, world!\n",
    "\n",
    "julia> (2+3)^2\n",
    "25\n",
    "\n",
    "julia> \n",
    "```"
   ]
  },
  {
   "cell_type": "markdown",
   "metadata": {
    "slideshow": {
     "slide_type": "slide"
    }
   },
   "source": [
    "### Notebooks\n",
    "\n",
    "Julia will run in a Jupyter notebook environment, e.g., using Jupyter Lab or in VS Code."
   ]
  },
  {
   "cell_type": "markdown",
   "metadata": {
    "slideshow": {
     "slide_type": "slide"
    }
   },
   "source": [
    "### Julia Scripts\n",
    "\n",
    "Finally, let's just observe that Julia scripts work just as one would expect:\n",
    "\n",
    "```julia\n",
    "#! /usr/bin/env julia\n",
    "\n",
    "function main()\n",
    "    println(\"hello, world! let's calculate a sum of squares\")\n",
    "\n",
    "    total = 0\n",
    "    for i in 1:10\n",
    "        total += i^2\n",
    "    end\n",
    "\n",
    "    println(\"The answer is $(total)\")\n",
    "end\n",
    "\n",
    "main()\n",
    "```\n"
   ]
  },
  {
   "cell_type": "markdown",
   "metadata": {},
   "source": [
    "So let's execute that:\n",
    "\n",
    "```\n",
    "$ julia julia-script.jl\n",
    "hello, world! let's calculate a sum of squares\n",
    "The answer is 385\n",
    "```"
   ]
  },
  {
   "cell_type": "markdown",
   "metadata": {
    "slideshow": {
     "slide_type": "slide"
    }
   },
   "source": [
    "## Bonus Installation Method: `juliaup`\n",
    "\n",
    "Another way to manage a Julia install is with [Juliaup](https://github.com/JuliaLang/juliaup) - a Julia toolkit installation manager inspired by the excellent *Rustup* for the Rust programming language.\n",
    "\n",
    "Once installed, you can simply type in a terminal:\n",
    "\n",
    "```bash\n",
    "juliaup list\n",
    "```\n",
    "\n",
    "to show all the versions of Julia available.\n",
    "\n",
    "We will work with the newest version on all platforms, 1.9.3 so simply type\n",
    "\n",
    "```bash\n",
    "juliaup install 1.9.3\n",
    "```\n",
    "\n",
    "to set that up.\n",
    "\n",
    "The big bonus with `juliaup` is that you can easily have multiple Julia releases installed at once, and Juliaup will let you configure which is your default at any point in time.\n"
   ]
  }
 ],
 "metadata": {
  "kernelspec": {
   "display_name": "Julia 1.9.3",
   "language": "julia",
   "name": "julia-1.9"
  },
  "language_info": {
   "name": "julia"
  },
  "orig_nbformat": 4
 },
 "nbformat": 4,
 "nbformat_minor": 2
}
