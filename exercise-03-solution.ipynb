{
 "cells": [
  {
   "cell_type": "markdown",
   "metadata": {},
   "source": [
    "## Exercises: 3. Variables and operators"
   ]
  },
  {
   "cell_type": "markdown",
   "metadata": {},
   "source": [
    "#### Problem 1\n",
    "\n",
    "Checkout the result of the following Julia expressions:\n",
    "\n",
    "a) `x = 0.0; y = 1.0 / x`\n",
    "\n",
    "b) `z = 0.0 / 0.0`\n",
    "\n",
    "c) `sqrt(-1)`"
   ]
  },
  {
   "cell_type": "markdown",
   "metadata": {},
   "source": [
    "#### Solution"
   ]
  },
  {
   "cell_type": "code",
   "execution_count": 6,
   "metadata": {},
   "outputs": [
    {
     "data": {
      "text/plain": [
       "Inf"
      ]
     },
     "metadata": {},
     "output_type": "display_data"
    }
   ],
   "source": [
    "x = 0.0; y = 1.0 / x"
   ]
  },
  {
   "cell_type": "code",
   "execution_count": 2,
   "metadata": {},
   "outputs": [
    {
     "data": {
      "text/plain": [
       "NaN"
      ]
     },
     "metadata": {},
     "output_type": "display_data"
    }
   ],
   "source": [
    "z = 0.0 / 0.0"
   ]
  },
  {
   "cell_type": "code",
   "execution_count": 5,
   "metadata": {},
   "outputs": [
    {
     "ename": "DomainError",
     "evalue": "DomainError with -1.0:\nsqrt was called with a negative real argument but will only return a complex result if called with a complex argument. Try sqrt(Complex(x)).",
     "output_type": "error",
     "traceback": [
      "DomainError with -1.0:\n",
      "sqrt was called with a negative real argument but will only return a complex result if called with a complex argument. Try sqrt(Complex(x)).\n",
      "\n",
      "Stacktrace:\n",
      " [1] throw_complex_domainerror(f::Symbol, x::Float64)\n",
      "   @ Base.Math ./math.jl:33\n",
      " [2] sqrt(x::Float64)\n",
      "   @ Base.Math ./math.jl:686\n",
      " [3] top-level scope\n",
      "   @ ~/uni/Vorlesungen/Julia-course-uni-hd-2024/exercise-01.ipynb:1"
     ]
    }
   ],
   "source": [
    "z = sqrt(-1.)"
   ]
  },
  {
   "cell_type": "markdown",
   "metadata": {},
   "source": [
    "#### Problem 2\n",
    "\n",
    "Figure out how one makes a deep copy the array `[1, 2]` in Julia."
   ]
  },
  {
   "cell_type": "markdown",
   "metadata": {},
   "source": [
    "#### Solution"
   ]
  },
  {
   "cell_type": "code",
   "execution_count": 5,
   "metadata": {},
   "outputs": [
    {
     "name": "stdout",
     "output_type": "stream",
     "text": [
      "[1, 2]\n",
      "[1, 100]\n"
     ]
    }
   ],
   "source": [
    "original_array = [1, 2]\n",
    "deep_copied_array = deepcopy(original_array)\n",
    "\n",
    "# Modify the deep copied array\n",
    "deep_copied_array[2] = 100\n",
    "\n",
    "println(original_array)  \n",
    "println(deep_copied_array)"
   ]
  },
  {
   "cell_type": "markdown",
   "metadata": {},
   "source": [
    "There is also copy(). The following illistrates the difference between copy() and deepcopy().\n",
    "\n",
    "For an arry of immutable objects, like Floats, copy() and deepcopy() give the same result:"
   ]
  },
  {
   "cell_type": "code",
   "execution_count": 49,
   "metadata": {},
   "outputs": [
    {
     "name": "stdout",
     "output_type": "stream",
     "text": [
      "[1, 2]\n",
      "[1, 100]\n"
     ]
    }
   ],
   "source": [
    "original_array = [1, 2]\n",
    "copied_array = deepcopy(original_array)\n",
    "\n",
    "# Modify the copied array\n",
    "copied_array[2] = 100\n",
    "\n",
    "println(original_array)  \n",
    "println(copied_array)"
   ]
  },
  {
   "cell_type": "code",
   "execution_count": 45,
   "metadata": {},
   "outputs": [
    {
     "name": "stdout",
     "output_type": "stream",
     "text": [
      "Original Array: [[100, 2], [3, 4]]\n",
      "Shallow Copy: [[100, 2], [3, 4]]\n",
      "Deep Copy: [[1, 2], [3, 4]]\n"
     ]
    }
   ],
   "source": [
    "# Define a nested array\n",
    "nested_array = [[1, 2], [3, 4]]\n",
    "\n",
    "# Create a shallow copy using copy()\n",
    "shallow_copy = copy(nested_array)\n",
    "\n",
    "# Create a deep copy using deepcopy()\n",
    "deep_copy = deepcopy(nested_array)\n",
    "\n",
    "# Modify the original array\n",
    "nested_array[1][1] = 100\n",
    "\n",
    "# Print all arrays\n",
    "println(\"Original Array: \", nested_array)\n",
    "println(\"Shallow Copy: \", shallow_copy)\n",
    "println(\"Deep Copy: \", deep_copy)"
   ]
  },
  {
   "cell_type": "markdown",
   "metadata": {},
   "source": [
    "#### Problem 3\n",
    "\n",
    "Check using a regular expression whether a string conforms to the dd.mm.yyyy form."
   ]
  },
  {
   "cell_type": "markdown",
   "metadata": {},
   "source": [
    "Complete the following code:\n",
    "```julia\n",
    "const regex = ...\n",
    "\n",
    "date_str = \"31.12.2022\"\n",
    "\n",
    "if ...\n",
    "    println(\"Valid date format\")\n",
    "else\n",
    "    println(\"Invalid date format\")\n",
    "end\n",
    "```\n",
    "\n",
    "\n"
   ]
  },
  {
   "cell_type": "markdown",
   "metadata": {},
   "source": [
    "#### Solution"
   ]
  },
  {
   "cell_type": "code",
   "execution_count": 25,
   "metadata": {},
   "outputs": [
    {
     "name": "stdout",
     "output_type": "stream",
     "text": [
      "Valid date format\n"
     ]
    }
   ],
   "source": [
    "# your code here: const date_regex = ...\n",
    "const regex = r\"^(0[1-9]|[1-2][0-9]|3[0-1])\\.(0[1-9]|1[0-2])\\.(19|20)\\d{2}$\"\n",
    "\n",
    "date_str = \"31.12.2022\"\n",
    "\n",
    "if occursin(regex, date_str)\n",
    "    println(\"Valid date format\")\n",
    "else\n",
    "    println(\"Invalid date format\")\n",
    "end"
   ]
  },
  {
   "cell_type": "markdown",
   "metadata": {},
   "source": [
    "#### Problem 4\n",
    "\n",
    "Provide a julia function that only accepts as input variables of the struct typd\n",
    "\n",
    "```julia\n",
    "struct Person\n",
    "    name\n",
    "    age\n",
    "end\n",
    "```\n",
    "\n",
    "and that checks whwther the age s above 12."
   ]
  },
  {
   "cell_type": "markdown",
   "metadata": {},
   "source": [
    "#### Solution"
   ]
  },
  {
   "cell_type": "code",
   "execution_count": 28,
   "metadata": {},
   "outputs": [
    {
     "name": "stdout",
     "output_type": "stream",
     "text": [
      "The age of Alice is above 12.\n"
     ]
    }
   ],
   "source": [
    "# Define the Person struct\n",
    "struct Person\n",
    "    name\n",
    "    age\n",
    "end\n",
    "\n",
    "# Define a function to check if the age is above 12\n",
    "function check_age(person::Person)\n",
    "    if person.age > 12\n",
    "        println(\"The age of $(person.name) is above 12.\")\n",
    "    else\n",
    "        println(\"The age of $(person.name) is not above 12.\")\n",
    "    end\n",
    "end\n",
    "\n",
    "# Create a Person object\n",
    "person1 = Person(\"Alice\", 15)\n",
    "\n",
    "# Call the check_age function\n",
    "check_age(person1)"
   ]
  },
  {
   "cell_type": "markdown",
   "metadata": {},
   "source": [
    "#### Problem 5\n",
    "\n",
    "Write a function named `avoids` that takes a word and a string of forbidden letters, and that returns true if the word doesn’t use any of the forbidden letters."
   ]
  },
  {
   "cell_type": "markdown",
   "metadata": {},
   "source": [
    "#### Solution"
   ]
  },
  {
   "cell_type": "code",
   "execution_count": 30,
   "metadata": {},
   "outputs": [
    {
     "name": "stdout",
     "output_type": "stream",
     "text": [
      "The word \"apple\" doesn't contain any forbidden letters.\n"
     ]
    }
   ],
   "source": [
    "function avoids(word::AbstractString, forbidden::AbstractString)\n",
    "    for letter in forbidden\n",
    "        if occursin(letter, word)\n",
    "            return false\n",
    "        end\n",
    "    end\n",
    "    return true\n",
    "end\n",
    "\n",
    "word = \"apple\"\n",
    "forbidden_letters = \"xyz\"\n",
    "\n",
    "if avoids(word, forbidden_letters)\n",
    "    println(\"The word \\\"$word\\\" doesn't contain any forbidden letters.\")\n",
    "else\n",
    "    println(\"The word \\\"$word\\\" contains at least one forbidden letter.\")\n",
    "end"
   ]
  }
 ],
 "metadata": {
  "kernelspec": {
   "display_name": "Julia 1.10.2",
   "language": "julia",
   "name": "julia-1.10"
  },
  "language_info": {
   "file_extension": ".jl",
   "mimetype": "application/julia",
   "name": "julia",
   "version": "1.10.2"
  }
 },
 "nbformat": 4,
 "nbformat_minor": 2
}
