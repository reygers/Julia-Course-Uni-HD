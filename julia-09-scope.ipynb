{
 "cells": [
  {
   "cell_type": "markdown",
   "metadata": {},
   "source": [
    "<style>\n",
    "/* Set font size for headers */\n",
    "h1, h2, h3, h4, h5, h6 {\n",
    "    font-size: 32px; /* Adjust as needed */\n",
    "}\n",
    "\n",
    "/* Set font size for paragraphs */\n",
    "p, li, ul {\n",
    "    font-size: 24px; /* Adjust as needed */\n",
    "}\n",
    "</style>\n",
    "\n",
    "\n",
    "Introduction to the Julia programming language\n",
    "\n",
    "![](images/julia-logo.svg)\n",
    "\n",
    "## 9 Scope of Variables"
   ]
  },
  {
   "cell_type": "markdown",
   "metadata": {
    "slideshow": {
     "slide_type": "slide"
    }
   },
   "source": [
    "## In REPL, values are in Global scope"
   ]
  },
  {
   "cell_type": "code",
   "execution_count": 1,
   "metadata": {},
   "outputs": [
    {
     "data": {
      "text/plain": [
       "(3, \"Hello\")"
      ]
     },
     "metadata": {},
     "output_type": "display_data"
    }
   ],
   "source": [
    "x = \"Hello\"\n",
    "\n",
    "# \"Functions\", \"for\", \"while\", \"try-catch-finally\", \"let\"\n",
    "# all introduce new scopes (\"if\" does not)\n",
    "\n",
    "# Functions do not change variables in global scope\n",
    "function f1()\n",
    "    x = 3 # equivalent to \"local x = 3\"\n",
    "    return x\n",
    "end\n",
    "\n",
    "f1(), x"
   ]
  },
  {
   "cell_type": "code",
   "execution_count": 2,
   "metadata": {},
   "outputs": [
    {
     "data": {
      "text/plain": [
       "\"Hello\""
      ]
     },
     "metadata": {},
     "output_type": "display_data"
    }
   ],
   "source": [
    "function f2()\n",
    "    return x\n",
    "end\n",
    "\n",
    "f2()\n"
   ]
  },
  {
   "cell_type": "markdown",
   "metadata": {
    "slideshow": {
     "slide_type": "slide"
    }
   },
   "source": [
    "If a function assigns a variable, that variable is never refering to a global variable implicitly"
   ]
  },
  {
   "cell_type": "code",
   "execution_count": 3,
   "metadata": {},
   "outputs": [
    {
     "ename": "UndefVarError",
     "evalue": "UndefVarError: `x` not defined",
     "output_type": "error",
     "traceback": [
      "UndefVarError: `x` not defined\n",
      "\n",
      "Stacktrace:\n",
      " [1] f3()\n",
      "   @ Main ~/uni/Vorlesungen/Julia-Kurs 2024/notebooks/julia-09-scope.ipynb:5\n",
      " [2] top-level scope\n",
      "   @ ~/uni/Vorlesungen/Julia-Kurs 2024/notebooks/julia-09-scope.ipynb:9"
     ]
    }
   ],
   "source": [
    "function f3()\n",
    "    if randn() > 0\n",
    "        x = 3\n",
    "    end\n",
    "    return x\n",
    "end\n",
    "\n",
    "# Never says \"Hello\", x is always local\n",
    "f3()"
   ]
  },
  {
   "cell_type": "markdown",
   "metadata": {
    "slideshow": {
     "slide_type": "slide"
    }
   },
   "source": [
    "Use global to explicitly use global variables"
   ]
  },
  {
   "cell_type": "code",
   "execution_count": 4,
   "metadata": {},
   "outputs": [
    {
     "data": {
      "text/plain": [
       "(\"Hello There\", \"Hello There\")"
      ]
     },
     "metadata": {},
     "output_type": "display_data"
    }
   ],
   "source": [
    "function f4()\n",
    "    global x\n",
    "    x = \"Hello There\"\n",
    "end\n",
    "\n",
    "f4(), x"
   ]
  },
  {
   "cell_type": "markdown",
   "metadata": {
    "slideshow": {
     "slide_type": "slide"
    }
   },
   "source": [
    "Variables are inherited from non-global scope!"
   ]
  },
  {
   "cell_type": "code",
   "execution_count": 5,
   "metadata": {},
   "outputs": [
    {
     "data": {
      "text/plain": [
       "(3, 2, 3)"
      ]
     },
     "metadata": {},
     "output_type": "display_data"
    }
   ],
   "source": [
    "function g1()\n",
    "    function ginner()\n",
    "        j = 2 # Try with and without \"local\"\n",
    "        k = j + 1\n",
    "    end\n",
    "    j = 0\n",
    "    k = 0\n",
    "    return ginner(), j, k\n",
    "end\n",
    "\n",
    "g1()"
   ]
  },
  {
   "cell_type": "markdown",
   "metadata": {
    "slideshow": {
     "slide_type": "slide"
    }
   },
   "source": [
    "The scope is set by where the function or scope is introduced:"
   ]
  },
  {
   "cell_type": "code",
   "execution_count": 6,
   "metadata": {},
   "outputs": [
    {
     "data": {
      "text/plain": [
       "(3, 0, 0)"
      ]
     },
     "metadata": {},
     "output_type": "display_data"
    }
   ],
   "source": [
    "function gouter()\n",
    "    j = 2\n",
    "    k = j + 1\n",
    "end\n",
    "\n",
    "function g2()\n",
    "    j = 0\n",
    "    k = 0\n",
    "    return gouter(), j, k\n",
    "end\n",
    "\n",
    "g2()"
   ]
  },
  {
   "cell_type": "markdown",
   "metadata": {
    "slideshow": {
     "slide_type": "slide"
    }
   },
   "source": [
    "But the order does not matter!"
   ]
  },
  {
   "cell_type": "code",
   "execution_count": 10,
   "metadata": {},
   "outputs": [
    {
     "ename": "UndefVarError",
     "evalue": "UndefVarError: `odd` not defined",
     "output_type": "error",
     "traceback": [
      "UndefVarError: `odd` not defined\n",
      "\n",
      "Stacktrace:\n",
      " [1] even(n::Int64)\n",
      "   @ Main ~/uni/Vorlesungen/Julia-Kurs 2024/notebooks/julia-09-scope.ipynb:1\n",
      " [2] top-level scope\n",
      "   @ ~/uni/Vorlesungen/Julia-Kurs 2024/notebooks/julia-09-scope.ipynb:2"
     ]
    }
   ],
   "source": [
    "even(n) = (n == 0) ? true : odd(n - 1)\n",
    "even(10) # Odd is not defined at call time\n"
   ]
  },
  {
   "cell_type": "code",
   "execution_count": 11,
   "metadata": {},
   "outputs": [
    {
     "data": {
      "text/plain": [
       "true"
      ]
     },
     "metadata": {},
     "output_type": "display_data"
    }
   ],
   "source": [
    "odd(n) = (n == 0) ? false : even(n - 1)\n",
    "# But here it is\n",
    "even(1000)"
   ]
  }
 ],
 "metadata": {
  "kernelspec": {
   "display_name": "Julia 1.10.2",
   "language": "julia",
   "name": "julia-1.10"
  },
  "language_info": {
   "file_extension": ".jl",
   "mimetype": "application/julia",
   "name": "julia",
   "version": "1.10.2"
  }
 },
 "nbformat": 4,
 "nbformat_minor": 4
}
