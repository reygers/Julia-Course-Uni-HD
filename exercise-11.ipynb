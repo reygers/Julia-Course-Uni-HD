{
 "cells": [
  {
   "cell_type": "markdown",
   "metadata": {},
   "source": [
    "## Exercises: 11. Multiple Dispatch"
   ]
  },
  {
   "cell_type": "markdown",
   "metadata": {},
   "source": [
    "#### Problem 1\n",
    "\n",
    "[Modular arithmetic](https://en.wikipedia.org/wiki/Modular_arithmetic) is a system of arithmetic for integers, where numbers \"wrap around\" when reaching a certain value, called the modulus. For instance, we have \n",
    "\n",
    "$$ 7\\,\\text{mod}\\,12 + 6\\,\\text{mod}\\,12 = 1\\,\\text{mod}\\,12 \\,.$$\n",
    "\n",
    "In the code below we define a new data structure `Mod{N}` where `N` is the modulus. `Mod{N}` is a [parametric type](https://docs.julialang.org/en/v1/manual/types/#Parametric-Types).\n",
    "\n",
    "Complete the code below and add functions `+` and `*` for this new type so that can write\n",
    "\n",
    "```julia\n",
    "a = Mod{12}(6)\n",
    "b = Mod{12}(7)\n",
    "c = a + b # gives Mod{12}(1)\n",
    "d = a * b # gives Mod{12}(6)\n",
    "```\n",
    "\n",
    "\n",
    "\n",
    "\n"
   ]
  },
  {
   "cell_type": "code",
   "execution_count": 24,
   "metadata": {},
   "outputs": [],
   "source": [
    "struct Mod{N}\n",
    "    val::Int64\n",
    "    function Mod{N}(x::T) where {N,T<:Integer}\n",
    "        new(mod(x, N))\n",
    "    end\n",
    "end   \n",
    "\n",
    "import Base: +, * \n",
    "\n",
    "# your code here"
   ]
  },
  {
   "cell_type": "markdown",
   "metadata": {},
   "source": [
    "The `import Base: +, *` is needed to tell Julia that we want to extend the `+` and `*` function."
   ]
  }
 ],
 "metadata": {
  "kernelspec": {
   "display_name": "Julia 1.10.2",
   "language": "julia",
   "name": "julia-1.10"
  },
  "language_info": {
   "file_extension": ".jl",
   "mimetype": "application/julia",
   "name": "julia",
   "version": "1.10.2"
  }
 },
 "nbformat": 4,
 "nbformat_minor": 2
}
