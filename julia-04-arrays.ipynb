{
 "cells": [
  {
   "cell_type": "markdown",
   "metadata": {},
   "source": [
    "<style>\n",
    "/* Set font size for headers */\n",
    "h1, h2, h3, h4, h5, h6 {\n",
    "    font-size: 32px; /* Adjust as needed */\n",
    "}\n",
    "\n",
    "/* Set font size for paragraphs */\n",
    "p, li, ul {\n",
    "    font-size: 24px; /* Adjust as needed */\n",
    "}\n",
    "\n",
    "</style>\n",
    "\n",
    "Introduction to the Julia programming language\n",
    "\n",
    "![](images/julia-logo.svg)\n",
    "\n",
    "## 4 Arrays"
   ]
  },
  {
   "cell_type": "markdown",
   "metadata": {
    "slideshow": {
     "slide_type": "slide"
    }
   },
   "source": [
    "# Arrays\n",
    "\n",
    "Julia supports Arrays as first-class values - they're represented in the type hierarchy as a set of parameterised types (by geometry and the type of their elements).\n",
    "\n",
    "For 1-d Arrays, things look much like Python lists - in fact, an array literal containing a mix of types will work much like a Python list in all respects. We can also write \"comprehensions\" as for Python lists.\n",
    "\n",
    "Arrays holding just one type are specialised - for efficiency - to just hold that type. \n"
   ]
  },
  {
   "cell_type": "code",
   "execution_count": 1,
   "metadata": {
    "slideshow": {
     "slide_type": "slide"
    }
   },
   "outputs": [
    {
     "name": "stdout",
     "output_type": "stream",
     "text": [
      "my_list = [1, 2, 'a'] = Any[1, 2, 'a']\n",
      "my_integer_array = [1, 2, 7, 66] = [1, 2, 7, 66]\n",
      "typeof(my_integer_array) = Vector{Int64}\n",
      "my_float_array = Float64[1, 5.5, 5 // 6] = [1.0, 5.5, 0.8333333333333334]\n",
      "squared_integers = [i ^ 2 for i = 1:10] = [1, 4, 9, 16, 25, 36, 49, 64, 81, 100]\n"
     ]
    }
   ],
   "source": [
    "#you can make \"Python like\" arrays with mixed types in them\n",
    "@show my_list = [1, 2, 'a'] \n",
    "\n",
    "#but Julia will specialise an Array literal with only 1 type in it to be uniform\n",
    "@show my_integer_array = [1,2,7, 66] \n",
    "\n",
    "@show typeof(my_integer_array)\n",
    "\n",
    "@show my_float_array = Float64[1, 5.5, 5//6] #or we can explicitly impose a type\n",
    "\n",
    "@show squared_integers = [i^2 for i in 1:10];"
   ]
  },
  {
   "cell_type": "markdown",
   "metadata": {
    "slideshow": {
     "slide_type": "slide"
    }
   },
   "source": [
    "Indexing of Julia arrays starts at `1` by default, *not 0*, although arrays can be customised to have different index ranges. The keywords `begin` and `end` always refer to the first and last elements in a particular index.\n",
    "\n",
    "As well as specifying a specific index, or range of indices, Julia arrays also support other selection methods - for example, selection masks where only the  `true` elements are returned."
   ]
  },
  {
   "cell_type": "code",
   "execution_count": 2,
   "metadata": {},
   "outputs": [
    {
     "name": "stdout",
     "output_type": "stream",
     "text": [
      "my_list[1] == my_list[begin] = true\n",
      "my_integer_array[3:end] = [7, 66]\n",
      "squared_integers[mask] = [4, 16, 36, 64, 100]\n"
     ]
    }
   ],
   "source": [
    "@show my_list[1] == my_list[begin] #basic indexing\n",
    "\n",
    "@show my_integer_array[3:end] #last 2 elements\n",
    "\n",
    "mask = [ iseven(i) for i in 1:10 ] #only even values are true\n",
    "@show squared_integers[mask]; #selects only elements in the mask"
   ]
  },
  {
   "cell_type": "markdown",
   "metadata": {
    "slideshow": {
     "slide_type": "slide"
    }
   },
   "source": [
    "Appending elements to an array:"
   ]
  },
  {
   "cell_type": "code",
   "execution_count": 3,
   "metadata": {},
   "outputs": [
    {
     "data": {
      "text/plain": [
       "4-element Vector{Int64}:\n",
       " 1\n",
       " 2\n",
       " 3\n",
       " 4"
      ]
     },
     "metadata": {},
     "output_type": "display_data"
    }
   ],
   "source": [
    "a = [1, 2, 3]\n",
    "push!(a, 4)"
   ]
  },
  {
   "cell_type": "markdown",
   "metadata": {
    "slideshow": {
     "slide_type": "slide"
    }
   },
   "source": [
    "## Multi-dimensional Arrays\n",
    "\n",
    "Julia also supports multi-dimensional Arrays internally as first-class types, (that is, they're not simply \"an array of arrays\" or whatever), allowing for efficient representations of specialised data (like SparseArrays or diagonal matrices).\n",
    "\n",
    "As a result, indexing is done with a single index expression for all axes - in addition, Julia arrays are *column-major*, unlike C, Python etc."
   ]
  },
  {
   "cell_type": "code",
   "execution_count": 3,
   "metadata": {},
   "outputs": [
    {
     "name": "stdout",
     "output_type": "stream",
     "text": [
      "reflection = [[1, 0] [0, -1]] = [1 0; 0 -1]\n"
     ]
    },
    {
     "data": {
      "text/plain": [
       "\"The top-left element of reflection is 1 or 1\""
      ]
     },
     "execution_count": 3,
     "metadata": {},
     "output_type": "execute_result"
    }
   ],
   "source": [
    "@show reflection = [ [1,0] [0,-1] ]\n",
    "\n",
    "\"\"\"The top-left element of reflection is \n",
    "$(reflection[1,1]) or $(reflection[begin,begin])\"\"\""
   ]
  },
  {
   "cell_type": "markdown",
   "metadata": {
    "slideshow": {
     "slide_type": "slide"
    }
   },
   "source": [
    "Multi-dimensional array literals can be created with a terse concatenation syntax: sequences of multiple semicolons represent concatenation of sub-arrays in increasingly higher dimensions (space separation is equivalent to \"row\" and comma separation to \"column\" ordering)."
   ]
  },
  {
   "cell_type": "code",
   "execution_count": 4,
   "metadata": {},
   "outputs": [
    {
     "data": {
      "text/plain": [
       "2×2×2 Array{Int64, 3}:\n",
       "[:, :, 1] =\n",
       " 1  2\n",
       " 0  2\n",
       "\n",
       "[:, :, 2] =\n",
       " 3  0\n",
       " 3  1"
      ]
     },
     "execution_count": 4,
     "metadata": {},
     "output_type": "execute_result"
    }
   ],
   "source": [
    "threed_array = [ 1 ; 0 ;; 2 ; 2 ;;; 3 ; 3 ;; 0 ; 1 ] "
   ]
  },
  {
   "cell_type": "markdown",
   "metadata": {
    "slideshow": {
     "slide_type": "slide"
    }
   },
   "source": [
    "We can also use the fact that `for` takes the outer product of its ranges to write a compact comprehension, if our array is expressible in such a way."
   ]
  },
  {
   "cell_type": "code",
   "execution_count": 5,
   "metadata": {},
   "outputs": [
    {
     "data": {
      "text/plain": [
       "4×3×2 Array{Int64, 3}:\n",
       "[:, :, 1] =\n",
       " 0   0    0\n",
       " 1   1    1\n",
       " 2   8   32\n",
       " 3  27  243\n",
       "\n",
       "[:, :, 2] =\n",
       " 1   1    1\n",
       " 2   2    2\n",
       " 3   9   33\n",
       " 4  28  244"
      ]
     },
     "execution_count": 5,
     "metadata": {},
     "output_type": "execute_result"
    }
   ],
   "source": [
    "odd_powers_and_offset = [ i^j + k for i in 0:3, j in 1:2:5, k in 0:1 ] "
   ]
  },
  {
   "cell_type": "markdown",
   "metadata": {
    "slideshow": {
     "slide_type": "slide"
    }
   },
   "source": [
    "## Array constructors\n",
    "\n",
    "As with NumPy, there are a large number of utility methods to efficiently create Arrays of a specific type and geometry, and to reshape existing arrays."
   ]
  },
  {
   "cell_type": "code",
   "execution_count": 1,
   "metadata": {},
   "outputs": [
    {
     "name": "stdout",
     "output_type": "stream",
     "text": [
      "many_zeros = zeros(Float64, 2, 4, 3) = [0.0 0.0 0.0 0.0; 0.0 0.0 0.0 0.0;;; 0.0 0.0 0.0 0.0; 0.0 0.0 0.0 0.0;;; 0.0 0.0 0.0 0.0; 0.0 0.0 0.0 0.0]\n"
     ]
    },
    {
     "data": {
      "text/plain": [
       "2×2 Matrix{Int64}:\n",
       " 0  2\n",
       " 1  3"
      ]
     },
     "metadata": {},
     "output_type": "display_data"
    }
   ],
   "source": [
    "@show many_zeros = zeros(Float64, 2, 4, 3) #2x4x3 array, zero'd\n",
    "\n",
    "m = [0,1,2,3]\n",
    "reshape(m, (2,2)) #2x2 matrix, column-major!"
   ]
  },
  {
   "cell_type": "code",
   "execution_count": 6,
   "metadata": {
    "slideshow": {
     "slide_type": "slide"
    }
   },
   "outputs": [
    {
     "data": {
      "text/plain": [
       "2×2 Matrix{Int64}:\n",
       " 5  6\n",
       " 7  8"
      ]
     },
     "metadata": {},
     "output_type": "display_data"
    }
   ],
   "source": [
    "M1 = [1 2 ; 3 4]\n",
    "M2 = [5 6 ; 7 8]"
   ]
  },
  {
   "cell_type": "markdown",
   "metadata": {},
   "source": [
    "Concatenating vertically:"
   ]
  },
  {
   "cell_type": "code",
   "execution_count": 7,
   "metadata": {},
   "outputs": [
    {
     "data": {
      "text/plain": [
       "4×2 Matrix{Int64}:\n",
       " 1  2\n",
       " 3  4\n",
       " 5  6\n",
       " 7  8"
      ]
     },
     "metadata": {},
     "output_type": "display_data"
    }
   ],
   "source": [
    "M = [M1; M2] # same as vcat(M1, M2)"
   ]
  },
  {
   "cell_type": "markdown",
   "metadata": {},
   "source": [
    "Concatenating horizontally:"
   ]
  },
  {
   "cell_type": "code",
   "execution_count": 9,
   "metadata": {},
   "outputs": [
    {
     "data": {
      "text/plain": [
       "2×4 Matrix{Int64}:\n",
       " 1  2  5  6\n",
       " 3  4  7  8"
      ]
     },
     "metadata": {},
     "output_type": "display_data"
    }
   ],
   "source": [
    "M = [M1 M2] # same as hcat(M1, M2)"
   ]
  },
  {
   "cell_type": "markdown",
   "metadata": {
    "slideshow": {
     "slide_type": "slide"
    }
   },
   "source": [
    "## Views\n",
    "\n",
    "We can \"slice\" into an array in all dimensions with a syntax familiar from Python, but by default this creates a *copy* of the original array data."
   ]
  },
  {
   "cell_type": "code",
   "execution_count": 7,
   "metadata": {},
   "outputs": [
    {
     "name": "stdout",
     "output_type": "stream",
     "text": [
      "slice1 === slice2 = false\n"
     ]
    },
    {
     "data": {
      "text/plain": [
       "243"
      ]
     },
     "execution_count": 7,
     "metadata": {},
     "output_type": "execute_result"
    }
   ],
   "source": [
    "slice1 = odd_powers_and_offset[:,:,1]\n",
    "slice2 = odd_powers_and_offset[:,:,1]\n",
    "\n",
    "#false, because these are both different copies of the underlying data\n",
    "@show slice1 === slice2 \n",
    "\n",
    "slice1[end,end,end] = 88\n",
    "\n",
    "slice2[end,end,end] #hasn't changed because these are different memory"
   ]
  },
  {
   "cell_type": "markdown",
   "metadata": {
    "slideshow": {
     "slide_type": "slide"
    }
   },
   "source": [
    "\n",
    "Julia provides `view` to instead give us an equivalent slice which references the original array - there's no copy incurred, and as a result modifying the view modifies the corresponding elements of the source array. Views are explicitly *lazy*, so they also work well with tabular implementations that may page rows into memory or otherwise work lazily themselves.\n",
    "\n",
    "In order to make this more ergonomic, the macros `@view` (for a single slice operation) and `@views` (for an expression containing multiple slices) will convert slices into views automatically.\n",
    "\n",
    "A number of methods exist for views to inspect their parent arrays."
   ]
  },
  {
   "cell_type": "code",
   "execution_count": 8,
   "metadata": {
    "slideshow": {
     "slide_type": "slide"
    }
   },
   "outputs": [
    {
     "name": "stdout",
     "output_type": "stream",
     "text": [
      "view1 = [0 0 0; 1 1 1; 2 8 32; 3 27 243]\n",
      "view1 === view2 === view3 = true\n"
     ]
    },
    {
     "data": {
      "text/plain": [
       "88"
      ]
     },
     "execution_count": 8,
     "metadata": {},
     "output_type": "execute_result"
    }
   ],
   "source": [
    "view1 = view(odd_powers_and_offset, :, : , 1)\n",
    "view2 = @view odd_powers_and_offset[:,:,begin]\n",
    "@views view3 = odd_powers_and_offset[:,:,begin]   \n",
    "\n",
    "@show view1\n",
    "#true, because these reference the same memory\n",
    "@show view1 === view2 === view3 \n",
    "\n",
    "view1[end,end,end] = 88\n",
    "\n",
    "#has changed, as these are the same memory\n",
    "odd_powers_and_offset[end,end,1] "
   ]
  },
  {
   "cell_type": "markdown",
   "metadata": {
    "slideshow": {
     "slide_type": "slide"
    }
   },
   "source": [
    "## Transposing an array"
   ]
  },
  {
   "cell_type": "code",
   "execution_count": 10,
   "metadata": {},
   "outputs": [
    {
     "data": {
      "text/plain": [
       "4×3 adjoint(::Matrix{Int64}) with eltype Int64:\n",
       " 1  5   9\n",
       " 2  6  10\n",
       " 3  7  11\n",
       " 4  8  12"
      ]
     },
     "metadata": {},
     "output_type": "display_data"
    }
   ],
   "source": [
    "M = [1   2   3   4\n",
    "     5   6   7   8\n",
    "     9  10  11  12]\n",
    "\n",
    "M'"
   ]
  }
 ],
 "metadata": {
  "kernelspec": {
   "display_name": "Julia 1.10.2",
   "language": "julia",
   "name": "julia-1.10"
  },
  "language_info": {
   "file_extension": ".jl",
   "mimetype": "application/julia",
   "name": "julia",
   "version": "1.10.2"
  }
 },
 "nbformat": 4,
 "nbformat_minor": 2
}
